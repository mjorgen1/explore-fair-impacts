{
 "cells": [
  {
   "cell_type": "markdown",
   "metadata": {},
   "source": [
    "## 0. Imports and Arguments\n"
   ]
  },
  {
   "cell_type": "code",
   "execution_count": null,
   "metadata": {},
   "outputs": [],
   "source": [
    "import sys\n",
    "sys.path.append('../')\n",
    "from scripts.visualization_utils import delayed_impact_bar_plot\n",
    "import numpy as np\n",
    "import pandas as pd\n",
    "import matplotlib.pyplot as plt\n",
    "from scipy import stats\n",
    "import seaborn as sns;"
   ]
  },
  {
   "cell_type": "code",
   "execution_count": null,
   "metadata": {},
   "outputs": [],
   "source": [
    "data_path = '../results/demo-i-lab-i/'\n",
    "folders= ['dt','gnb','lgr','gbt']\n",
    "\n",
    "# The next four variables are set for steps 3 and 4\n",
    "dataset_folder = ['std15_m75,-150', 'std15_m100,-100','std15_m150,-75']\n",
    "parent_path = '../results' # ../results/fico_data/DI_distributions/\n",
    "constraints = ['Unmitigated','DP','EO','EOO', 'FPER', 'ERP']\n",
    "classifier = 'DT'"
   ]
  },
  {
   "cell_type": "markdown",
   "metadata": {},
   "source": [
    "## 1. Plotting Impact"
   ]
  },
  {
   "cell_type": "code",
   "execution_count": null,
   "metadata": {},
   "outputs": [],
   "source": [
    "delayed_impact_bar_plot(data_path,0,['DT','GNB','LGR','GBT'])\n",
    "delayed_impact_bar_plot(data_path,1,['DT','GNB','LGR','GBT'])"
   ]
  },
  {
   "cell_type": "markdown",
   "metadata": {},
   "source": [
    "## 2. MWU p-test results"
   ]
  },
  {
   "cell_type": "code",
   "execution_count": null,
   "metadata": {},
   "outputs": [],
   "source": [
    "path_b = f'{data_path}mwu/p_un_vs_miti_B.csv'\n",
    "df_b = pd.read_csv(path_b)\n",
    "df_b = df_b.set_index('Constraints')\n",
    "df_b[df_b >= 0.05] = 1\n",
    "df_b[df_b < 0.05] = 0\n",
    "path_w = f'{data_path}mwu/p_un_vs_miti_W.csv'\n",
    "df_w = pd.read_csv(path_w)\n",
    "df_w = df_w.set_index('Constraints')\n",
    "df_w[df_w >= 0.05] = 1\n",
    "df_w[df_w < 0.05] = 0\n",
    "df = pd.concat([df_b,df_w], axis= 1)\n",
    "sns.heatmap(df)\n",
    "plt.savefig(f'{data_path}plot_un_vs_mit_sig.png',dpi=300)"
   ]
  },
  {
   "cell_type": "markdown",
   "metadata": {},
   "source": [
    "## 3. Plotting: Impact over various DI distribution\n",
    "#### The #3 and #4 steps in this notebook only work when you have all 9 datasets and results for them from the paper."
   ]
  },
  {
   "cell_type": "code",
   "execution_count": null,
   "metadata": {},
   "outputs": [],
   "source": [
    "fig, axs = plt.subplots(ncols=1, nrows=2, figsize=(4,7),\n",
    "                        constrained_layout=True,tight_layout=False,sharex=False, sharey=False)\n",
    "fig.suptitle('Impact for Various Parameters')\n",
    "\n",
    "m = classifier\n",
    "for c in constraints:\n",
    "    line = []\n",
    "    for _,ds_f in enumerate(dataset_folder):\n",
    "        path = f'{parent_path}{ds_f}/0_DI.csv'\n",
    "        df = pd.read_csv(path)\n",
    "        df = df.set_index('Constraint')\n",
    "        line.append(df.loc[c,m])\n",
    "    axs[0].set_title(f'Group: Black | Classifier: {m}')\n",
    "    axs[0].scatter(['[-150,75]','[-100,100]','[-75,150]'],line,label = c)\n",
    "\n",
    "\n",
    "for c in constraints:\n",
    "    line = []\n",
    "    for _,ds_f in enumerate(dataset_folder):\n",
    "        path = f'{parent_path}{ds_f}/1_DI.csv'\n",
    "        df = pd.read_csv(path)\n",
    "        df = df.set_index('Constraint')\n",
    "        line.append(df.loc[c,m])\n",
    "    axs[1].set_title(f'Group: White | Classifier: {m}')\n",
    "    axs[1].scatter(['[-150,75]','[-100,100]','[-75,150]'],line,label = c)\n",
    "for ax in axs.flat:\n",
    "    ax.set(xlabel='Mean of Impact distr. ([FP,TP])', ylabel='Impact')\n",
    "    \n",
    "plt.legend(['Unmit.','DP','EO','EOO', 'FPER', 'ERP'],loc= 'lower right')\n",
    "plt.savefig(f'{parent_path}_DI_setups_{m}.png',dpi=300)\n",
    "plt.show()\n"
   ]
  },
  {
   "cell_type": "markdown",
   "metadata": {},
   "source": [
    "## 4. Plotting: Impact over all Synthetic Datasets\n",
    "#### This step only works when you have all 9 datasets and results for them from the paper."
   ]
  },
  {
   "cell_type": "code",
   "execution_count": null,
   "metadata": {},
   "outputs": [],
   "source": [
    "dataset_folder = ['00', 'b0','i0', '0b','bb','ib','0i','bi','ii']\n",
    "parent_path = '../results/fico_data/syn_orig/'\n",
    "\n",
    "constraints = ['Unmitigated','DP','EO','EOO', 'FPER', 'ERP']\n",
    "#classifier = ['DT','GNB','LGR','GBT']\n",
    "classifier = 'DT'"
   ]
  },
  {
   "cell_type": "code",
   "execution_count": null,
   "metadata": {},
   "outputs": [],
   "source": [
    "fig, axs = plt.subplots(ncols=1, nrows=2, figsize=(5,7),\n",
    "                        constrained_layout=True,tight_layout=False,sharex=False, sharey=True)\n",
    "fig.suptitle('Impact over all synthetic sets')\n",
    "m = classifier\n",
    "for c in constraints:\n",
    "    line = []\n",
    "    for _,ds_f in enumerate(dataset_folder):\n",
    "        path = f'{parent_path}{ds_f}/0_DI.csv'\n",
    "        df = pd.read_csv(path)\n",
    "        df = df.set_index('Constraint')\n",
    "        line.append(df.loc[c,m])\n",
    "    axs[0].set_title(f'Group: Black | Classifier: {m}')\n",
    "    axs[0].plot(dataset_folder,line,label = c,alpha=1)\n",
    "\n",
    "\n",
    "for c in constraints:\n",
    "    line = []\n",
    "    for _,ds_f in enumerate(dataset_folder):\n",
    "        path = f'{parent_path}{ds_f}/1_DI.csv'\n",
    "        df = pd.read_csv(path)\n",
    "        df = df.set_index('Constraint')\n",
    "        line.append(df.loc[c,m])\n",
    "    axs[1].set_title(f'Group: White | Classifier: {m}')\n",
    "    axs[1].plot(dataset_folder,line,label = c,alpha=1)\n",
    "    \n",
    "for ax in axs.flat:\n",
    "    ax.set(xlabel='Synthetic dataset', ylabel='Impact')\n",
    "    \n",
    "plt.legend()\n",
    "plt.savefig(f'{parent_path}DI_syn_{m}.png',dpi=300)\n",
    "plt.show()\n"
   ]
  }
 ],
 "metadata": {
  "kernelspec": {
   "display_name": "venv",
   "language": "python",
   "name": "venv"
  },
  "language_info": {
   "codemirror_mode": {
    "name": "ipython",
    "version": 3
   },
   "file_extension": ".py",
   "mimetype": "text/x-python",
   "name": "python",
   "nbconvert_exporter": "python",
   "pygments_lexer": "ipython3",
   "version": "3.10.12"
  }
 },
 "nbformat": 4,
 "nbformat_minor": 4
}
