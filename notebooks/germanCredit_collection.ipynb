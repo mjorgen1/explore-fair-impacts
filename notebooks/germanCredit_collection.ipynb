{
 "cells": [
  {
   "cell_type": "markdown",
   "metadata": {},
   "source": [
    "# 0. Import packages and set Parameters"
   ]
  },
  {
   "cell_type": "code",
   "execution_count": 14,
   "metadata": {},
   "outputs": [
    {
     "name": "stdout",
     "output_type": "stream",
     "text": [
      "The autoreload extension is already loaded. To reload it, use:\n",
      "  %reload_ext autoreload\n"
     ]
    }
   ],
   "source": [
    "%load_ext autoreload\n",
    "%autoreload 2\n",
    "%matplotlib inline"
   ]
  },
  {
   "cell_type": "code",
   "execution_count": 15,
   "metadata": {},
   "outputs": [],
   "source": [
    "import numpy as np\n",
    "import matplotlib.pyplot as plt\n",
    "import seaborn as sns\n",
    "\n",
    "# imports for my own code\n",
    "import pandas as pd\n",
    "import random\n",
    "from random import choices\n",
    "from scipy import stats\n",
    "from sklearn.preprocessing import LabelEncoder\n",
    "# import all of our files\n",
    "import sys\n",
    "sys.path.append('../')\n",
    "\n",
    "\n",
    "from sklearn.datasets import make_regression\n",
    "from sklearn.tree import DecisionTreeClassifier\n",
    "\n",
    "from sklearn.datasets import make_classification\n",
    "from sklearn.linear_model import LogisticRegression\n",
    "from matplotlib import pyplot\n"
   ]
  },
  {
   "cell_type": "code",
   "execution_count": 16,
   "metadata": {},
   "outputs": [],
   "source": [
    "# Parameters\n",
    "data_path = '../data/raw/german.data'\n",
    "results_dir = '../data/testing/'\n",
    "file_name = \"german_credit.csv\"\n",
    "\n",
    "\n",
    "\n",
    "shuffle_seed = 42\n",
    "round_num_scores = 2"
   ]
  },
  {
   "cell_type": "code",
   "execution_count": 17,
   "metadata": {},
   "outputs": [],
   "source": [
    "\n",
    "# Load and Prepare data\n",
    "colnames = [\"Checking account\", \"Duration\", \"Credit History\", \"Purpose\", \"Credit amount\", \"Savings account\", \n",
    "         \"Present employment\",\"Installment rate\",\"Sex\", \"Other debtors\", \"Present residence\", \"Propety\", \n",
    "         \"Age\", \"Other installment plans\", \"Hounsing\", \"No of credits\", \"Job\", \"Dependent People\", \"Telephone\",\"Foreign worker\", \"Risk\"]\n",
    "df = pd.read_csv(data_path, sep=' ', names=colnames, header=None)\n",
    "\n",
    "df['Sex'] = df['Sex'].map({'A91':1,'A92':0,'A93':1,'A94':1,'A95':0})\n",
    "df['Risk'] = (df['Risk'] == 1).astype(int)\n",
    "\n",
    "categorical_cols = [\"Checking account\", \"Credit History\", \"Purpose\", \"Savings account\", \n",
    "         \"Present employment\", \"Other debtors\", \"Propety\", \"Other installment plans\", \"Hounsing\", \"Job\", \"Telephone\",\"Foreign worker\",]\n",
    "le = LabelEncoder()\n",
    "df[categorical_cols] = df[categorical_cols].apply(lambda col: le.fit_transform(col))\n"
   ]
  },
  {
   "cell_type": "markdown",
   "metadata": {},
   "source": [
    "# 2. Convert the data in format needed"
   ]
  },
  {
   "cell_type": "code",
   "execution_count": 24,
   "metadata": {},
   "outputs": [
    {
     "name": "stdout",
     "output_type": "stream",
     "text": [
      "0.2768115942028985 0.7231884057971014\n"
     ]
    }
   ],
   "source": [
    "x = df.loc[:,[\"Duration\",\"Checking account\",  \"Credit History\", \"Purpose\", \"Credit amount\", \"Savings account\",\n",
    "         \"Present employment\",\"Installment rate\", \"Other debtors\", \"Present residence\", \"Propety\", \"Other installment plans\", \n",
    "         \"Hounsing\", \"No of credits\", \"Job\", \"Dependent People\", \"Telephone\",\"Foreign worker\", \"Age\",'Sex']].values\n",
    "y = df.loc[:,'Risk'].values\n",
    "neg = np.where((x[:, -1] == 1) & (y == 0))[0]\n",
    "pos = np.where((x[:, -1] == 1) & (y == 1))[0]\n",
    "\n",
    "\n",
    "print(len(neg)/690,len(pos)/690)"
   ]
  },
  {
   "cell_type": "markdown",
   "metadata": {},
   "source": [
    "## 3.2 Save the pandas dataframes to CSVs"
   ]
  },
  {
   "cell_type": "code",
   "execution_count": 13,
   "metadata": {},
   "outputs": [],
   "source": [
    "df.to_csv(index=False, path_or_buf=results_dir+file_name)"
   ]
  },
  {
   "cell_type": "code",
   "execution_count": null,
   "metadata": {},
   "outputs": [],
   "source": []
  }
 ],
 "metadata": {
  "kernelspec": {
   "display_name": "Python 3 (ipykernel)",
   "language": "python",
   "name": "python3"
  },
  "language_info": {
   "codemirror_mode": {
    "name": "ipython",
    "version": 3
   },
   "file_extension": ".py",
   "mimetype": "text/x-python",
   "name": "python",
   "nbconvert_exporter": "python",
   "pygments_lexer": "ipython3",
   "version": "3.8.13"
  }
 },
 "nbformat": 4,
 "nbformat_minor": 4
}
