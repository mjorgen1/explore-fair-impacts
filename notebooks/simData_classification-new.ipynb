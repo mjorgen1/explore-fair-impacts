{
 "cells": [
  {
   "cell_type": "markdown",
   "metadata": {},
   "source": [
    "# 0. IMPORTANT--Specify classifier to be trained and dataset"
   ]
  },
  {
   "cell_type": "markdown",
   "metadata": {},
   "source": [
    "# 1. Imports and Set Up"
   ]
  },
  {
   "cell_type": "code",
   "execution_count": 1,
   "metadata": {},
   "outputs": [],
   "source": [
    "import sys\n",
    "sys.path.append('../')\n",
    "import warnings\n",
    "warnings.filterwarnings('ignore', category=FutureWarning)\n",
    "\n",
    "from impt_functions import *\n",
    "from visualizations import *\n",
    "from evaluation import *\n",
    "import csv\n",
    "import os\n",
    "from itertools import zip_longest\n",
    "from sklearn.tree import DecisionTreeClassifier\n",
    "from sklearn.naive_bayes import GaussianNB\n",
    "from sklearn.linear_model import LogisticRegression\n",
    "from sklearn import svm\n",
    "from sklearn.ensemble import GradientBoostingClassifier\n",
    "from sklearn.metrics import classification_report, confusion_matrix, accuracy_score, f1_score\n",
    "import pandas as pd \n",
    "import numpy as np\n",
    "import matplotlib.pyplot as plt\n",
    "from matplotlib import colors\n",
    "from fairlearn.reductions import ExponentiatedGradient, GridSearch, DemographicParity, EqualizedOdds, \\\n",
    "    TruePositiveRateParity, FalsePositiveRateParity, ErrorRateParity, BoundedGroupLoss\n",
    "from fairlearn.metrics import *\n",
    "from raiwidgets import FairnessDashboard\n",
    "%matplotlib inline"
   ]
  },
  {
   "cell_type": "code",
   "execution_count": 2,
   "metadata": {},
   "outputs": [
    {
     "name": "stdout",
     "output_type": "stream",
     "text": [
      "Folder exists\n"
     ]
    }
   ],
   "source": [
    "models = {'Decision Tree': 'dt', 'Gaussian Naive Bayes':'gnb','Logistic Regression': 'lgr', 'Gradient_Boosted_Trees': 'gbt'}\n",
    "constraints = {'DemograficParity': 'DP', 'DemograficParity': 'EO', 'DemograficParity': 'EOO', 'DemograficParity': 'FPRP', 'DemograficParity': 'ERP'}\n",
    "reduction_algorithms = {'Exponential Gradient':'EG','Grid Search':'GS'}\n",
    "\n",
    "data_path = '../data/final/simData_oom100.csv'  # ...oom10, ...oom50, ...oom100\n",
    "results_path = '../data/results/notebook/'\n",
    "save = True\n",
    "try:\n",
    "    os.mkdir('../data/results/notebook')\n",
    "except:\n",
    "  print(\"Folder exists\")\n"
   ]
  },
  {
   "cell_type": "code",
   "execution_count": 3,
   "metadata": {},
   "outputs": [],
   "source": [
    "models_dict = {}\n",
    "overall_results_dict = {}\n",
    "black_results_dict = {}\n",
    "white_results_dict = {}\n",
    "all_scores = []\n",
    "scores_names = []\n",
    "#scores_fieldnames = ['testB', 'testW', 'unmitB', 'unmitW', 'egdpB', 'egdpW', 'egeoB', 'egeoW', 'egeooB', 'egeooW', 'egfprpB', 'egfprpW', 'egerpB', 'egerpW', 'gsdpB', 'gsdpW', 'gseoB', 'gseoW', 'gseooB', 'gseooW', 'gsfprpB', 'gsfprpW', 'gserpB', 'gserpW']"
   ]
  },
  {
   "cell_type": "code",
   "execution_count": 4,
   "metadata": {},
   "outputs": [],
   "source": [
    "model_name= models['Logistic Regression']\n",
    "try:\n",
    "    os.mkdir(f'../data/results/notebook/{model_name}')\n",
    "except:\n",
    "    print(\"Folder exists\")\n",
    "\n",
    "constraint = constraints['DemograficParity']"
   ]
  },
  {
   "cell_type": "markdown",
   "metadata": {},
   "source": [
    "# 2. Prepare data"
   ]
  },
  {
   "cell_type": "code",
   "execution_count": 5,
   "metadata": {},
   "outputs": [],
   "source": [
    "data = get_data(data_path)"
   ]
  },
  {
   "cell_type": "code",
   "execution_count": 6,
   "metadata": {},
   "outputs": [
    {
     "name": "stdout",
     "output_type": "stream",
     "text": [
      "<class 'pandas.core.frame.DataFrame'>\n",
      "       score  repay_probability  race  repay_indices\n",
      "0        570              64.16     1              0\n",
      "1        828              98.96     1              1\n",
      "2        837              99.02     1              1\n",
      "3        502              24.82     1              0\n",
      "4        534              39.92     1              0\n",
      "...      ...                ...   ...            ...\n",
      "99995    740              97.74     1              1\n",
      "99996    324               2.64     1              0\n",
      "99997    774              98.44     1              1\n",
      "99998    738              97.68     1              1\n",
      "99999    828              98.96     1              1\n",
      "\n",
      "[100000 rows x 4 columns]\n"
     ]
    }
   ],
   "source": [
    "print(type(data))\n",
    "print(data)"
   ]
  },
  {
   "cell_type": "code",
   "execution_count": 7,
   "metadata": {},
   "outputs": [],
   "source": [
    "X_train, X_test, y_train, y_test, race_train, race_test, sample_weight_train, sample_weight_test = prep_data(data=data, test_size=0.3, weight_index=1)"
   ]
  },
  {
   "cell_type": "code",
   "execution_count": 8,
   "metadata": {},
   "outputs": [],
   "source": [
    "# split up X_test by race\n",
    "X_test_b = []\n",
    "\n",
    "X_test_w = []\n",
    "\n",
    "for index in range(len(X_test)):\n",
    "    if race_test[index] == 0:  # black\n",
    "        X_test_b.append(X_test[index][0])\n",
    "    elif race_test[index] == 1:  # white\n",
    "        X_test_w.append(X_test[index][0])\n",
    "\n",
    "# given predictions+outcomes, I'll need to do the same "
   ]
  },
  {
   "cell_type": "code",
   "execution_count": 9,
   "metadata": {},
   "outputs": [],
   "source": [
    "#adding scores to list\n",
    "all_scores.extend([X_test_b,X_test_w])\n",
    "scores_names.extend(['testB', 'testW'])"
   ]
  },
  {
   "cell_type": "code",
   "execution_count": 10,
   "metadata": {},
   "outputs": [
    {
     "data": {
      "image/png": "[encoded data removed]",
      "text/plain": [
       "<Figure size 432x288 with 2 Axes>"
      ]
     },
     "metadata": {
      "needs_background": "light"
     },
     "output_type": "display_data"
    }
   ],
   "source": [
    "# make histogram of credit scores by race\n",
    "visual_scores_by_race(data)"
   ]
  },
  {
   "cell_type": "code",
   "execution_count": 11,
   "metadata": {},
   "outputs": [
    {
     "data": {
      "image/png": "[encoded data removed]",
      "text/plain": [
       "<Figure size 432x288 with 2 Axes>"
      ]
     },
     "metadata": {
      "needs_background": "light"
     },
     "output_type": "display_data"
    }
   ],
   "source": [
    "visual_repay_dist(data)"
   ]
  },
  {
   "cell_type": "markdown",
   "metadata": {},
   "source": [
    "# 3. Classifier"
   ]
  },
  {
   "cell_type": "code",
   "execution_count": 12,
   "metadata": {},
   "outputs": [
    {
     "name": "stdout",
     "output_type": "stream",
     "text": [
      "The classifier trained below is:  lgr\n"
     ]
    }
   ],
   "source": [
    "print('The classifier trained below is: ', model_name)\n",
    "\n",
    "results_path += f'{model_name}/'"
   ]
  },
  {
   "cell_type": "code",
   "execution_count": 13,
   "metadata": {},
   "outputs": [],
   "source": [
    "classifier = get_classifier(model_name)"
   ]
  },
  {
   "cell_type": "markdown",
   "metadata": {},
   "source": [
    "## Train classifier and collect predictions\n",
    "NOTE: atm sample_weight are all 1s"
   ]
  },
  {
   "cell_type": "code",
   "execution_count": 14,
   "metadata": {},
   "outputs": [],
   "source": [
    "# Reference: https://www.datacamp.com/community/tutorials/decision-tree-classification-python\n",
    "np.random.seed(0)\n",
    "\n",
    "# Train the classifier:\n",
    "model = classifier.fit(X_train,y_train, sample_weight_train)\n",
    "\n",
    "# Make predictions with the classifier:\n",
    "y_predict = model.predict(X_test)\n",
    "\n",
    "# Scores on test set\n",
    "test_scores = model.predict_proba(X_test)[:, 1]"
   ]
  },
  {
   "cell_type": "markdown",
   "metadata": {},
   "source": [
    "### Get new scores by race"
   ]
  },
  {
   "cell_type": "code",
   "execution_count": 15,
   "metadata": {},
   "outputs": [],
   "source": [
    "# think: later on I might want to create a sheet just with the TP and FP scores by race specifically\n",
    "X_unmit_b, X_unmit_w = get_new_scores(X_test, y_predict, y_test, race_test)"
   ]
  },
  {
   "cell_type": "code",
   "execution_count": 16,
   "metadata": {},
   "outputs": [],
   "source": [
    "#adding scores to list\n",
    "all_scores.extend([X_unmit_b,X_unmit_w])\n",
    "scores_names.extend(['unmitB', 'unmitW'])"
   ]
  },
  {
   "cell_type": "markdown",
   "metadata": {},
   "source": [
    "### Evaluation of classifier overall"
   ]
  },
  {
   "cell_type": "code",
   "execution_count": 17,
   "metadata": {},
   "outputs": [
    {
     "data": {
      "text/html": [
       "<div>\n",
       "<style scoped>\n",
       "    .dataframe tbody tr th:only-of-type {\n",
       "        vertical-align: middle;\n",
       "    }\n",
       "\n",
       "    .dataframe tbody tr th {\n",
       "        vertical-align: top;\n",
       "    }\n",
       "\n",
       "    .dataframe thead th {\n",
       "        text-align: right;\n",
       "    }\n",
       "</style>\n",
       "<table border=\"1\" class=\"dataframe\">\n",
       "  <thead>\n",
       "    <tr style=\"text-align: right;\">\n",
       "      <th></th>\n",
       "      <th>Unmitigated</th>\n",
       "    </tr>\n",
       "  </thead>\n",
       "  <tbody>\n",
       "    <tr>\n",
       "      <th>Overall selection rate</th>\n",
       "      <td>0.7401</td>\n",
       "    </tr>\n",
       "    <tr>\n",
       "      <th>Demographic parity difference</th>\n",
       "      <td>0.512227</td>\n",
       "    </tr>\n",
       "    <tr>\n",
       "      <th>Demographic parity ratio</th>\n",
       "      <td>0.361254</td>\n",
       "    </tr>\n",
       "    <tr>\n",
       "      <th>------</th>\n",
       "      <td></td>\n",
       "    </tr>\n",
       "    <tr>\n",
       "      <th>Overall balanced error rate</th>\n",
       "      <td>0.160758</td>\n",
       "    </tr>\n",
       "    <tr>\n",
       "      <th>Balanced error rate difference</th>\n",
       "      <td>0.007775</td>\n",
       "    </tr>\n",
       "    <tr>\n",
       "      <th>------</th>\n",
       "      <td></td>\n",
       "    </tr>\n",
       "    <tr>\n",
       "      <th>True positive rate difference</th>\n",
       "      <td>0.255026</td>\n",
       "    </tr>\n",
       "    <tr>\n",
       "      <th>True negative rate difference</th>\n",
       "      <td>0.239476</td>\n",
       "    </tr>\n",
       "    <tr>\n",
       "      <th>False positive rate difference</th>\n",
       "      <td>0.239476</td>\n",
       "    </tr>\n",
       "    <tr>\n",
       "      <th>False negative rate difference</th>\n",
       "      <td>0.255026</td>\n",
       "    </tr>\n",
       "    <tr>\n",
       "      <th>Equalized odds difference</th>\n",
       "      <td>0.255026</td>\n",
       "    </tr>\n",
       "    <tr>\n",
       "      <th>------</th>\n",
       "      <td></td>\n",
       "    </tr>\n",
       "    <tr>\n",
       "      <th>Overall AUC</th>\n",
       "      <td>0.931134</td>\n",
       "    </tr>\n",
       "    <tr>\n",
       "      <th>AUC difference</th>\n",
       "      <td>0.032953</td>\n",
       "    </tr>\n",
       "  </tbody>\n",
       "</table>\n",
       "</div>"
      ],
      "text/plain": [
       "                               Unmitigated\n",
       "Overall selection rate              0.7401\n",
       "Demographic parity difference     0.512227\n",
       "Demographic parity ratio          0.361254\n",
       "------                                    \n",
       "Overall balanced error rate       0.160758\n",
       "Balanced error rate difference    0.007775\n",
       " ------                                   \n",
       "True positive rate difference     0.255026\n",
       "True negative rate difference     0.239476\n",
       "False positive rate difference    0.239476\n",
       "False negative rate difference    0.255026\n",
       "Equalized odds difference         0.255026\n",
       "  ------                                  \n",
       "Overall AUC                       0.931134\n",
       "AUC difference                    0.032953"
      ]
     },
     "execution_count": 17,
     "metadata": {},
     "output_type": "execute_result"
    }
   ],
   "source": [
    "# Metrics\n",
    "models_dict = {\"Unmitigated\": (y_predict, test_scores)}\n",
    "get_metrics_df(models_dict, y_test, race_test)"
   ]
  },
  {
   "cell_type": "markdown",
   "metadata": {},
   "source": [
    "### Cross-validated metrics"
   ]
  },
  {
   "cell_type": "code",
   "execution_count": 18,
   "metadata": {},
   "outputs": [],
   "source": [
    "x = data[['score', 'race']].values\n",
    "y = data['repay_indices'].values"
   ]
  },
  {
   "cell_type": "code",
   "execution_count": 19,
   "metadata": {},
   "outputs": [
    {
     "name": "stdout",
     "output_type": "stream",
     "text": [
      "[0.87753569 0.87572192 0.88125195 0.87682828 0.87726261]\n"
     ]
    }
   ],
   "source": [
    "from sklearn.model_selection import cross_val_score\n",
    "scores = cross_val_score(model, x, y, cv=5, scoring='f1_weighted')\n",
    "print(scores)"
   ]
  },
  {
   "cell_type": "markdown",
   "metadata": {},
   "source": [
    "### Delayed impact calculated\n",
    "### Fairness Metric Evaluation of classifier\n",
    "### Evaluation of classifier by race"
   ]
  },
  {
   "cell_type": "code",
   "execution_count": 20,
   "metadata": {},
   "outputs": [],
   "source": [
    "constraint_str = 'Un-'\n",
    "results_overall, results_black, results_white = evaluating_model(constraint_str,X_test,y_test, y_predict, sample_weight_test,race_test)"
   ]
  },
  {
   "cell_type": "markdown",
   "metadata": {},
   "source": [
    "### Save results to dictionaries"
   ]
  },
  {
   "cell_type": "code",
   "execution_count": 21,
   "metadata": {},
   "outputs": [
    {
     "name": "stdout",
     "output_type": "stream",
     "text": [
      "{'lgr Unmitigated': [88.03, '88.03/87.82/91.74', 74.01, 74.09, 93.76, 6.24, 25.91, '8.33/38.05', 51.22, 25.5, 25.5, 23.95, 4.39]}\n",
      "{'lgr Unmitigated': [84.18, '84.18/83.87/74.61', 28.97, 91.42, 69.7, 30.3, 8.58, 8.33]}\n",
      "{'lgr Unmitigated': [88.56, '88.56/88.17/92.68', 80.19, 67.47, 95.2, 4.8, 32.53, 38.05]}\n"
     ]
    }
   ],
   "source": [
    "run_key = f'{model_name} Unmitigated'\n",
    "overall_results_dict = add_values_in_dict(overall_results_dict, run_key, results_overall)\n",
    "black_results_dict = add_values_in_dict(black_results_dict, run_key, results_black)\n",
    "white_results_dict = add_values_in_dict(white_results_dict, run_key, results_white)\n",
    "print(overall_results_dict)\n",
    "print(black_results_dict)\n",
    "print(white_results_dict)"
   ]
  },
  {
   "cell_type": "markdown",
   "metadata": {},
   "source": [
    "## Exponentiated Gradient Reduction Alg for Adding Fairness Constraints"
   ]
  },
  {
   "cell_type": "code",
   "execution_count": 22,
   "metadata": {},
   "outputs": [
    {
     "data": {
      "text/html": [
       "<style>div.output_scroll { height: 60em; }</style>"
      ],
      "text/plain": [
       "<IPython.core.display.HTML object>"
      ]
     },
     "metadata": {},
     "output_type": "display_data"
    }
   ],
   "source": [
    "from IPython.display import display, HTML\n",
    "display(HTML(\"<style>div.output_scroll { height: 60em; }</style>\"))"
   ]
  },
  {
   "cell_type": "markdown",
   "metadata": {},
   "source": [
    "### Demographic Parity"
   ]
  },
  {
   "cell_type": "code",
   "execution_count": 23,
   "metadata": {},
   "outputs": [],
   "source": [
    "mitigator, results_overall, results_black, results_white, y_pred_mitigated = add_constraint(model, 'DP', 'EG', X_train, y_train, race_train, race_test, X_test, y_test, y_predict, sample_weight_test, True)"
   ]
  },
  {
   "cell_type": "markdown",
   "metadata": {},
   "source": [
    "### Get new scores by race"
   ]
  },
  {
   "cell_type": "code",
   "execution_count": 24,
   "metadata": {},
   "outputs": [],
   "source": [
    "### Get new scores by race\n",
    "X_egDP_b, X_egDP_w = get_new_scores(X_test, y_predict, y_test, race_test)"
   ]
  },
  {
   "cell_type": "code",
   "execution_count": 25,
   "metadata": {},
   "outputs": [],
   "source": [
    "#adding scores to list\n",
    "all_scores.extend([X_egDP_b, X_egDP_w])\n",
    "scores_names.extend(['egdpB', 'egdpW'])"
   ]
  },
  {
   "cell_type": "markdown",
   "metadata": {},
   "source": [
    "### Save results to dictionaries"
   ]
  },
  {
   "cell_type": "code",
   "execution_count": 26,
   "metadata": {},
   "outputs": [
    {
     "name": "stdout",
     "output_type": "stream",
     "text": [
      "{'lgr Unmitigated': [88.03, '88.03/87.82/91.74', 74.01, 74.09, 93.76, 6.24, 25.91, '8.33/38.05', 51.22, 25.5, 25.5, 23.95, 4.39], 'lgr EG DP Mitigated': [84.66, '84.66/84.0/89.67', 77.61, 62.11, 93.91, 6.09, 37.89, '-38.58/39.01', 2.36, 37.38, 2.94, 37.38, 33.02]}\n",
      "{'lgr Unmitigated': [84.18, '84.18/83.87/74.61', 28.97, 91.42, 69.7, 30.3, 8.58, 8.33], 'lgr EG DP Mitigated': [55.62, '55.62/53.94/59.24', 75.53, 35.06, 96.69, 3.31, 64.94, -38.58]}\n",
      "{'lgr Unmitigated': [88.56, '88.56/88.17/92.68', 80.19, 67.47, 95.2, 4.8, 32.53, 38.05], 'lgr EG DP Mitigated': [88.64, '88.64/88.48/92.62', 77.89, 72.44, 93.74, 6.26, 27.56, 39.01]}\n"
     ]
    }
   ],
   "source": [
    "run_key = f'{model_name} EG DP Mitigated'\n",
    "overall_results_dict = add_values_in_dict(overall_results_dict, run_key, results_overall)\n",
    "black_results_dict = add_values_in_dict(black_results_dict, run_key, results_black)\n",
    "white_results_dict = add_values_in_dict(white_results_dict, run_key, results_white)\n",
    "print(overall_results_dict)\n",
    "print(black_results_dict)\n",
    "print(white_results_dict)"
   ]
  },
  {
   "cell_type": "markdown",
   "metadata": {},
   "source": [
    "### Equalized Odds"
   ]
  },
  {
   "cell_type": "code",
   "execution_count": 27,
   "metadata": {},
   "outputs": [],
   "source": [
    "mitigator, results_overall, results_black, results_white, y_pred_mitigated = add_constraint(model, 'EO', 'EG', X_train, y_train, race_train, race_test, X_test, y_test, y_predict, sample_weight_test, True)"
   ]
  },
  {
   "cell_type": "markdown",
   "metadata": {},
   "source": [
    "### Get new scores by race"
   ]
  },
  {
   "cell_type": "code",
   "execution_count": 28,
   "metadata": {},
   "outputs": [],
   "source": [
    "X_egEO_b, X_egEO_w = get_new_scores(X_test, y_predict, y_test, race_test)"
   ]
  },
  {
   "cell_type": "code",
   "execution_count": 29,
   "metadata": {},
   "outputs": [],
   "source": [
    "#adding scores to list\n",
    "all_scores.extend([X_egEO_b, X_egEO_w])\n",
    "scores_names.extend(['egeoB', 'egeoW'])"
   ]
  },
  {
   "cell_type": "markdown",
   "metadata": {},
   "source": [
    "### Save results to dictionaries"
   ]
  },
  {
   "cell_type": "code",
   "execution_count": 30,
   "metadata": {},
   "outputs": [
    {
     "name": "stdout",
     "output_type": "stream",
     "text": [
      "{'lgr Unmitigated': [88.03, '88.03/87.82/91.74', 74.01, 74.09, 93.76, 6.24, 25.91, '8.33/38.05', 51.22, 25.5, 25.5, 23.95, 4.39], 'lgr EG DP Mitigated': [84.66, '84.66/84.0/89.67', 77.61, 62.11, 93.91, 6.09, 37.89, '-38.58/39.01', 2.36, 37.38, 2.94, 37.38, 33.02], 'lgr EG EO Mitigated': [86.16, '86.16/86.06/90.33', 72.28, 73.85, 91.21, 8.79, 26.15, '-5.47/38.29', 28.71, 4.02, 4.02, 0.92, 9.35]}\n",
      "{'lgr Unmitigated': [84.18, '84.18/83.87/74.61', 28.97, 91.42, 69.7, 30.3, 8.58, 8.33], 'lgr EG DP Mitigated': [55.62, '55.62/53.94/59.24', 75.53, 35.06, 96.69, 3.31, 64.94, -38.58], 'lgr EG EO Mitigated': [77.93, '77.93/78.55/72.55', 47.03, 73.19, 87.42, 12.58, 26.81, -5.47]}\n",
      "{'lgr Unmitigated': [88.56, '88.56/88.17/92.68', 80.19, 67.47, 95.2, 4.8, 32.53, 38.05], 'lgr EG DP Mitigated': [88.64, '88.64/88.48/92.62', 77.89, 72.44, 93.74, 6.26, 27.56, 39.01], 'lgr EG EO Mitigated': [87.29, '87.29/87.32/91.63', 75.74, 74.11, 91.44, 8.56, 25.89, 38.29]}\n"
     ]
    }
   ],
   "source": [
    "run_key = f'{model_name} EG EO Mitigated'\n",
    "overall_results_dict = add_values_in_dict(overall_results_dict, run_key, results_overall)\n",
    "black_results_dict = add_values_in_dict(black_results_dict, run_key, results_black)\n",
    "white_results_dict = add_values_in_dict(white_results_dict, run_key, results_white)\n",
    "print(overall_results_dict)\n",
    "print(black_results_dict)\n",
    "print(white_results_dict)"
   ]
  },
  {
   "cell_type": "markdown",
   "metadata": {},
   "source": [
    "### EOO (True Positive Rate Parity)"
   ]
  },
  {
   "cell_type": "code",
   "execution_count": 31,
   "metadata": {},
   "outputs": [],
   "source": [
    "mitigator, results_overall, results_black, results_white, y_pred_mitigated = add_constraint(model, 'TPRP', 'EG', X_train, y_train, race_train, race_test, X_test, y_test, y_predict, sample_weight_test, True)"
   ]
  },
  {
   "cell_type": "markdown",
   "metadata": {},
   "source": [
    "### Get new scores by race"
   ]
  },
  {
   "cell_type": "code",
   "execution_count": 32,
   "metadata": {},
   "outputs": [],
   "source": [
    "X_egEOO_b, X_egEOO_w = get_new_scores(X_test, y_predict, y_test, race_test)"
   ]
  },
  {
   "cell_type": "code",
   "execution_count": 33,
   "metadata": {},
   "outputs": [],
   "source": [
    "#adding scores to list\n",
    "all_scores.extend([X_egEOO_b, X_egEOO_w])\n",
    "scores_names.extend(['egeooB', 'egeooW'])"
   ]
  },
  {
   "cell_type": "markdown",
   "metadata": {},
   "source": [
    "### Save results to dictionaries"
   ]
  },
  {
   "cell_type": "code",
   "execution_count": 34,
   "metadata": {},
   "outputs": [
    {
     "name": "stdout",
     "output_type": "stream",
     "text": [
      "{'lgr Unmitigated': [88.03, '88.03/87.82/91.74', 74.01, 74.09, 93.76, 6.24, 25.91, '8.33/38.05', 51.22, 25.5, 25.5, 23.95, 4.39], 'lgr EG DP Mitigated': [84.66, '84.66/84.0/89.67', 77.61, 62.11, 93.91, 6.09, 37.89, '-38.58/39.01', 2.36, 37.38, 2.94, 37.38, 33.02], 'lgr EG EO Mitigated': [86.16, '86.16/86.06/90.33', 72.28, 73.85, 91.21, 8.79, 26.15, '-5.47/38.29', 28.71, 4.02, 4.02, 0.92, 9.35], 'lgr EG EOO Mitigated': [86.69, '86.69/86.44/90.83', 74.22, 71.42, 92.96, 7.04, 28.58, '-11.6/38.98', 25.24, 6.67, 3.95, 6.67, 14.26]}\n",
      "{'lgr Unmitigated': [84.18, '84.18/83.87/74.61', 28.97, 91.42, 69.7, 30.3, 8.58, 8.33], 'lgr EG DP Mitigated': [55.62, '55.62/53.94/59.24', 75.53, 35.06, 96.69, 3.31, 64.94, -38.58], 'lgr EG EO Mitigated': [77.93, '77.93/78.55/72.55', 47.03, 73.19, 87.42, 12.58, 26.81, -5.47], 'lgr EG EOO Mitigated': [74.15, '74.15/74.87/69.73', 52.03, 66.6, 89.24, 10.76, 33.4, -11.6]}\n",
      "{'lgr Unmitigated': [88.56, '88.56/88.17/92.68', 80.19, 67.47, 95.2, 4.8, 32.53, 38.05], 'lgr EG DP Mitigated': [88.64, '88.64/88.48/92.62', 77.89, 72.44, 93.74, 6.26, 27.56, 39.01], 'lgr EG EO Mitigated': [87.29, '87.29/87.32/91.63', 75.74, 74.11, 91.44, 8.56, 25.89, 38.29], 'lgr EG EOO Mitigated': [88.42, '88.42/88.31/92.44', 77.27, 73.27, 93.19, 6.81, 26.73, 38.98]}\n"
     ]
    }
   ],
   "source": [
    "run_key = f'{model_name} EG EOO Mitigated'\n",
    "overall_results_dict = add_values_in_dict(overall_results_dict, run_key, results_overall)\n",
    "black_results_dict = add_values_in_dict(black_results_dict, run_key, results_black)\n",
    "white_results_dict = add_values_in_dict(white_results_dict, run_key, results_white)\n",
    "print(overall_results_dict)\n",
    "print(black_results_dict)\n",
    "print(white_results_dict)"
   ]
  },
  {
   "cell_type": "markdown",
   "metadata": {},
   "source": [
    "### False Positive Rate Parity"
   ]
  },
  {
   "cell_type": "code",
   "execution_count": 35,
   "metadata": {},
   "outputs": [],
   "source": [
    "mitigator, results_overall, results_black, results_white, y_pred_mitigated = add_constraint(model, 'FPRP', 'EG', X_train, y_train, race_train, race_test, X_test, y_test, y_predict, sample_weight_test, True)"
   ]
  },
  {
   "cell_type": "markdown",
   "metadata": {},
   "source": [
    "### Get new scores by race"
   ]
  },
  {
   "cell_type": "code",
   "execution_count": 36,
   "metadata": {},
   "outputs": [],
   "source": [
    "X_egFPRP_b, X_egFPRP_w = get_new_scores(X_test, y_predict, y_test, race_test)"
   ]
  },
  {
   "cell_type": "code",
   "execution_count": 37,
   "metadata": {},
   "outputs": [],
   "source": [
    "#adding scores to list\n",
    "all_scores.extend([X_egFPRP_b, X_egFPRP_w])\n",
    "scores_names.extend(['egfprpB', 'egfprpW'])"
   ]
  },
  {
   "cell_type": "markdown",
   "metadata": {},
   "source": [
    "### Save results to dictionaries"
   ]
  },
  {
   "cell_type": "code",
   "execution_count": 38,
   "metadata": {},
   "outputs": [
    {
     "name": "stdout",
     "output_type": "stream",
     "text": [
      "{'lgr Unmitigated': [88.03, '88.03/87.82/91.74', 74.01, 74.09, 93.76, 6.24, 25.91, '8.33/38.05', 51.22, 25.5, 25.5, 23.95, 4.39], 'lgr EG DP Mitigated': [84.66, '84.66/84.0/89.67', 77.61, 62.11, 93.91, 6.09, 37.89, '-38.58/39.01', 2.36, 37.38, 2.94, 37.38, 33.02], 'lgr EG EO Mitigated': [86.16, '86.16/86.06/90.33', 72.28, 73.85, 91.21, 8.79, 26.15, '-5.47/38.29', 28.71, 4.02, 4.02, 0.92, 9.35], 'lgr EG EOO Mitigated': [86.69, '86.69/86.44/90.83', 74.22, 71.42, 92.96, 7.04, 28.58, '-11.6/38.98', 25.24, 6.67, 3.95, 6.67, 14.26], 'lgr EG FPRP Mitigated': [87.35, '87.35/87.09/91.3', 74.5, 72.09, 93.62, 6.38, 27.91, '-4.95/38.8', 31.68, 6.66, 6.66, 2.26, 10.34]}\n",
      "{'lgr Unmitigated': [84.18, '84.18/83.87/74.61', 28.97, 91.42, 69.7, 30.3, 8.58, 8.33], 'lgr EG DP Mitigated': [55.62, '55.62/53.94/59.24', 75.53, 35.06, 96.69, 3.31, 64.94, -38.58], 'lgr EG EO Mitigated': [77.93, '77.93/78.55/72.55', 47.03, 73.19, 87.42, 12.58, 26.81, -5.47], 'lgr EG EOO Mitigated': [74.15, '74.15/74.87/69.73', 52.03, 66.6, 89.24, 10.76, 33.4, -11.6], 'lgr EG FPRP Mitigated': [78.27, '78.27/78.87/72.83', 46.64, 73.73, 87.33, 12.67, 26.27, -4.95]}\n",
      "{'lgr Unmitigated': [88.56, '88.56/88.17/92.68', 80.19, 67.47, 95.2, 4.8, 32.53, 38.05], 'lgr EG DP Mitigated': [88.64, '88.64/88.48/92.62', 77.89, 72.44, 93.74, 6.26, 27.56, 39.01], 'lgr EG EO Mitigated': [87.29, '87.29/87.32/91.63', 75.74, 74.11, 91.44, 8.56, 25.89, 38.29], 'lgr EG EOO Mitigated': [88.42, '88.42/88.31/92.44', 77.27, 73.27, 93.19, 6.81, 26.73, 38.98], 'lgr EG FPRP Mitigated': [88.6, '88.6/88.4/92.62', 78.32, 71.46, 94.0, 6.0, 28.54, 38.8]}\n"
     ]
    }
   ],
   "source": [
    "run_key = f'{model_name} EG FPRP Mitigated'\n",
    "overall_results_dict = add_values_in_dict(overall_results_dict, run_key, results_overall)\n",
    "black_results_dict = add_values_in_dict(black_results_dict, run_key, results_black)\n",
    "white_results_dict = add_values_in_dict(white_results_dict, run_key, results_white)\n",
    "print(overall_results_dict)\n",
    "print(black_results_dict)\n",
    "print(white_results_dict)"
   ]
  },
  {
   "cell_type": "markdown",
   "metadata": {},
   "source": [
    "### Error Rate Parity"
   ]
  },
  {
   "cell_type": "code",
   "execution_count": 39,
   "metadata": {},
   "outputs": [],
   "source": [
    "mitigator, results_overall, results_black, results_white, y_pred_mitigated = add_constraint(model, 'ERP', 'EG', X_train, y_train, race_train, race_test, X_test, y_test, y_predict, sample_weight_test, True)"
   ]
  },
  {
   "cell_type": "markdown",
   "metadata": {},
   "source": [
    "### Get new scores by race"
   ]
  },
  {
   "cell_type": "code",
   "execution_count": 40,
   "metadata": {},
   "outputs": [],
   "source": [
    "X_egERP_b, X_egERP_w = get_new_scores(X_test, y_predict, y_test, race_test)"
   ]
  },
  {
   "cell_type": "code",
   "execution_count": 41,
   "metadata": {},
   "outputs": [],
   "source": [
    "#adding scores to list\n",
    "all_scores.extend([X_egERP_b, X_egERP_w])\n",
    "scores_names.extend(['egerpB', 'egerpW'])"
   ]
  },
  {
   "cell_type": "markdown",
   "metadata": {},
   "source": [
    "### Save results to dictionaries"
   ]
  },
  {
   "cell_type": "code",
   "execution_count": 42,
   "metadata": {
    "scrolled": true
   },
   "outputs": [
    {
     "name": "stdout",
     "output_type": "stream",
     "text": [
      "{'lgr Unmitigated': [88.03, '88.03/87.82/91.74', 74.01, 74.09, 93.76, 6.24, 25.91, '8.33/38.05', 51.22, 25.5, 25.5, 23.95, 4.39], 'lgr EG DP Mitigated': [84.66, '84.66/84.0/89.67', 77.61, 62.11, 93.91, 6.09, 37.89, '-38.58/39.01', 2.36, 37.38, 2.94, 37.38, 33.02], 'lgr EG EO Mitigated': [86.16, '86.16/86.06/90.33', 72.28, 73.85, 91.21, 8.79, 26.15, '-5.47/38.29', 28.71, 4.02, 4.02, 0.92, 9.35], 'lgr EG EOO Mitigated': [86.69, '86.69/86.44/90.83', 74.22, 71.42, 92.96, 7.04, 28.58, '-11.6/38.98', 25.24, 6.67, 3.95, 6.67, 14.26], 'lgr EG FPRP Mitigated': [87.35, '87.35/87.09/91.3', 74.5, 72.09, 93.62, 6.38, 27.91, '-4.95/38.8', 31.68, 6.66, 6.66, 2.26, 10.34], 'lgr EG ERP Mitigated': [85.37, '85.37/85.4/89.65', 70.49, 75.56, 89.4, 10.6, 24.44, '8.33/36.15', 47.22, 21.92, 20.88, 21.92, 1.36]}\n",
      "{'lgr Unmitigated': [84.18, '84.18/83.87/74.61', 28.97, 91.42, 69.7, 30.3, 8.58, 8.33], 'lgr EG DP Mitigated': [55.62, '55.62/53.94/59.24', 75.53, 35.06, 96.69, 3.31, 64.94, -38.58], 'lgr EG EO Mitigated': [77.93, '77.93/78.55/72.55', 47.03, 73.19, 87.42, 12.58, 26.81, -5.47], 'lgr EG EOO Mitigated': [74.15, '74.15/74.87/69.73', 52.03, 66.6, 89.24, 10.76, 33.4, -11.6], 'lgr EG FPRP Mitigated': [78.27, '78.27/78.87/72.83', 46.64, 73.73, 87.33, 12.67, 26.27, -4.95], 'lgr EG ERP Mitigated': [84.18, '84.18/83.87/74.61', 28.97, 91.42, 69.7, 30.3, 8.58, 8.33]}\n",
      "{'lgr Unmitigated': [88.56, '88.56/88.17/92.68', 80.19, 67.47, 95.2, 4.8, 32.53, 38.05], 'lgr EG DP Mitigated': [88.64, '88.64/88.48/92.62', 77.89, 72.44, 93.74, 6.26, 27.56, 39.01], 'lgr EG EO Mitigated': [87.29, '87.29/87.32/91.63', 75.74, 74.11, 91.44, 8.56, 25.89, 38.29], 'lgr EG EOO Mitigated': [88.42, '88.42/88.31/92.44', 77.27, 73.27, 93.19, 6.81, 26.73, 38.98], 'lgr EG FPRP Mitigated': [88.6, '88.6/88.4/92.62', 78.32, 71.46, 94.0, 6.0, 28.54, 38.8], 'lgr EG ERP Mitigated': [85.53, '85.53/85.52/90.5', 76.19, 69.5, 90.58, 9.42, 30.5, 36.15]}\n"
     ]
    }
   ],
   "source": [
    "run_key = f'{model_name} EG ERP Mitigated'\n",
    "overall_results_dict = add_values_in_dict(overall_results_dict, run_key, results_overall)\n",
    "black_results_dict = add_values_in_dict(black_results_dict, run_key, results_black)\n",
    "white_results_dict = add_values_in_dict(white_results_dict, run_key, results_white)\n",
    "print(overall_results_dict)\n",
    "print(black_results_dict)\n",
    "print(white_results_dict)"
   ]
  },
  {
   "cell_type": "markdown",
   "metadata": {},
   "source": [
    "## Grid Search Reduction Alg for Adding Fairness Constraints"
   ]
  },
  {
   "cell_type": "markdown",
   "metadata": {},
   "source": [
    "### Demographic Parity"
   ]
  },
  {
   "cell_type": "code",
   "execution_count": 44,
   "metadata": {},
   "outputs": [],
   "source": [
    "mitigator, results_overall, results_black, results_white, y_pred_mitigated = add_constraint(model, 'DP', 'GS', X_train, y_train, race_train, race_test, X_test, y_test, y_predict, sample_weight_test, True)"
   ]
  },
  {
   "cell_type": "code",
   "execution_count": 45,
   "metadata": {},
   "outputs": [
    {
     "name": "stdout",
     "output_type": "stream",
     "text": [
      "sign  event  group_id\n",
      "+     all    0           0.0\n",
      "             1           0.0\n",
      "-     all    0           0.0\n",
      "             1           2.0\n",
      "Name: 0, dtype: float64\n"
     ]
    }
   ],
   "source": [
    "# We can examine the values of lambda_i chosen for us:\n",
    "lambda_vecs = mitigator.lambda_vecs_\n",
    "print(lambda_vecs[0])"
   ]
  },
  {
   "cell_type": "markdown",
   "metadata": {},
   "source": [
    "The next few cells come from: https://github.com/fairlearn/fairlearn/blob/main/notebooks/Binary%20Classification%20with%20the%20UCI%20Credit-card%20Default%20Dataset.ipynb\n",
    "\n",
    "Note: we train multiple models corresponding to different trade-off points between the performance metric (balanced accuracy) and fairness metric."
   ]
  },
  {
   "cell_type": "code",
   "execution_count": 46,
   "metadata": {},
   "outputs": [
    {
     "data": {
      "image/png": "[encoded data removed]",
      "text/plain": [
       "<Figure size 432x288 with 1 Axes>"
      ]
     },
     "metadata": {
      "needs_background": "light"
     },
     "output_type": "display_data"
    },
    {
     "data": {
      "text/plain": [
       "{'Unmitigated': (array([1, 1, 1, ..., 0, 0, 1], dtype=int64),\n",
       "  array([0.98671422, 0.62642342, 0.65237631, ..., 0.40067754, 0.01045687,\n",
       "         0.77094103])),\n",
       " 'GS DPD': (array([1, 1, 1, ..., 0, 0, 1]),\n",
       "  array([0.98354991, 0.57470634, 0.60196188, ..., 0.35018675, 0.00845557,\n",
       "         0.96858302]))}"
      ]
     },
     "execution_count": 46,
     "metadata": {},
     "output_type": "execute_result"
    }
   ],
   "source": [
    "grid_search_show(mitigator, demographic_parity_difference, y_predict, X_test, y_test, race_test, 'DemParityDifference','GS DPD', models_dict, 0.3)"
   ]
  },
  {
   "cell_type": "code",
   "execution_count": 47,
   "metadata": {},
   "outputs": [
    {
     "data": {
      "text/plain": [
       "{'Unmitigated': (array([1, 1, 1, ..., 0, 0, 1], dtype=int64),\n",
       "  array([0.98671422, 0.62642342, 0.65237631, ..., 0.40067754, 0.01045687,\n",
       "         0.77094103]))}"
      ]
     },
     "execution_count": 47,
     "metadata": {},
     "output_type": "execute_result"
    }
   ],
   "source": [
    "models_dict.pop('GS DPD')\n",
    "models_dict"
   ]
  },
  {
   "cell_type": "markdown",
   "metadata": {},
   "source": [
    "### Get new scores by race"
   ]
  },
  {
   "cell_type": "code",
   "execution_count": 48,
   "metadata": {},
   "outputs": [],
   "source": [
    "X_gsDP_b, X_gsDP_w = get_new_scores(X_test, y_predict, y_test, race_test)"
   ]
  },
  {
   "cell_type": "code",
   "execution_count": 49,
   "metadata": {},
   "outputs": [],
   "source": [
    "#adding scores to list\n",
    "all_scores.extend([X_gsDP_b, X_gsDP_w ])\n",
    "scores_names.extend(['gsdpB', 'gsdpW'])"
   ]
  },
  {
   "cell_type": "markdown",
   "metadata": {},
   "source": [
    "### Save results to dictionaries"
   ]
  },
  {
   "cell_type": "code",
   "execution_count": 50,
   "metadata": {},
   "outputs": [
    {
     "name": "stdout",
     "output_type": "stream",
     "text": [
      "{'lgr Unmitigated': [88.03, '88.03/87.82/91.74', 74.01, 74.09, 93.76, 6.24, 25.91, '8.33/38.05', 51.22, 25.5, 25.5, 23.95, 4.39], 'lgr EG DP Mitigated': [84.66, '84.66/84.0/89.67', 77.61, 62.11, 93.91, 6.09, 37.89, '-38.58/39.01', 2.36, 37.38, 2.94, 37.38, 33.02], 'lgr EG EO Mitigated': [86.16, '86.16/86.06/90.33', 72.28, 73.85, 91.21, 8.79, 26.15, '-5.47/38.29', 28.71, 4.02, 4.02, 0.92, 9.35], 'lgr EG EOO Mitigated': [86.69, '86.69/86.44/90.83', 74.22, 71.42, 92.96, 7.04, 28.58, '-11.6/38.98', 25.24, 6.67, 3.95, 6.67, 14.26], 'lgr EG FPRP Mitigated': [87.35, '87.35/87.09/91.3', 74.5, 72.09, 93.62, 6.38, 27.91, '-4.95/38.8', 31.68, 6.66, 6.66, 2.26, 10.34], 'lgr EG ERP Mitigated': [85.37, '85.37/85.4/89.65', 70.49, 75.56, 89.4, 10.6, 24.44, '8.33/36.15', 47.22, 21.92, 20.88, 21.92, 1.36], 'lgr GS DP Mitigated': [86.11, '86.11/85.65/90.57', 76.38, 66.73, 94.07, 5.93, 33.27, '-22.37/38.8', 17.92, 16.04, 2.14, 16.04, 21.24]}\n",
      "{'lgr Unmitigated': [84.18, '84.18/83.87/74.61', 28.97, 91.42, 69.7, 30.3, 8.58, 8.33], 'lgr EG DP Mitigated': [55.62, '55.62/53.94/59.24', 75.53, 35.06, 96.69, 3.31, 64.94, -38.58], 'lgr EG EO Mitigated': [77.93, '77.93/78.55/72.55', 47.03, 73.19, 87.42, 12.58, 26.81, -5.47], 'lgr EG EOO Mitigated': [74.15, '74.15/74.87/69.73', 52.03, 66.6, 89.24, 10.76, 33.4, -11.6], 'lgr EG FPRP Mitigated': [78.27, '78.27/78.87/72.83', 46.64, 73.73, 87.33, 12.67, 26.27, -4.95], 'lgr EG ERP Mitigated': [84.18, '84.18/83.87/74.61', 28.97, 91.42, 69.7, 30.3, 8.58, 8.33], 'lgr GS DP Mitigated': [67.44, '67.44/67.98/65.35', 60.62, 55.12, 92.05, 7.95, 44.88, -22.37]}\n",
      "{'lgr Unmitigated': [88.56, '88.56/88.17/92.68', 80.19, 67.47, 95.2, 4.8, 32.53, 38.05], 'lgr EG DP Mitigated': [88.64, '88.64/88.48/92.62', 77.89, 72.44, 93.74, 6.26, 27.56, 39.01], 'lgr EG EO Mitigated': [87.29, '87.29/87.32/91.63', 75.74, 74.11, 91.44, 8.56, 25.89, 38.29], 'lgr EG EOO Mitigated': [88.42, '88.42/88.31/92.44', 77.27, 73.27, 93.19, 6.81, 26.73, 38.98], 'lgr EG FPRP Mitigated': [88.6, '88.6/88.4/92.62', 78.32, 71.46, 94.0, 6.0, 28.54, 38.8], 'lgr EG ERP Mitigated': [85.53, '85.53/85.52/90.5', 76.19, 69.5, 90.58, 9.42, 30.5, 36.15], 'lgr GS DP Mitigated': [88.68, '88.68/88.46/92.68', 78.54, 71.16, 94.19, 5.81, 28.84, 38.8]}\n"
     ]
    }
   ],
   "source": [
    "run_key = f'{model_name} GS DP Mitigated'\n",
    "overall_results_dict = add_values_in_dict(overall_results_dict, run_key, results_overall)\n",
    "black_results_dict = add_values_in_dict(black_results_dict, run_key, results_black)\n",
    "white_results_dict = add_values_in_dict(white_results_dict, run_key, results_white)\n",
    "print(overall_results_dict)\n",
    "print(black_results_dict)\n",
    "print(white_results_dict)"
   ]
  },
  {
   "cell_type": "markdown",
   "metadata": {},
   "source": [
    "### Equalized Odds Used"
   ]
  },
  {
   "cell_type": "code",
   "execution_count": 51,
   "metadata": {},
   "outputs": [],
   "source": [
    "mitigator, results_overall, results_black, results_white, y_pred_mitigated = add_constraint(model, 'EO', 'GS', X_train, y_train, race_train, race_test, X_test, y_test, y_predict, sample_weight_test, True)"
   ]
  },
  {
   "cell_type": "code",
   "execution_count": 52,
   "metadata": {},
   "outputs": [
    {
     "name": "stdout",
     "output_type": "stream",
     "text": [
      "sign  event    group_id\n",
      "+     label=0  0           0.0\n",
      "               1           0.0\n",
      "      label=1  0           0.0\n",
      "               1           0.0\n",
      "-     label=0  0           0.0\n",
      "               1           0.0\n",
      "      label=1  0           0.0\n",
      "               1           2.0\n",
      "Name: 0, dtype: float64\n"
     ]
    }
   ],
   "source": [
    "# We can examine the values of lambda_i chosen for us:\n",
    "lambda_vecs = mitigator.lambda_vecs_\n",
    "print(lambda_vecs[0])"
   ]
  },
  {
   "cell_type": "code",
   "execution_count": 53,
   "metadata": {},
   "outputs": [
    {
     "data": {
      "image/png": "[encoded data removed]",
      "text/plain": [
       "<Figure size 432x288 with 1 Axes>"
      ]
     },
     "metadata": {
      "needs_background": "light"
     },
     "output_type": "display_data"
    },
    {
     "data": {
      "text/plain": [
       "{'Unmitigated': (array([1, 1, 1, ..., 0, 0, 1], dtype=int64),\n",
       "  array([0.98671422, 0.62642342, 0.65237631, ..., 0.40067754, 0.01045687,\n",
       "         0.77094103])),\n",
       " 'GS EO': (array([1, 1, 1, ..., 0, 0, 1]),\n",
       "  array([0.98671422, 0.62642342, 0.65237631, ..., 0.40067754, 0.01045687,\n",
       "         0.77094103]))}"
      ]
     },
     "execution_count": 53,
     "metadata": {},
     "output_type": "execute_result"
    }
   ],
   "source": [
    "grid_search_show(mitigator, equalized_odds_difference, y_predict, X_test, y_test, race_test, 'EOddsDifference','GS EO', models_dict, 0.3)"
   ]
  },
  {
   "cell_type": "code",
   "execution_count": 54,
   "metadata": {},
   "outputs": [
    {
     "data": {
      "text/plain": [
       "{'Unmitigated': (array([1, 1, 1, ..., 0, 0, 1], dtype=int64),\n",
       "  array([0.98671422, 0.62642342, 0.65237631, ..., 0.40067754, 0.01045687,\n",
       "         0.77094103]))}"
      ]
     },
     "execution_count": 54,
     "metadata": {},
     "output_type": "execute_result"
    }
   ],
   "source": [
    "models_dict.pop('GS EO')\n",
    "models_dict"
   ]
  },
  {
   "cell_type": "markdown",
   "metadata": {},
   "source": [
    "### Get new scores by race"
   ]
  },
  {
   "cell_type": "code",
   "execution_count": 55,
   "metadata": {},
   "outputs": [],
   "source": [
    "X_gsEO_b, X_gsEO_w = get_new_scores(X_test, y_predict, y_test, race_test)"
   ]
  },
  {
   "cell_type": "code",
   "execution_count": 56,
   "metadata": {},
   "outputs": [],
   "source": [
    "#adding scores to list\n",
    "all_scores.extend([X_gsEO_b, X_gsEO_w])\n",
    "scores_names.extend(['gseoB', 'gseoW'])"
   ]
  },
  {
   "cell_type": "markdown",
   "metadata": {},
   "source": [
    "### Save results to dictionaries"
   ]
  },
  {
   "cell_type": "code",
   "execution_count": 57,
   "metadata": {},
   "outputs": [
    {
     "name": "stdout",
     "output_type": "stream",
     "text": [
      "{'lgr Unmitigated': [88.03, '88.03/87.82/91.74', 74.01, 74.09, 93.76, 6.24, 25.91, '8.33/38.05', 51.22, 25.5, 25.5, 23.95, 4.39], 'lgr EG DP Mitigated': [84.66, '84.66/84.0/89.67', 77.61, 62.11, 93.91, 6.09, 37.89, '-38.58/39.01', 2.36, 37.38, 2.94, 37.38, 33.02], 'lgr EG EO Mitigated': [86.16, '86.16/86.06/90.33', 72.28, 73.85, 91.21, 8.79, 26.15, '-5.47/38.29', 28.71, 4.02, 4.02, 0.92, 9.35], 'lgr EG EOO Mitigated': [86.69, '86.69/86.44/90.83', 74.22, 71.42, 92.96, 7.04, 28.58, '-11.6/38.98', 25.24, 6.67, 3.95, 6.67, 14.26], 'lgr EG FPRP Mitigated': [87.35, '87.35/87.09/91.3', 74.5, 72.09, 93.62, 6.38, 27.91, '-4.95/38.8', 31.68, 6.66, 6.66, 2.26, 10.34], 'lgr EG ERP Mitigated': [85.37, '85.37/85.4/89.65', 70.49, 75.56, 89.4, 10.6, 24.44, '8.33/36.15', 47.22, 21.92, 20.88, 21.92, 1.36], 'lgr GS DP Mitigated': [86.11, '86.11/85.65/90.57', 76.38, 66.73, 94.07, 5.93, 33.27, '-22.37/38.8', 17.92, 16.04, 2.14, 16.04, 21.24], 'lgr GS EO Mitigated': [88.03, '88.03/87.82/91.74', 74.01, 74.09, 93.76, 6.24, 25.91, '8.33/38.05', 51.22, 25.5, 25.5, 23.95, 4.39]}\n",
      "{'lgr Unmitigated': [84.18, '84.18/83.87/74.61', 28.97, 91.42, 69.7, 30.3, 8.58, 8.33], 'lgr EG DP Mitigated': [55.62, '55.62/53.94/59.24', 75.53, 35.06, 96.69, 3.31, 64.94, -38.58], 'lgr EG EO Mitigated': [77.93, '77.93/78.55/72.55', 47.03, 73.19, 87.42, 12.58, 26.81, -5.47], 'lgr EG EOO Mitigated': [74.15, '74.15/74.87/69.73', 52.03, 66.6, 89.24, 10.76, 33.4, -11.6], 'lgr EG FPRP Mitigated': [78.27, '78.27/78.87/72.83', 46.64, 73.73, 87.33, 12.67, 26.27, -4.95], 'lgr EG ERP Mitigated': [84.18, '84.18/83.87/74.61', 28.97, 91.42, 69.7, 30.3, 8.58, 8.33], 'lgr GS DP Mitigated': [67.44, '67.44/67.98/65.35', 60.62, 55.12, 92.05, 7.95, 44.88, -22.37], 'lgr GS EO Mitigated': [84.18, '84.18/83.87/74.61', 28.97, 91.42, 69.7, 30.3, 8.58, 8.33]}\n",
      "{'lgr Unmitigated': [88.56, '88.56/88.17/92.68', 80.19, 67.47, 95.2, 4.8, 32.53, 38.05], 'lgr EG DP Mitigated': [88.64, '88.64/88.48/92.62', 77.89, 72.44, 93.74, 6.26, 27.56, 39.01], 'lgr EG EO Mitigated': [87.29, '87.29/87.32/91.63', 75.74, 74.11, 91.44, 8.56, 25.89, 38.29], 'lgr EG EOO Mitigated': [88.42, '88.42/88.31/92.44', 77.27, 73.27, 93.19, 6.81, 26.73, 38.98], 'lgr EG FPRP Mitigated': [88.6, '88.6/88.4/92.62', 78.32, 71.46, 94.0, 6.0, 28.54, 38.8], 'lgr EG ERP Mitigated': [85.53, '85.53/85.52/90.5', 76.19, 69.5, 90.58, 9.42, 30.5, 36.15], 'lgr GS DP Mitigated': [88.68, '88.68/88.46/92.68', 78.54, 71.16, 94.19, 5.81, 28.84, 38.8], 'lgr GS EO Mitigated': [88.56, '88.56/88.17/92.68', 80.19, 67.47, 95.2, 4.8, 32.53, 38.05]}\n"
     ]
    }
   ],
   "source": [
    "run_key = f'{model_name} GS EO Mitigated'\n",
    "overall_results_dict = add_values_in_dict(overall_results_dict, run_key, results_overall)\n",
    "black_results_dict = add_values_in_dict(black_results_dict, run_key, results_black)\n",
    "white_results_dict = add_values_in_dict(white_results_dict, run_key, results_white)\n",
    "print(overall_results_dict)\n",
    "print(black_results_dict)\n",
    "print(white_results_dict)"
   ]
  },
  {
   "cell_type": "markdown",
   "metadata": {},
   "source": [
    "### EOO (True Positive Rate Parity)"
   ]
  },
  {
   "cell_type": "code",
   "execution_count": 58,
   "metadata": {},
   "outputs": [],
   "source": [
    "mitigator, results_overall, results_black, results_white, y_pred_mitigated = add_constraint(model, 'TPRP', 'GS', X_train, y_train, race_train, race_test, X_test, y_test, y_predict, sample_weight_test, True)"
   ]
  },
  {
   "cell_type": "code",
   "execution_count": 59,
   "metadata": {},
   "outputs": [
    {
     "name": "stdout",
     "output_type": "stream",
     "text": [
      "sign  event    group_id\n",
      "+     label=1  0           0.0\n",
      "               1           0.0\n",
      "-     label=1  0           0.0\n",
      "               1           2.0\n",
      "Name: 0, dtype: float64\n"
     ]
    }
   ],
   "source": [
    "# We can examine the values of lambda_i chosen for us:\n",
    "lambda_vecs = mitigator.lambda_vecs_\n",
    "print(lambda_vecs[0])"
   ]
  },
  {
   "cell_type": "code",
   "execution_count": 60,
   "metadata": {},
   "outputs": [
    {
     "data": {
      "image/png": "[encoded data removed]",
      "text/plain": [
       "<Figure size 432x288 with 1 Axes>"
      ]
     },
     "metadata": {
      "needs_background": "light"
     },
     "output_type": "display_data"
    },
    {
     "data": {
      "text/plain": [
       "{'Unmitigated': (array([1, 1, 1, ..., 0, 0, 1], dtype=int64),\n",
       "  array([0.98671422, 0.62642342, 0.65237631, ..., 0.40067754, 0.01045687,\n",
       "         0.77094103])),\n",
       " 'GS TPRP': (array([1, 1, 1, ..., 0, 0, 1]),\n",
       "  array([0.98440366, 0.5925379 , 0.61927284, ..., 0.36814866, 0.00932808,\n",
       "         0.91529098]))}"
      ]
     },
     "execution_count": 60,
     "metadata": {},
     "output_type": "execute_result"
    }
   ],
   "source": [
    "grid_search_show(mitigator, true_positive_rate_difference, y_predict, X_test, y_test, race_test, 'TPRPDifference','GS TPRP', models_dict, 0.3)"
   ]
  },
  {
   "cell_type": "code",
   "execution_count": 61,
   "metadata": {},
   "outputs": [
    {
     "data": {
      "text/plain": [
       "{'Unmitigated': (array([1, 1, 1, ..., 0, 0, 1], dtype=int64),\n",
       "  array([0.98671422, 0.62642342, 0.65237631, ..., 0.40067754, 0.01045687,\n",
       "         0.77094103]))}"
      ]
     },
     "execution_count": 61,
     "metadata": {},
     "output_type": "execute_result"
    }
   ],
   "source": [
    "models_dict.pop('GS TPRP')\n",
    "models_dict"
   ]
  },
  {
   "cell_type": "markdown",
   "metadata": {},
   "source": [
    "### Get new scores by race"
   ]
  },
  {
   "cell_type": "code",
   "execution_count": 62,
   "metadata": {},
   "outputs": [],
   "source": [
    "X_gsEOO_b, X_gsEOO_w = get_new_scores(X_test, y_predict, y_test, race_test)"
   ]
  },
  {
   "cell_type": "code",
   "execution_count": 63,
   "metadata": {},
   "outputs": [],
   "source": [
    "#adding scores to list\n",
    "all_scores.extend([X_gsEOO_b, X_gsEOO_w])\n",
    "scores_names.extend(['gseooB', 'gseooW'])"
   ]
  },
  {
   "cell_type": "markdown",
   "metadata": {},
   "source": [
    "### Save results to dictionaries"
   ]
  },
  {
   "cell_type": "code",
   "execution_count": 64,
   "metadata": {},
   "outputs": [
    {
     "name": "stdout",
     "output_type": "stream",
     "text": [
      "{'lgr Unmitigated': [88.03, '88.03/87.82/91.74', 74.01, 74.09, 93.76, 6.24, 25.91, '8.33/38.05', 51.22, 25.5, 25.5, 23.95, 4.39], 'lgr EG DP Mitigated': [84.66, '84.66/84.0/89.67', 77.61, 62.11, 93.91, 6.09, 37.89, '-38.58/39.01', 2.36, 37.38, 2.94, 37.38, 33.02], 'lgr EG EO Mitigated': [86.16, '86.16/86.06/90.33', 72.28, 73.85, 91.21, 8.79, 26.15, '-5.47/38.29', 28.71, 4.02, 4.02, 0.92, 9.35], 'lgr EG EOO Mitigated': [86.69, '86.69/86.44/90.83', 74.22, 71.42, 92.96, 7.04, 28.58, '-11.6/38.98', 25.24, 6.67, 3.95, 6.67, 14.26], 'lgr EG FPRP Mitigated': [87.35, '87.35/87.09/91.3', 74.5, 72.09, 93.62, 6.38, 27.91, '-4.95/38.8', 31.68, 6.66, 6.66, 2.26, 10.34], 'lgr EG ERP Mitigated': [85.37, '85.37/85.4/89.65', 70.49, 75.56, 89.4, 10.6, 24.44, '8.33/36.15', 47.22, 21.92, 20.88, 21.92, 1.36], 'lgr GS DP Mitigated': [86.11, '86.11/85.65/90.57', 76.38, 66.73, 94.07, 5.93, 33.27, '-22.37/38.8', 17.92, 16.04, 2.14, 16.04, 21.24], 'lgr GS EO Mitigated': [88.03, '88.03/87.82/91.74', 74.01, 74.09, 93.76, 6.24, 25.91, '8.33/38.05', 51.22, 25.5, 25.5, 23.95, 4.39], 'lgr GS EOO Mitigated': [87.57, '87.57/87.28/91.47', 74.86, 71.82, 94.03, 5.97, 28.18, '-2.48/38.58', 34.48, 8.06, 8.06, 6.35, 8.88]}\n",
      "{'lgr Unmitigated': [84.18, '84.18/83.87/74.61', 28.97, 91.42, 69.7, 30.3, 8.58, 8.33], 'lgr EG DP Mitigated': [55.62, '55.62/53.94/59.24', 75.53, 35.06, 96.69, 3.31, 64.94, -38.58], 'lgr EG EO Mitigated': [77.93, '77.93/78.55/72.55', 47.03, 73.19, 87.42, 12.58, 26.81, -5.47], 'lgr EG EOO Mitigated': [74.15, '74.15/74.87/69.73', 52.03, 66.6, 89.24, 10.76, 33.4, -11.6], 'lgr EG FPRP Mitigated': [78.27, '78.27/78.87/72.83', 46.64, 73.73, 87.33, 12.67, 26.27, -4.95], 'lgr EG ERP Mitigated': [84.18, '84.18/83.87/74.61', 28.97, 91.42, 69.7, 30.3, 8.58, 8.33], 'lgr GS DP Mitigated': [67.44, '67.44/67.98/65.35', 60.62, 55.12, 92.05, 7.95, 44.88, -22.37], 'lgr GS EO Mitigated': [84.18, '84.18/83.87/74.61', 28.97, 91.42, 69.7, 30.3, 8.58, 8.33], 'lgr GS EOO Mitigated': [79.76, '79.76/80.28/74.02', 44.55, 76.42, 86.42, 13.58, 23.58, -2.48]}\n",
      "{'lgr Unmitigated': [88.56, '88.56/88.17/92.68', 80.19, 67.47, 95.2, 4.8, 32.53, 38.05], 'lgr EG DP Mitigated': [88.64, '88.64/88.48/92.62', 77.89, 72.44, 93.74, 6.26, 27.56, 39.01], 'lgr EG EO Mitigated': [87.29, '87.29/87.32/91.63', 75.74, 74.11, 91.44, 8.56, 25.89, 38.29], 'lgr EG EOO Mitigated': [88.42, '88.42/88.31/92.44', 77.27, 73.27, 93.19, 6.81, 26.73, 38.98], 'lgr EG FPRP Mitigated': [88.6, '88.6/88.4/92.62', 78.32, 71.46, 94.0, 6.0, 28.54, 38.8], 'lgr EG ERP Mitigated': [85.53, '85.53/85.52/90.5', 76.19, 69.5, 90.58, 9.42, 30.5, 36.15], 'lgr GS DP Mitigated': [88.68, '88.68/88.46/92.68', 78.54, 71.16, 94.19, 5.81, 28.84, 38.8], 'lgr GS EO Mitigated': [88.56, '88.56/88.17/92.68', 80.19, 67.47, 95.2, 4.8, 32.53, 38.05], 'lgr GS EOO Mitigated': [88.64, '88.64/88.37/92.67', 79.02, 70.07, 94.49, 5.51, 29.93, 38.58]}\n"
     ]
    }
   ],
   "source": [
    "run_key = f'{model_name} GS EOO Mitigated'\n",
    "overall_results_dict = add_values_in_dict(overall_results_dict, run_key, results_overall)\n",
    "black_results_dict = add_values_in_dict(black_results_dict, run_key, results_black)\n",
    "white_results_dict = add_values_in_dict(white_results_dict, run_key, results_white)\n",
    "print(overall_results_dict)\n",
    "print(black_results_dict)\n",
    "print(white_results_dict)"
   ]
  },
  {
   "cell_type": "markdown",
   "metadata": {},
   "source": [
    "### False Positive Rate Parity"
   ]
  },
  {
   "cell_type": "code",
   "execution_count": 65,
   "metadata": {},
   "outputs": [],
   "source": [
    "mitigator, results_overall, results_black, results_white, y_pred_mitigated = add_constraint(model, 'FPRP', 'GS', X_train, y_train, race_train, race_test, X_test, y_test, y_predict, sample_weight_test, True)"
   ]
  },
  {
   "cell_type": "code",
   "execution_count": 66,
   "metadata": {},
   "outputs": [
    {
     "name": "stdout",
     "output_type": "stream",
     "text": [
      "sign  event    group_id\n",
      "+     label=0  0           0.0\n",
      "               1           0.0\n",
      "-     label=0  0           0.0\n",
      "               1           2.0\n",
      "Name: 0, dtype: float64\n"
     ]
    }
   ],
   "source": [
    "# We can examine the values of lambda_i chosen for us:\n",
    "lambda_vecs = mitigator.lambda_vecs_\n",
    "print(lambda_vecs[0])"
   ]
  },
  {
   "cell_type": "code",
   "execution_count": 67,
   "metadata": {},
   "outputs": [],
   "source": [
    "# NOTE: the below models are the same for DT classifier!!"
   ]
  },
  {
   "cell_type": "code",
   "execution_count": 68,
   "metadata": {},
   "outputs": [
    {
     "data": {
      "image/png": "[encoded data removed]",
      "text/plain": [
       "<Figure size 432x288 with 1 Axes>"
      ]
     },
     "metadata": {
      "needs_background": "light"
     },
     "output_type": "display_data"
    },
    {
     "data": {
      "text/plain": [
       "{'Unmitigated': (array([1, 1, 1, ..., 0, 0, 1], dtype=int64),\n",
       "  array([0.98671422, 0.62642342, 0.65237631, ..., 0.40067754, 0.01045687,\n",
       "         0.77094103])),\n",
       " 'GS FPRP': (array([1, 1, 1, ..., 0, 0, 1]),\n",
       "  array([0.98671422, 0.62642342, 0.65237631, ..., 0.40067754, 0.01045687,\n",
       "         0.77094103]))}"
      ]
     },
     "execution_count": 68,
     "metadata": {},
     "output_type": "execute_result"
    }
   ],
   "source": [
    "grid_search_show(mitigator, false_positive_rate_difference, y_predict, X_test, y_test, race_test, 'FPRPDifference','GS FPRP', models_dict, 0.4)"
   ]
  },
  {
   "cell_type": "code",
   "execution_count": 69,
   "metadata": {},
   "outputs": [
    {
     "data": {
      "text/plain": [
       "{'Unmitigated': (array([1, 1, 1, ..., 0, 0, 1], dtype=int64),\n",
       "  array([0.98671422, 0.62642342, 0.65237631, ..., 0.40067754, 0.01045687,\n",
       "         0.77094103]))}"
      ]
     },
     "execution_count": 69,
     "metadata": {},
     "output_type": "execute_result"
    }
   ],
   "source": [
    "models_dict.pop('GS FPRP')\n",
    "models_dict"
   ]
  },
  {
   "cell_type": "markdown",
   "metadata": {},
   "source": [
    "### Get scores by race"
   ]
  },
  {
   "cell_type": "code",
   "execution_count": 70,
   "metadata": {},
   "outputs": [],
   "source": [
    "X_gsFPRP_b, X_gsFPRP_w = get_new_scores(X_test, y_predict, y_test, race_test)"
   ]
  },
  {
   "cell_type": "code",
   "execution_count": 71,
   "metadata": {},
   "outputs": [],
   "source": [
    "#adding scores to list\n",
    "all_scores.extend([X_gsFPRP_b, X_gsFPRP_w])\n",
    "scores_names.extend(['gsfprpB', 'gsfprpW'])"
   ]
  },
  {
   "cell_type": "markdown",
   "metadata": {},
   "source": [
    "### Save results to dictionaries"
   ]
  },
  {
   "cell_type": "code",
   "execution_count": 72,
   "metadata": {},
   "outputs": [
    {
     "name": "stdout",
     "output_type": "stream",
     "text": [
      "{'lgr Unmitigated': [88.03, '88.03/87.82/91.74', 74.01, 74.09, 93.76, 6.24, 25.91, '8.33/38.05', 51.22, 25.5, 25.5, 23.95, 4.39], 'lgr EG DP Mitigated': [84.66, '84.66/84.0/89.67', 77.61, 62.11, 93.91, 6.09, 37.89, '-38.58/39.01', 2.36, 37.38, 2.94, 37.38, 33.02], 'lgr EG EO Mitigated': [86.16, '86.16/86.06/90.33', 72.28, 73.85, 91.21, 8.79, 26.15, '-5.47/38.29', 28.71, 4.02, 4.02, 0.92, 9.35], 'lgr EG EOO Mitigated': [86.69, '86.69/86.44/90.83', 74.22, 71.42, 92.96, 7.04, 28.58, '-11.6/38.98', 25.24, 6.67, 3.95, 6.67, 14.26], 'lgr EG FPRP Mitigated': [87.35, '87.35/87.09/91.3', 74.5, 72.09, 93.62, 6.38, 27.91, '-4.95/38.8', 31.68, 6.66, 6.66, 2.26, 10.34], 'lgr EG ERP Mitigated': [85.37, '85.37/85.4/89.65', 70.49, 75.56, 89.4, 10.6, 24.44, '8.33/36.15', 47.22, 21.92, 20.88, 21.92, 1.36], 'lgr GS DP Mitigated': [86.11, '86.11/85.65/90.57', 76.38, 66.73, 94.07, 5.93, 33.27, '-22.37/38.8', 17.92, 16.04, 2.14, 16.04, 21.24], 'lgr GS EO Mitigated': [88.03, '88.03/87.82/91.74', 74.01, 74.09, 93.76, 6.24, 25.91, '8.33/38.05', 51.22, 25.5, 25.5, 23.95, 4.39], 'lgr GS EOO Mitigated': [87.57, '87.57/87.28/91.47', 74.86, 71.82, 94.03, 5.97, 28.18, '-2.48/38.58', 34.48, 8.06, 8.06, 6.35, 8.88], 'lgr GS FPRP Mitigated': [88.03, '88.03/87.82/91.74', 74.01, 74.09, 93.76, 6.24, 25.91, '8.33/38.05', 51.22, 25.5, 25.5, 23.95, 4.39]}\n",
      "{'lgr Unmitigated': [84.18, '84.18/83.87/74.61', 28.97, 91.42, 69.7, 30.3, 8.58, 8.33], 'lgr EG DP Mitigated': [55.62, '55.62/53.94/59.24', 75.53, 35.06, 96.69, 3.31, 64.94, -38.58], 'lgr EG EO Mitigated': [77.93, '77.93/78.55/72.55', 47.03, 73.19, 87.42, 12.58, 26.81, -5.47], 'lgr EG EOO Mitigated': [74.15, '74.15/74.87/69.73', 52.03, 66.6, 89.24, 10.76, 33.4, -11.6], 'lgr EG FPRP Mitigated': [78.27, '78.27/78.87/72.83', 46.64, 73.73, 87.33, 12.67, 26.27, -4.95], 'lgr EG ERP Mitigated': [84.18, '84.18/83.87/74.61', 28.97, 91.42, 69.7, 30.3, 8.58, 8.33], 'lgr GS DP Mitigated': [67.44, '67.44/67.98/65.35', 60.62, 55.12, 92.05, 7.95, 44.88, -22.37], 'lgr GS EO Mitigated': [84.18, '84.18/83.87/74.61', 28.97, 91.42, 69.7, 30.3, 8.58, 8.33], 'lgr GS EOO Mitigated': [79.76, '79.76/80.28/74.02', 44.55, 76.42, 86.42, 13.58, 23.58, -2.48], 'lgr GS FPRP Mitigated': [84.18, '84.18/83.87/74.61', 28.97, 91.42, 69.7, 30.3, 8.58, 8.33]}\n",
      "{'lgr Unmitigated': [88.56, '88.56/88.17/92.68', 80.19, 67.47, 95.2, 4.8, 32.53, 38.05], 'lgr EG DP Mitigated': [88.64, '88.64/88.48/92.62', 77.89, 72.44, 93.74, 6.26, 27.56, 39.01], 'lgr EG EO Mitigated': [87.29, '87.29/87.32/91.63', 75.74, 74.11, 91.44, 8.56, 25.89, 38.29], 'lgr EG EOO Mitigated': [88.42, '88.42/88.31/92.44', 77.27, 73.27, 93.19, 6.81, 26.73, 38.98], 'lgr EG FPRP Mitigated': [88.6, '88.6/88.4/92.62', 78.32, 71.46, 94.0, 6.0, 28.54, 38.8], 'lgr EG ERP Mitigated': [85.53, '85.53/85.52/90.5', 76.19, 69.5, 90.58, 9.42, 30.5, 36.15], 'lgr GS DP Mitigated': [88.68, '88.68/88.46/92.68', 78.54, 71.16, 94.19, 5.81, 28.84, 38.8], 'lgr GS EO Mitigated': [88.56, '88.56/88.17/92.68', 80.19, 67.47, 95.2, 4.8, 32.53, 38.05], 'lgr GS EOO Mitigated': [88.64, '88.64/88.37/92.67', 79.02, 70.07, 94.49, 5.51, 29.93, 38.58], 'lgr GS FPRP Mitigated': [88.56, '88.56/88.17/92.68', 80.19, 67.47, 95.2, 4.8, 32.53, 38.05]}\n"
     ]
    }
   ],
   "source": [
    "run_key = f'{model_name} GS FPRP Mitigated'\n",
    "overall_results_dict = add_values_in_dict(overall_results_dict, run_key, results_overall)\n",
    "black_results_dict = add_values_in_dict(black_results_dict, run_key, results_black)\n",
    "white_results_dict = add_values_in_dict(white_results_dict, run_key, results_white)\n",
    "print(overall_results_dict)\n",
    "print(black_results_dict)\n",
    "print(white_results_dict)"
   ]
  },
  {
   "cell_type": "markdown",
   "metadata": {},
   "source": [
    "### Error Rate Parity"
   ]
  },
  {
   "cell_type": "code",
   "execution_count": 73,
   "metadata": {},
   "outputs": [],
   "source": [
    "mitigator, results_overall, results_black, results_white, y_pred_mitigated = add_constraint(model, 'ERP', 'GS', X_train, y_train, race_train, race_test, X_test, y_test, y_predict, sample_weight_test, True)"
   ]
  },
  {
   "cell_type": "code",
   "execution_count": 74,
   "metadata": {},
   "outputs": [
    {
     "name": "stdout",
     "output_type": "stream",
     "text": [
      "sign  event  group_id\n",
      "+     all    0           0.0\n",
      "             1           0.0\n",
      "-     all    0           0.0\n",
      "             1           2.0\n",
      "Name: 0, dtype: float64\n"
     ]
    }
   ],
   "source": [
    "# We can examine the values of lambda_i chosen for us:\n",
    "lambda_vecs = mitigator.lambda_vecs_\n",
    "print(lambda_vecs[0])"
   ]
  },
  {
   "cell_type": "code",
   "execution_count": 75,
   "metadata": {},
   "outputs": [],
   "source": [
    "# Fairlearn doesnt have an erp difference metric for the below\n",
    "#grid_search_show(gs_erp, error_difference, y_predict, X_test, y_test, race_test, 'ERDifference','GS ERP', models_dict, 0.3)\n",
    "#models_dict.pop('GS FPRP')\n",
    "#models_dict"
   ]
  },
  {
   "cell_type": "markdown",
   "metadata": {},
   "source": [
    "### Get scores by race"
   ]
  },
  {
   "cell_type": "code",
   "execution_count": 76,
   "metadata": {},
   "outputs": [],
   "source": [
    "X_gsERP_b, X_gsERP_w = get_new_scores(X_test, y_predict, y_test, race_test)"
   ]
  },
  {
   "cell_type": "code",
   "execution_count": 77,
   "metadata": {},
   "outputs": [],
   "source": [
    "#adding scores to list\n",
    "all_scores.extend([X_gsERP_b, X_gsERP_w])\n",
    "scores_names.extend(['gserpB', 'gserpW'])"
   ]
  },
  {
   "cell_type": "markdown",
   "metadata": {},
   "source": [
    "### Save results to dictionaries"
   ]
  },
  {
   "cell_type": "code",
   "execution_count": 78,
   "metadata": {},
   "outputs": [
    {
     "name": "stdout",
     "output_type": "stream",
     "text": [
      "lgr GS ERP Mitigated\n",
      "{'lgr Unmitigated': [88.03, '88.03/87.82/91.74', 74.01, 74.09, 93.76, 6.24, 25.91, '8.33/38.05', 51.22, 25.5, 25.5, 23.95, 4.39], 'lgr EG DP Mitigated': [84.66, '84.66/84.0/89.67', 77.61, 62.11, 93.91, 6.09, 37.89, '-38.58/39.01', 2.36, 37.38, 2.94, 37.38, 33.02], 'lgr EG EO Mitigated': [86.16, '86.16/86.06/90.33', 72.28, 73.85, 91.21, 8.79, 26.15, '-5.47/38.29', 28.71, 4.02, 4.02, 0.92, 9.35], 'lgr EG EOO Mitigated': [86.69, '86.69/86.44/90.83', 74.22, 71.42, 92.96, 7.04, 28.58, '-11.6/38.98', 25.24, 6.67, 3.95, 6.67, 14.26], 'lgr EG FPRP Mitigated': [87.35, '87.35/87.09/91.3', 74.5, 72.09, 93.62, 6.38, 27.91, '-4.95/38.8', 31.68, 6.66, 6.66, 2.26, 10.34], 'lgr EG ERP Mitigated': [85.37, '85.37/85.4/89.65', 70.49, 75.56, 89.4, 10.6, 24.44, '8.33/36.15', 47.22, 21.92, 20.88, 21.92, 1.36], 'lgr GS DP Mitigated': [86.11, '86.11/85.65/90.57', 76.38, 66.73, 94.07, 5.93, 33.27, '-22.37/38.8', 17.92, 16.04, 2.14, 16.04, 21.24], 'lgr GS EO Mitigated': [88.03, '88.03/87.82/91.74', 74.01, 74.09, 93.76, 6.24, 25.91, '8.33/38.05', 51.22, 25.5, 25.5, 23.95, 4.39], 'lgr GS EOO Mitigated': [87.57, '87.57/87.28/91.47', 74.86, 71.82, 94.03, 5.97, 28.18, '-2.48/38.58', 34.48, 8.06, 8.06, 6.35, 8.88], 'lgr GS FPRP Mitigated': [88.03, '88.03/87.82/91.74', 74.01, 74.09, 93.76, 6.24, 25.91, '8.33/38.05', 51.22, 25.5, 25.5, 23.95, 4.39], 'lgr GS ERP Mitigated': [88.03, '88.03/87.82/91.74', 74.01, 74.09, 93.76, 6.24, 25.91, '8.33/38.05', 51.22, 25.5, 25.5, 23.95, 4.39]}\n",
      "{'lgr Unmitigated': [84.18, '84.18/83.87/74.61', 28.97, 91.42, 69.7, 30.3, 8.58, 8.33], 'lgr EG DP Mitigated': [55.62, '55.62/53.94/59.24', 75.53, 35.06, 96.69, 3.31, 64.94, -38.58], 'lgr EG EO Mitigated': [77.93, '77.93/78.55/72.55', 47.03, 73.19, 87.42, 12.58, 26.81, -5.47], 'lgr EG EOO Mitigated': [74.15, '74.15/74.87/69.73', 52.03, 66.6, 89.24, 10.76, 33.4, -11.6], 'lgr EG FPRP Mitigated': [78.27, '78.27/78.87/72.83', 46.64, 73.73, 87.33, 12.67, 26.27, -4.95], 'lgr EG ERP Mitigated': [84.18, '84.18/83.87/74.61', 28.97, 91.42, 69.7, 30.3, 8.58, 8.33], 'lgr GS DP Mitigated': [67.44, '67.44/67.98/65.35', 60.62, 55.12, 92.05, 7.95, 44.88, -22.37], 'lgr GS EO Mitigated': [84.18, '84.18/83.87/74.61', 28.97, 91.42, 69.7, 30.3, 8.58, 8.33], 'lgr GS EOO Mitigated': [79.76, '79.76/80.28/74.02', 44.55, 76.42, 86.42, 13.58, 23.58, -2.48], 'lgr GS FPRP Mitigated': [84.18, '84.18/83.87/74.61', 28.97, 91.42, 69.7, 30.3, 8.58, 8.33], 'lgr GS ERP Mitigated': [84.18, '84.18/83.87/74.61', 28.97, 91.42, 69.7, 30.3, 8.58, 8.33]}\n",
      "{'lgr Unmitigated': [88.56, '88.56/88.17/92.68', 80.19, 67.47, 95.2, 4.8, 32.53, 38.05], 'lgr EG DP Mitigated': [88.64, '88.64/88.48/92.62', 77.89, 72.44, 93.74, 6.26, 27.56, 39.01], 'lgr EG EO Mitigated': [87.29, '87.29/87.32/91.63', 75.74, 74.11, 91.44, 8.56, 25.89, 38.29], 'lgr EG EOO Mitigated': [88.42, '88.42/88.31/92.44', 77.27, 73.27, 93.19, 6.81, 26.73, 38.98], 'lgr EG FPRP Mitigated': [88.6, '88.6/88.4/92.62', 78.32, 71.46, 94.0, 6.0, 28.54, 38.8], 'lgr EG ERP Mitigated': [85.53, '85.53/85.52/90.5', 76.19, 69.5, 90.58, 9.42, 30.5, 36.15], 'lgr GS DP Mitigated': [88.68, '88.68/88.46/92.68', 78.54, 71.16, 94.19, 5.81, 28.84, 38.8], 'lgr GS EO Mitigated': [88.56, '88.56/88.17/92.68', 80.19, 67.47, 95.2, 4.8, 32.53, 38.05], 'lgr GS EOO Mitigated': [88.64, '88.64/88.37/92.67', 79.02, 70.07, 94.49, 5.51, 29.93, 38.58], 'lgr GS FPRP Mitigated': [88.56, '88.56/88.17/92.68', 80.19, 67.47, 95.2, 4.8, 32.53, 38.05], 'lgr GS ERP Mitigated': [88.56, '88.56/88.17/92.68', 80.19, 67.47, 95.2, 4.8, 32.53, 38.05]}\n"
     ]
    }
   ],
   "source": [
    "run_key = f'{model_name} GS ERP Mitigated'\n",
    "print(run_key)\n",
    "overall_results_dict = add_values_in_dict(overall_results_dict, run_key, results_overall)\n",
    "black_results_dict = add_values_in_dict(black_results_dict, run_key, results_black)\n",
    "white_results_dict = add_values_in_dict(white_results_dict, run_key, results_white)\n",
    "print(overall_results_dict)\n",
    "print(black_results_dict)\n",
    "print(white_results_dict)"
   ]
  },
  {
   "cell_type": "markdown",
   "metadata": {},
   "source": [
    "# 4. Save results to csv files"
   ]
  },
  {
   "cell_type": "code",
   "execution_count": 81,
   "metadata": {},
   "outputs": [],
   "source": [
    "# To use below!!\n",
    "if save == True:\n",
    "    overall_fieldnames = ['Run', 'Acc', 'ConfMatrix','F1micro', 'F1weighted','F1binary', 'SelectionRate', 'TNR rate', 'TPR rate', 'FNER', 'FPER', 'DIB','DIW', 'DP Diff', 'EO Diff', 'TPR Diff', 'FPR Diff', 'ER Diff']\n",
    "    byrace_fieldnames = ['Run', 'Acc', 'ConfMatrix','F1micro', 'F1weighted','F1binary', 'SelectionRate', 'TNR rate', 'TPR rate', 'FNER', 'FPER', 'DI']\n",
    "    save_dict_in_csv(overall_results_dict, overall_fieldnames,  results_path+model_name+'_overall_results.csv')\n",
    "    save_dict_in_csv(black_results_dict, byrace_fieldnames,  results_path+model_name+'_black_results.csv')\n",
    "    save_dict_in_csv(white_results_dict, byrace_fieldnames,  results_path+model_name+'_white_results.csv')"
   ]
  },
  {
   "cell_type": "code",
   "execution_count": 82,
   "metadata": {},
   "outputs": [],
   "source": [
    "if save == True:\n",
    "    # Save overall score results\n",
    "    columns_data = zip_longest(*all_scores)\n",
    "\n",
    "    with open(results_path+model_name+'_overall_scores.csv',mode='w') as f:\n",
    "        writer = csv.writer(f)\n",
    "        writer.writerow(scores_names)\n",
    "        writer.writerows(columns_data)\n",
    "        f.close()"
   ]
  },
  {
   "cell_type": "code",
   "execution_count": null,
   "metadata": {},
   "outputs": [],
   "source": []
  }
 ],
 "metadata": {
  "kernelspec": {
   "display_name": "Python 3 (ipykernel)",
   "language": "python",
   "name": "python3"
  },
  "language_info": {
   "codemirror_mode": {
    "name": "ipython",
    "version": 3
   },
   "file_extension": ".py",
   "mimetype": "text/x-python",
   "name": "python",
   "nbconvert_exporter": "python",
   "pygments_lexer": "ipython3",
   "version": "3.8.13"
  }
 },
 "nbformat": 4,
 "nbformat_minor": 4
}
