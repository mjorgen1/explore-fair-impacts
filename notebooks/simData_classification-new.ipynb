{
 "cells": [
  {
   "cell_type": "markdown",
   "metadata": {},
   "source": [
    "# 0. IMPORTANT--Specify classifier to be trained and dataset"
   ]
  },
  {
   "cell_type": "markdown",
   "metadata": {},
   "source": [
    "# 1. Imports and Set Up"
   ]
  },
  {
   "cell_type": "code",
   "execution_count": 1,
   "metadata": {},
   "outputs": [],
   "source": [
    "import sys\n",
    "sys.path.append('../')\n",
    "import warnings\n",
    "warnings.filterwarnings('ignore', category=FutureWarning)\n",
    "\n",
    "from impt_functions import *\n",
    "from visualizations import *\n",
    "from evaluation import *\n",
    "import csv\n",
    "import os\n",
    "from itertools import zip_longest\n",
    "from sklearn.tree import DecisionTreeClassifier\n",
    "from sklearn.naive_bayes import GaussianNB\n",
    "from sklearn.linear_model import LogisticRegression\n",
    "from sklearn import svm\n",
    "from sklearn.ensemble import GradientBoostingClassifier\n",
    "from sklearn.metrics import classification_report, confusion_matrix, accuracy_score, f1_score\n",
    "import pandas as pd \n",
    "import numpy as np\n",
    "import matplotlib.pyplot as plt\n",
    "from matplotlib import colors\n",
    "from fairlearn.reductions import ExponentiatedGradient, GridSearch, DemographicParity, EqualizedOdds, \\\n",
    "    TruePositiveRateParity, FalsePositiveRateParity, ErrorRateParity, BoundedGroupLoss\n",
    "from fairlearn.metrics import *\n",
    "from raiwidgets import FairnessDashboard\n",
    "%matplotlib inline"
   ]
  },
  {
   "cell_type": "code",
   "execution_count": 2,
   "metadata": {},
   "outputs": [],
   "source": [
    "models = {'Decision Tree': 'dt', 'Gaussian Naive Bayes':'gnb','Logistic Regression': 'lgr', 'Gradient_Boosted_Trees': 'gbt'}\n",
    "constraints = {'DemograficParity': 'DP', 'DemograficParity': 'EO', 'DemograficParity': 'EOO', 'DemograficParity': 'FPRP', 'DemograficParity': 'ERP'}\n",
    "reduction_algorithms = {'Exponential Gradient':'EG','Grid Search':'GS'}\n",
    "\n",
    "data_path = '../data/final/simData_oom100.csv'  # ...oom10, ...oom50, ...oom100\n",
    "results_path = '../data/results/'\n",
    "save = True"
   ]
  },
  {
   "cell_type": "code",
   "execution_count": 3,
   "metadata": {},
   "outputs": [],
   "source": [
    "models_dict = {}\n",
    "overall_results_dict = {}\n",
    "black_results_dict = {}\n",
    "white_results_dict = {}\n",
    "all_scores = []\n",
    "scores_names = []\n",
    "#scores_fieldnames = ['testB', 'testW', 'unmitB', 'unmitW', 'egdpB', 'egdpW', 'egeoB', 'egeoW', 'egeooB', 'egeooW', 'egfprpB', 'egfprpW', 'egerpB', 'egerpW', 'gsdpB', 'gsdpW', 'gseoB', 'gseoW', 'gseooB', 'gseooW', 'gsfprpB', 'gsfprpW', 'gserpB', 'gserpW']"
   ]
  },
  {
   "cell_type": "code",
   "execution_count": 4,
   "metadata": {},
   "outputs": [],
   "source": [
    "model_name= models['Decision Tree']\n",
    "constraint = constraints['DemograficParity']"
   ]
  },
  {
   "cell_type": "markdown",
   "metadata": {},
   "source": [
    "# 2. Prepare data"
   ]
  },
  {
   "cell_type": "code",
   "execution_count": 5,
   "metadata": {},
   "outputs": [],
   "source": [
    "data = get_data(data_path)"
   ]
  },
  {
   "cell_type": "code",
   "execution_count": 6,
   "metadata": {},
   "outputs": [
    {
     "name": "stdout",
     "output_type": "stream",
     "text": [
      "<class 'pandas.core.frame.DataFrame'>\n",
      "       score  repay_probability  race  repay_indices\n",
      "0        570              64.16     1              0\n",
      "1        828              98.96     1              1\n",
      "2        837              99.02     1              1\n",
      "3        502              24.82     1              0\n",
      "4        534              39.92     1              0\n",
      "...      ...                ...   ...            ...\n",
      "99995    740              97.74     1              1\n",
      "99996    324               2.64     1              0\n",
      "99997    774              98.44     1              1\n",
      "99998    738              97.68     1              1\n",
      "99999    828              98.96     1              1\n",
      "\n",
      "[100000 rows x 4 columns]\n"
     ]
    }
   ],
   "source": [
    "print(type(data))\n",
    "print(data)"
   ]
  },
  {
   "cell_type": "code",
   "execution_count": 7,
   "metadata": {},
   "outputs": [],
   "source": [
    "X_train, X_test, y_train, y_test, race_train, race_test, sample_weight_train, sample_weight_test = prep_data(data=data, test_size=0.3, weight_index=1)"
   ]
  },
  {
   "cell_type": "code",
   "execution_count": 8,
   "metadata": {},
   "outputs": [],
   "source": [
    "# split up X_test by race\n",
    "X_test_b = []\n",
    "\n",
    "X_test_w = []\n",
    "\n",
    "for index in range(len(X_test)):\n",
    "    if race_test[index] == 0:  # black\n",
    "        X_test_b.append(X_test[index][0])\n",
    "    elif race_test[index] == 1:  # white\n",
    "        X_test_w.append(X_test[index][0])\n",
    "\n",
    "# given predictions+outcomes, I'll need to do the same "
   ]
  },
  {
   "cell_type": "code",
   "execution_count": 9,
   "metadata": {},
   "outputs": [],
   "source": [
    "#adding scores to list\n",
    "all_scores.extend([X_test_b,X_test_w])\n",
    "scores_names.extend(['testB', 'testW'])"
   ]
  },
  {
   "cell_type": "code",
   "execution_count": 10,
   "metadata": {},
   "outputs": [
    {
     "data": {
      "image/png": "[encoded data removed]",
      "text/plain": [
       "<Figure size 432x288 with 2 Axes>"
      ]
     },
     "metadata": {
      "needs_background": "light"
     },
     "output_type": "display_data"
    }
   ],
   "source": [
    "# make histogram of credit scores by race\n",
    "visual_scores_by_race(data)"
   ]
  },
  {
   "cell_type": "code",
   "execution_count": 11,
   "metadata": {},
   "outputs": [
    {
     "data": {
      "image/png": "[encoded data removed]",
      "text/plain": [
       "<Figure size 432x288 with 2 Axes>"
      ]
     },
     "metadata": {
      "needs_background": "light"
     },
     "output_type": "display_data"
    }
   ],
   "source": [
    "visual_repay_dist(data)"
   ]
  },
  {
   "cell_type": "markdown",
   "metadata": {},
   "source": [
    "# 3. Classifier"
   ]
  },
  {
   "cell_type": "code",
   "execution_count": 12,
   "metadata": {},
   "outputs": [
    {
     "name": "stdout",
     "output_type": "stream",
     "text": [
      "The classifier trained below is:  dt\n"
     ]
    }
   ],
   "source": [
    "print('The classifier trained below is: ', model_name)\n",
    "\n",
    "results_path += f'{model_name}/'"
   ]
  },
  {
   "cell_type": "code",
   "execution_count": 13,
   "metadata": {},
   "outputs": [],
   "source": [
    "classifier = get_classifier(model_name)"
   ]
  },
  {
   "cell_type": "markdown",
   "metadata": {},
   "source": [
    "## Train classifier and collect predictions\n",
    "NOTE: atm sample_weight are all 1s"
   ]
  },
  {
   "cell_type": "code",
   "execution_count": 14,
   "metadata": {},
   "outputs": [],
   "source": [
    "# Reference: https://www.datacamp.com/community/tutorials/decision-tree-classification-python\n",
    "np.random.seed(0)\n",
    "\n",
    "# Train the classifier:\n",
    "model = classifier.fit(X_train,y_train, sample_weight_train)\n",
    "\n",
    "# Make predictions with the classifier:\n",
    "y_predict = model.predict(X_test)\n",
    "\n",
    "# Scores on test set\n",
    "test_scores = model.predict_proba(X_test)[:, 1]"
   ]
  },
  {
   "cell_type": "markdown",
   "metadata": {},
   "source": [
    "### Get new scores by race"
   ]
  },
  {
   "cell_type": "code",
   "execution_count": 15,
   "metadata": {},
   "outputs": [],
   "source": [
    "# think: later on I might want to create a sheet just with the TP and FP scores by race specifically\n",
    "X_unmit_b, X_unmit_w = get_new_scores(X_test, y_predict, y_test, race_test)"
   ]
  },
  {
   "cell_type": "code",
   "execution_count": 16,
   "metadata": {},
   "outputs": [],
   "source": [
    "#adding scores to list\n",
    "all_scores.extend([X_unmit_b,X_unmit_w])\n",
    "scores_names.extend(['unmitB', 'unmitW'])"
   ]
  },
  {
   "cell_type": "markdown",
   "metadata": {},
   "source": [
    "### Evaluation of classifier overall"
   ]
  },
  {
   "cell_type": "code",
   "execution_count": 17,
   "metadata": {},
   "outputs": [
    {
     "data": {
      "text/html": [
       "<div>\n",
       "<style scoped>\n",
       "    .dataframe tbody tr th:only-of-type {\n",
       "        vertical-align: middle;\n",
       "    }\n",
       "\n",
       "    .dataframe tbody tr th {\n",
       "        vertical-align: top;\n",
       "    }\n",
       "\n",
       "    .dataframe thead th {\n",
       "        text-align: right;\n",
       "    }\n",
       "</style>\n",
       "<table border=\"1\" class=\"dataframe\">\n",
       "  <thead>\n",
       "    <tr style=\"text-align: right;\">\n",
       "      <th></th>\n",
       "      <th>Unmitigated</th>\n",
       "    </tr>\n",
       "  </thead>\n",
       "  <tbody>\n",
       "    <tr>\n",
       "      <th>Overall selection rate</th>\n",
       "      <td>0.728267</td>\n",
       "    </tr>\n",
       "    <tr>\n",
       "      <th>Demographic parity difference</th>\n",
       "      <td>0.473329</td>\n",
       "    </tr>\n",
       "    <tr>\n",
       "      <th>Demographic parity ratio</th>\n",
       "      <td>0.397338</td>\n",
       "    </tr>\n",
       "    <tr>\n",
       "      <th>------</th>\n",
       "      <td></td>\n",
       "    </tr>\n",
       "    <tr>\n",
       "      <th>Overall balanced error rate</th>\n",
       "      <td>0.15319</td>\n",
       "    </tr>\n",
       "    <tr>\n",
       "      <th>Balanced error rate difference</th>\n",
       "      <td>0.009989</td>\n",
       "    </tr>\n",
       "    <tr>\n",
       "      <th>------</th>\n",
       "      <td></td>\n",
       "    </tr>\n",
       "    <tr>\n",
       "      <th>True positive rate difference</th>\n",
       "      <td>0.207656</td>\n",
       "    </tr>\n",
       "    <tr>\n",
       "      <th>True negative rate difference</th>\n",
       "      <td>0.187678</td>\n",
       "    </tr>\n",
       "    <tr>\n",
       "      <th>False positive rate difference</th>\n",
       "      <td>0.187678</td>\n",
       "    </tr>\n",
       "    <tr>\n",
       "      <th>False negative rate difference</th>\n",
       "      <td>0.207656</td>\n",
       "    </tr>\n",
       "    <tr>\n",
       "      <th>Equalized odds difference</th>\n",
       "      <td>0.207656</td>\n",
       "    </tr>\n",
       "    <tr>\n",
       "      <th>------</th>\n",
       "      <td></td>\n",
       "    </tr>\n",
       "    <tr>\n",
       "      <th>Overall AUC</th>\n",
       "      <td>0.929686</td>\n",
       "    </tr>\n",
       "    <tr>\n",
       "      <th>AUC difference</th>\n",
       "      <td>0.038505</td>\n",
       "    </tr>\n",
       "  </tbody>\n",
       "</table>\n",
       "</div>"
      ],
      "text/plain": [
       "                               Unmitigated\n",
       "Overall selection rate            0.728267\n",
       "Demographic parity difference     0.473329\n",
       "Demographic parity ratio          0.397338\n",
       "------                                    \n",
       "Overall balanced error rate        0.15319\n",
       "Balanced error rate difference    0.009989\n",
       " ------                                   \n",
       "True positive rate difference     0.207656\n",
       "True negative rate difference     0.187678\n",
       "False positive rate difference    0.187678\n",
       "False negative rate difference    0.207656\n",
       "Equalized odds difference         0.207656\n",
       "  ------                                  \n",
       "Overall AUC                       0.929686\n",
       "AUC difference                    0.038505"
      ]
     },
     "execution_count": 17,
     "metadata": {},
     "output_type": "execute_result"
    }
   ],
   "source": [
    "# Metrics\n",
    "models_dict = {\"Unmitigated\": (y_predict, test_scores)}\n",
    "get_metrics_df(models_dict, y_test, race_test)"
   ]
  },
  {
   "cell_type": "markdown",
   "metadata": {},
   "source": [
    "### Cross-validated metrics"
   ]
  },
  {
   "cell_type": "code",
   "execution_count": 18,
   "metadata": {},
   "outputs": [],
   "source": [
    "x = data[['score', 'race']].values\n",
    "y = data['repay_indices'].values"
   ]
  },
  {
   "cell_type": "code",
   "execution_count": 19,
   "metadata": {},
   "outputs": [
    {
     "name": "stdout",
     "output_type": "stream",
     "text": [
      "[0.88049031 0.87678494 0.88102891 0.88000443 0.87856714]\n"
     ]
    }
   ],
   "source": [
    "from sklearn.model_selection import cross_val_score\n",
    "scores = cross_val_score(model, x, y, cv=5, scoring='f1_weighted')\n",
    "print(scores)"
   ]
  },
  {
   "cell_type": "markdown",
   "metadata": {},
   "source": [
    "### Delayed impact calculated\n",
    "### Fairness Metric Evaluation of classifier\n",
    "### Evaluation of classifier by race"
   ]
  },
  {
   "cell_type": "code",
   "execution_count": 20,
   "metadata": {},
   "outputs": [],
   "source": [
    "constraint_str = 'Un-'\n",
    "results_overall, results_black, results_white = evaluating_model(constraint_str,X_test,y_test, y_predict, sample_weight_test,race_test)"
   ]
  },
  {
   "cell_type": "markdown",
   "metadata": {},
   "source": [
    "### Save results to dictionaries"
   ]
  },
  {
   "cell_type": "code",
   "execution_count": 21,
   "metadata": {},
   "outputs": [
    {
     "name": "stdout",
     "output_type": "stream",
     "text": [
      "{'dt Unmitigated': [88.16, '88.16/88.04/91.76', 72.83, 76.35, 93.01, 6.99, 23.65, '7.77/38.8', 47.33, 20.77, 20.77, 18.77, 4.25]}\n",
      "{'dt Unmitigated': [84.42, '84.42/84.29/75.88', 31.21, 89.93, 73.43, 26.57, 10.07, 7.77]}\n",
      "{'dt Unmitigated': [88.68, '88.68/88.46/92.68', 78.54, 71.16, 94.19, 5.81, 28.84, 38.8]}\n"
     ]
    }
   ],
   "source": [
    "run_key = f'{model_name} Unmitigated'\n",
    "overall_results_dict = add_values_in_dict(overall_results_dict, run_key, results_overall)\n",
    "black_results_dict = add_values_in_dict(black_results_dict, run_key, results_black)\n",
    "white_results_dict = add_values_in_dict(white_results_dict, run_key, results_white)\n",
    "print(overall_results_dict)\n",
    "print(black_results_dict)\n",
    "print(white_results_dict)"
   ]
  },
  {
   "cell_type": "markdown",
   "metadata": {},
   "source": [
    "## Exponentiated Gradient Reduction Alg for Adding Fairness Constraints"
   ]
  },
  {
   "cell_type": "code",
   "execution_count": 22,
   "metadata": {},
   "outputs": [
    {
     "data": {
      "text/html": [
       "<style>div.output_scroll { height: 60em; }</style>"
      ],
      "text/plain": [
       "<IPython.core.display.HTML object>"
      ]
     },
     "metadata": {},
     "output_type": "display_data"
    }
   ],
   "source": [
    "from IPython.display import display, HTML\n",
    "display(HTML(\"<style>div.output_scroll { height: 60em; }</style>\"))"
   ]
  },
  {
   "cell_type": "markdown",
   "metadata": {},
   "source": [
    "### Demographic Parity"
   ]
  },
  {
   "cell_type": "code",
   "execution_count": 23,
   "metadata": {},
   "outputs": [],
   "source": [
    "mitigator, results_overall, results_black, results_white, y_pred_mitigated = add_constraint(model, 'DP', 'EG', X_train, y_train, race_train, race_test, X_test, y_test, y_predict, sample_weight_test, True)"
   ]
  },
  {
   "cell_type": "markdown",
   "metadata": {},
   "source": [
    "### Get new scores by race"
   ]
  },
  {
   "cell_type": "code",
   "execution_count": 24,
   "metadata": {},
   "outputs": [],
   "source": [
    "### Get new scores by race\n",
    "X_egDP_b, X_egDP_w = get_new_scores(X_test, y_predict, y_test, race_test)"
   ]
  },
  {
   "cell_type": "code",
   "execution_count": 25,
   "metadata": {},
   "outputs": [],
   "source": [
    "#adding scores to list\n",
    "all_scores.extend([X_egDP_b, X_egDP_w])\n",
    "scores_names.extend(['egdpB', 'egdpW'])"
   ]
  },
  {
   "cell_type": "markdown",
   "metadata": {},
   "source": [
    "### Save results to dictionaries"
   ]
  },
  {
   "cell_type": "code",
   "execution_count": 26,
   "metadata": {},
   "outputs": [
    {
     "name": "stdout",
     "output_type": "stream",
     "text": [
      "{'dt Unmitigated': [88.16, '88.16/88.04/91.76', 72.83, 76.35, 93.01, 6.99, 23.65, '7.77/38.8', 47.33, 20.77, 20.77, 18.77, 4.25], 'dt EG DP Mitigated': [88.16, '88.16/88.04/91.76', 72.83, 76.35, 93.01, 6.99, 23.65, '7.77/38.8', 47.33, 20.77, 20.77, 18.77, 4.25]}\n",
      "{'dt Unmitigated': [84.42, '84.42/84.29/75.88', 31.21, 89.93, 73.43, 26.57, 10.07, 7.77], 'dt EG DP Mitigated': [84.42, '84.42/84.29/75.88', 31.21, 89.93, 73.43, 26.57, 10.07, 7.77]}\n",
      "{'dt Unmitigated': [88.68, '88.68/88.46/92.68', 78.54, 71.16, 94.19, 5.81, 28.84, 38.8], 'dt EG DP Mitigated': [88.68, '88.68/88.46/92.68', 78.54, 71.16, 94.19, 5.81, 28.84, 38.8]}\n"
     ]
    }
   ],
   "source": [
    "run_key = f'{model_name} EG DP Mitigated'\n",
    "overall_results_dict = add_values_in_dict(overall_results_dict, run_key, results_overall)\n",
    "black_results_dict = add_values_in_dict(black_results_dict, run_key, results_black)\n",
    "white_results_dict = add_values_in_dict(white_results_dict, run_key, results_white)\n",
    "print(overall_results_dict)\n",
    "print(black_results_dict)\n",
    "print(white_results_dict)"
   ]
  },
  {
   "cell_type": "markdown",
   "metadata": {},
   "source": [
    "### Equalized Odds"
   ]
  },
  {
   "cell_type": "code",
   "execution_count": 27,
   "metadata": {},
   "outputs": [],
   "source": [
    "mitigator, results_overall, results_black, results_white, y_pred_mitigated = add_constraint(model, 'EO', 'EG', X_train, y_train, race_train, race_test, X_test, y_test, y_predict, sample_weight_test, True)"
   ]
  },
  {
   "cell_type": "markdown",
   "metadata": {},
   "source": [
    "### Get new scores by race"
   ]
  },
  {
   "cell_type": "code",
   "execution_count": 28,
   "metadata": {},
   "outputs": [],
   "source": [
    "X_egEO_b, X_egEO_w = get_new_scores(X_test, y_predict, y_test, race_test)"
   ]
  },
  {
   "cell_type": "code",
   "execution_count": 29,
   "metadata": {},
   "outputs": [],
   "source": [
    "#adding scores to list\n",
    "all_scores.extend([X_egEO_b, X_egEO_w])\n",
    "scores_names.extend(['egeoB', 'egeoW'])"
   ]
  },
  {
   "cell_type": "markdown",
   "metadata": {},
   "source": [
    "### Save results to dictionaries"
   ]
  },
  {
   "cell_type": "code",
   "execution_count": 30,
   "metadata": {},
   "outputs": [
    {
     "name": "stdout",
     "output_type": "stream",
     "text": [
      "{'dt Unmitigated': [88.16, '88.16/88.04/91.76', 72.83, 76.35, 93.01, 6.99, 23.65, '7.77/38.8', 47.33, 20.77, 20.77, 18.77, 4.25], 'dt EG DP Mitigated': [88.16, '88.16/88.04/91.76', 72.83, 76.35, 93.01, 6.99, 23.65, '7.77/38.8', 47.33, 20.77, 20.77, 18.77, 4.25], 'dt EG EO Mitigated': [88.16, '88.16/88.04/91.76', 72.83, 76.35, 93.01, 6.99, 23.65, '7.77/38.8', 47.33, 20.77, 20.77, 18.77, 4.25]}\n",
      "{'dt Unmitigated': [84.42, '84.42/84.29/75.88', 31.21, 89.93, 73.43, 26.57, 10.07, 7.77], 'dt EG DP Mitigated': [84.42, '84.42/84.29/75.88', 31.21, 89.93, 73.43, 26.57, 10.07, 7.77], 'dt EG EO Mitigated': [84.42, '84.42/84.29/75.88', 31.21, 89.93, 73.43, 26.57, 10.07, 7.77]}\n",
      "{'dt Unmitigated': [88.68, '88.68/88.46/92.68', 78.54, 71.16, 94.19, 5.81, 28.84, 38.8], 'dt EG DP Mitigated': [88.68, '88.68/88.46/92.68', 78.54, 71.16, 94.19, 5.81, 28.84, 38.8], 'dt EG EO Mitigated': [88.68, '88.68/88.46/92.68', 78.54, 71.16, 94.19, 5.81, 28.84, 38.8]}\n"
     ]
    }
   ],
   "source": [
    "run_key = f'{model_name} EG EO Mitigated'\n",
    "overall_results_dict = add_values_in_dict(overall_results_dict, run_key, results_overall)\n",
    "black_results_dict = add_values_in_dict(black_results_dict, run_key, results_black)\n",
    "white_results_dict = add_values_in_dict(white_results_dict, run_key, results_white)\n",
    "print(overall_results_dict)\n",
    "print(black_results_dict)\n",
    "print(white_results_dict)"
   ]
  },
  {
   "cell_type": "markdown",
   "metadata": {},
   "source": [
    "### EOO (True Positive Rate Parity)"
   ]
  },
  {
   "cell_type": "code",
   "execution_count": 31,
   "metadata": {},
   "outputs": [],
   "source": [
    "mitigator, results_overall, results_black, results_white, y_pred_mitigated = add_constraint(model, 'TPRP', 'EG', X_train, y_train, race_train, race_test, X_test, y_test, y_predict, sample_weight_test, True)"
   ]
  },
  {
   "cell_type": "markdown",
   "metadata": {},
   "source": [
    "### Get new scores by race"
   ]
  },
  {
   "cell_type": "code",
   "execution_count": 32,
   "metadata": {},
   "outputs": [],
   "source": [
    "X_egEOO_b, X_egEOO_w = get_new_scores(X_test, y_predict, y_test, race_test)"
   ]
  },
  {
   "cell_type": "code",
   "execution_count": 33,
   "metadata": {},
   "outputs": [],
   "source": [
    "#adding scores to list\n",
    "all_scores.extend([X_egEOO_b, X_egEOO_w])\n",
    "scores_names.extend(['egeooB', 'egeooW'])"
   ]
  },
  {
   "cell_type": "markdown",
   "metadata": {},
   "source": [
    "### Save results to dictionaries"
   ]
  },
  {
   "cell_type": "code",
   "execution_count": 34,
   "metadata": {},
   "outputs": [
    {
     "name": "stdout",
     "output_type": "stream",
     "text": [
      "{'dt Unmitigated': [88.16, '88.16/88.04/91.76', 72.83, 76.35, 93.01, 6.99, 23.65, '7.77/38.8', 47.33, 20.77, 20.77, 18.77, 4.25], 'dt EG DP Mitigated': [88.16, '88.16/88.04/91.76', 72.83, 76.35, 93.01, 6.99, 23.65, '7.77/38.8', 47.33, 20.77, 20.77, 18.77, 4.25], 'dt EG EO Mitigated': [88.16, '88.16/88.04/91.76', 72.83, 76.35, 93.01, 6.99, 23.65, '7.77/38.8', 47.33, 20.77, 20.77, 18.77, 4.25], 'dt EG EOO Mitigated': [88.16, '88.16/88.04/91.76', 72.83, 76.35, 93.01, 6.99, 23.65, '7.77/38.8', 47.33, 20.77, 20.77, 18.77, 4.25]}\n",
      "{'dt Unmitigated': [84.42, '84.42/84.29/75.88', 31.21, 89.93, 73.43, 26.57, 10.07, 7.77], 'dt EG DP Mitigated': [84.42, '84.42/84.29/75.88', 31.21, 89.93, 73.43, 26.57, 10.07, 7.77], 'dt EG EO Mitigated': [84.42, '84.42/84.29/75.88', 31.21, 89.93, 73.43, 26.57, 10.07, 7.77], 'dt EG EOO Mitigated': [84.42, '84.42/84.29/75.88', 31.21, 89.93, 73.43, 26.57, 10.07, 7.77]}\n",
      "{'dt Unmitigated': [88.68, '88.68/88.46/92.68', 78.54, 71.16, 94.19, 5.81, 28.84, 38.8], 'dt EG DP Mitigated': [88.68, '88.68/88.46/92.68', 78.54, 71.16, 94.19, 5.81, 28.84, 38.8], 'dt EG EO Mitigated': [88.68, '88.68/88.46/92.68', 78.54, 71.16, 94.19, 5.81, 28.84, 38.8], 'dt EG EOO Mitigated': [88.68, '88.68/88.46/92.68', 78.54, 71.16, 94.19, 5.81, 28.84, 38.8]}\n"
     ]
    }
   ],
   "source": [
    "run_key = f'{model_name} EG EOO Mitigated'\n",
    "overall_results_dict = add_values_in_dict(overall_results_dict, run_key, results_overall)\n",
    "black_results_dict = add_values_in_dict(black_results_dict, run_key, results_black)\n",
    "white_results_dict = add_values_in_dict(white_results_dict, run_key, results_white)\n",
    "print(overall_results_dict)\n",
    "print(black_results_dict)\n",
    "print(white_results_dict)"
   ]
  },
  {
   "cell_type": "markdown",
   "metadata": {},
   "source": [
    "### False Positive Rate Parity"
   ]
  },
  {
   "cell_type": "code",
   "execution_count": 35,
   "metadata": {},
   "outputs": [],
   "source": [
    "mitigator, results_overall, results_black, results_white, y_pred_mitigated = add_constraint(model, 'FPRP', 'EG', X_train, y_train, race_train, race_test, X_test, y_test, y_predict, sample_weight_test, True)"
   ]
  },
  {
   "cell_type": "markdown",
   "metadata": {},
   "source": [
    "### Get new scores by race"
   ]
  },
  {
   "cell_type": "code",
   "execution_count": 36,
   "metadata": {},
   "outputs": [],
   "source": [
    "X_egFPRP_b, X_egFPRP_w = get_new_scores(X_test, y_predict, y_test, race_test)"
   ]
  },
  {
   "cell_type": "code",
   "execution_count": 37,
   "metadata": {},
   "outputs": [],
   "source": [
    "#adding scores to list\n",
    "all_scores.extend([X_egFPRP_b, X_egFPRP_w])\n",
    "scores_names.extend(['egfprpB', 'egfprpW'])"
   ]
  },
  {
   "cell_type": "markdown",
   "metadata": {},
   "source": [
    "### Save results to dictionaries"
   ]
  },
  {
   "cell_type": "code",
   "execution_count": 38,
   "metadata": {},
   "outputs": [
    {
     "name": "stdout",
     "output_type": "stream",
     "text": [
      "{'dt Unmitigated': [88.16, '88.16/88.04/91.76', 72.83, 76.35, 93.01, 6.99, 23.65, '7.77/38.8', 47.33, 20.77, 20.77, 18.77, 4.25], 'dt EG DP Mitigated': [88.16, '88.16/88.04/91.76', 72.83, 76.35, 93.01, 6.99, 23.65, '7.77/38.8', 47.33, 20.77, 20.77, 18.77, 4.25], 'dt EG EO Mitigated': [88.16, '88.16/88.04/91.76', 72.83, 76.35, 93.01, 6.99, 23.65, '7.77/38.8', 47.33, 20.77, 20.77, 18.77, 4.25], 'dt EG EOO Mitigated': [88.16, '88.16/88.04/91.76', 72.83, 76.35, 93.01, 6.99, 23.65, '7.77/38.8', 47.33, 20.77, 20.77, 18.77, 4.25], 'dt EG FPRP Mitigated': [88.16, '88.16/88.04/91.76', 72.83, 76.35, 93.01, 6.99, 23.65, '7.77/38.8', 47.33, 20.77, 20.77, 18.77, 4.25]}\n",
      "{'dt Unmitigated': [84.42, '84.42/84.29/75.88', 31.21, 89.93, 73.43, 26.57, 10.07, 7.77], 'dt EG DP Mitigated': [84.42, '84.42/84.29/75.88', 31.21, 89.93, 73.43, 26.57, 10.07, 7.77], 'dt EG EO Mitigated': [84.42, '84.42/84.29/75.88', 31.21, 89.93, 73.43, 26.57, 10.07, 7.77], 'dt EG EOO Mitigated': [84.42, '84.42/84.29/75.88', 31.21, 89.93, 73.43, 26.57, 10.07, 7.77], 'dt EG FPRP Mitigated': [84.42, '84.42/84.29/75.88', 31.21, 89.93, 73.43, 26.57, 10.07, 7.77]}\n",
      "{'dt Unmitigated': [88.68, '88.68/88.46/92.68', 78.54, 71.16, 94.19, 5.81, 28.84, 38.8], 'dt EG DP Mitigated': [88.68, '88.68/88.46/92.68', 78.54, 71.16, 94.19, 5.81, 28.84, 38.8], 'dt EG EO Mitigated': [88.68, '88.68/88.46/92.68', 78.54, 71.16, 94.19, 5.81, 28.84, 38.8], 'dt EG EOO Mitigated': [88.68, '88.68/88.46/92.68', 78.54, 71.16, 94.19, 5.81, 28.84, 38.8], 'dt EG FPRP Mitigated': [88.68, '88.68/88.46/92.68', 78.54, 71.16, 94.19, 5.81, 28.84, 38.8]}\n"
     ]
    }
   ],
   "source": [
    "run_key = f'{model_name} EG FPRP Mitigated'\n",
    "overall_results_dict = add_values_in_dict(overall_results_dict, run_key, results_overall)\n",
    "black_results_dict = add_values_in_dict(black_results_dict, run_key, results_black)\n",
    "white_results_dict = add_values_in_dict(white_results_dict, run_key, results_white)\n",
    "print(overall_results_dict)\n",
    "print(black_results_dict)\n",
    "print(white_results_dict)"
   ]
  },
  {
   "cell_type": "markdown",
   "metadata": {},
   "source": [
    "### Error Rate Parity"
   ]
  },
  {
   "cell_type": "code",
   "execution_count": 39,
   "metadata": {},
   "outputs": [],
   "source": [
    "mitigator, results_overall, results_black, results_white, y_pred_mitigated = add_constraint(model, 'ERP', 'EG', X_train, y_train, race_train, race_test, X_test, y_test, y_predict, sample_weight_test, True)"
   ]
  },
  {
   "cell_type": "markdown",
   "metadata": {},
   "source": [
    "### Get new scores by race"
   ]
  },
  {
   "cell_type": "code",
   "execution_count": 40,
   "metadata": {},
   "outputs": [],
   "source": [
    "X_egERP_b, X_egERP_w = get_new_scores(X_test, y_predict, y_test, race_test)"
   ]
  },
  {
   "cell_type": "code",
   "execution_count": 41,
   "metadata": {},
   "outputs": [],
   "source": [
    "#adding scores to list\n",
    "all_scores.extend([X_egERP_b, X_egERP_w])\n",
    "scores_names.extend(['egerpB', 'egerpW'])"
   ]
  },
  {
   "cell_type": "markdown",
   "metadata": {},
   "source": [
    "### Save results to dictionaries"
   ]
  },
  {
   "cell_type": "code",
   "execution_count": 42,
   "metadata": {
    "scrolled": true
   },
   "outputs": [
    {
     "name": "stdout",
     "output_type": "stream",
     "text": [
      "{'dt Unmitigated': [88.16, '88.16/88.04/91.76', 72.83, 76.35, 93.01, 6.99, 23.65, '7.77/38.8', 47.33, 20.77, 20.77, 18.77, 4.25], 'dt EG DP Mitigated': [88.16, '88.16/88.04/91.76', 72.83, 76.35, 93.01, 6.99, 23.65, '7.77/38.8', 47.33, 20.77, 20.77, 18.77, 4.25], 'dt EG EO Mitigated': [88.16, '88.16/88.04/91.76', 72.83, 76.35, 93.01, 6.99, 23.65, '7.77/38.8', 47.33, 20.77, 20.77, 18.77, 4.25], 'dt EG EOO Mitigated': [88.16, '88.16/88.04/91.76', 72.83, 76.35, 93.01, 6.99, 23.65, '7.77/38.8', 47.33, 20.77, 20.77, 18.77, 4.25], 'dt EG FPRP Mitigated': [88.16, '88.16/88.04/91.76', 72.83, 76.35, 93.01, 6.99, 23.65, '7.77/38.8', 47.33, 20.77, 20.77, 18.77, 4.25], 'dt EG ERP Mitigated': [88.16, '88.16/88.04/91.76', 72.83, 76.35, 93.01, 6.99, 23.65, '7.77/38.8', 47.33, 20.77, 20.77, 18.77, 4.25]}\n",
      "{'dt Unmitigated': [84.42, '84.42/84.29/75.88', 31.21, 89.93, 73.43, 26.57, 10.07, 7.77], 'dt EG DP Mitigated': [84.42, '84.42/84.29/75.88', 31.21, 89.93, 73.43, 26.57, 10.07, 7.77], 'dt EG EO Mitigated': [84.42, '84.42/84.29/75.88', 31.21, 89.93, 73.43, 26.57, 10.07, 7.77], 'dt EG EOO Mitigated': [84.42, '84.42/84.29/75.88', 31.21, 89.93, 73.43, 26.57, 10.07, 7.77], 'dt EG FPRP Mitigated': [84.42, '84.42/84.29/75.88', 31.21, 89.93, 73.43, 26.57, 10.07, 7.77], 'dt EG ERP Mitigated': [84.42, '84.42/84.29/75.88', 31.21, 89.93, 73.43, 26.57, 10.07, 7.77]}\n",
      "{'dt Unmitigated': [88.68, '88.68/88.46/92.68', 78.54, 71.16, 94.19, 5.81, 28.84, 38.8], 'dt EG DP Mitigated': [88.68, '88.68/88.46/92.68', 78.54, 71.16, 94.19, 5.81, 28.84, 38.8], 'dt EG EO Mitigated': [88.68, '88.68/88.46/92.68', 78.54, 71.16, 94.19, 5.81, 28.84, 38.8], 'dt EG EOO Mitigated': [88.68, '88.68/88.46/92.68', 78.54, 71.16, 94.19, 5.81, 28.84, 38.8], 'dt EG FPRP Mitigated': [88.68, '88.68/88.46/92.68', 78.54, 71.16, 94.19, 5.81, 28.84, 38.8], 'dt EG ERP Mitigated': [88.68, '88.68/88.46/92.68', 78.54, 71.16, 94.19, 5.81, 28.84, 38.8]}\n"
     ]
    }
   ],
   "source": [
    "run_key = f'{model_name} EG ERP Mitigated'\n",
    "overall_results_dict = add_values_in_dict(overall_results_dict, run_key, results_overall)\n",
    "black_results_dict = add_values_in_dict(black_results_dict, run_key, results_black)\n",
    "white_results_dict = add_values_in_dict(white_results_dict, run_key, results_white)\n",
    "print(overall_results_dict)\n",
    "print(black_results_dict)\n",
    "print(white_results_dict)"
   ]
  },
  {
   "cell_type": "markdown",
   "metadata": {},
   "source": [
    "### Bounded Group Loss (issue, need to figure out loss parameter)"
   ]
  },
  {
   "cell_type": "code",
   "execution_count": 43,
   "metadata": {},
   "outputs": [
    {
     "data": {
      "text/plain": [
       "\"\\nmitigator, results_overall, results_black, results_white= add_constraint(model, 'BGL', 'EG', X_train, y_train, race_train, race_test, X_test, y_test, y_predict, sample_weight_test, False)\\nrun_key = f'{model_name} EG DP Mitigated'\\noverall_results_dict = add_values_in_dict(overall_results_dict, run_key, results_overall)\\nblack_results_dict = add_values_in_dict(black_results_dict, run_key, results_black)\\nwhite_results_dict = add_values_in_dict(white_results_dict, run_key, results_white)\\nprint(overall_results_dict)\\nprint(black_results_dict)\\nprint(white_results_dict)\\n\""
      ]
     },
     "execution_count": 43,
     "metadata": {},
     "output_type": "execute_result"
    }
   ],
   "source": [
    "'''\n",
    "mitigator, results_overall, results_black, results_white= add_constraint(model, 'BGL', 'EG', X_train, y_train, race_train, race_test, X_test, y_test, y_predict, sample_weight_test, False)\n",
    "run_key = f'{model_name} EG DP Mitigated'\n",
    "overall_results_dict = add_values_in_dict(overall_results_dict, run_key, results_overall)\n",
    "black_results_dict = add_values_in_dict(black_results_dict, run_key, results_black)\n",
    "white_results_dict = add_values_in_dict(white_results_dict, run_key, results_white)\n",
    "print(overall_results_dict)\n",
    "print(black_results_dict)\n",
    "print(white_results_dict)\n",
    "'''"
   ]
  },
  {
   "cell_type": "markdown",
   "metadata": {},
   "source": [
    "## Grid Search Reduction Alg for Adding Fairness Constraints"
   ]
  },
  {
   "cell_type": "markdown",
   "metadata": {},
   "source": [
    "### Demographic Parity"
   ]
  },
  {
   "cell_type": "code",
   "execution_count": 44,
   "metadata": {},
   "outputs": [],
   "source": [
    "mitigator, results_overall, results_black, results_white, y_pred_mitigated = add_constraint(model, 'DP', 'GS', X_train, y_train, race_train, race_test, X_test, y_test, y_predict, sample_weight_test, True)"
   ]
  },
  {
   "cell_type": "code",
   "execution_count": 45,
   "metadata": {},
   "outputs": [
    {
     "name": "stdout",
     "output_type": "stream",
     "text": [
      "sign  event  group_id\n",
      "+     all    0           0.0\n",
      "             1           0.0\n",
      "-     all    0           0.0\n",
      "             1           2.0\n",
      "Name: 0, dtype: float64\n"
     ]
    }
   ],
   "source": [
    "# We can examine the values of lambda_i chosen for us:\n",
    "lambda_vecs = mitigator.lambda_vecs_\n",
    "print(lambda_vecs[0])"
   ]
  },
  {
   "cell_type": "markdown",
   "metadata": {},
   "source": [
    "The next few cells come from: https://github.com/fairlearn/fairlearn/blob/main/notebooks/Binary%20Classification%20with%20the%20UCI%20Credit-card%20Default%20Dataset.ipynb\n",
    "\n",
    "Note: we train multiple models corresponding to different trade-off points between the performance metric (balanced accuracy) and fairness metric."
   ]
  },
  {
   "cell_type": "code",
   "execution_count": 46,
   "metadata": {},
   "outputs": [
    {
     "data": {
      "image/png": "[encoded data removed]",
      "text/plain": [
       "<Figure size 432x288 with 1 Axes>"
      ]
     },
     "metadata": {
      "needs_background": "light"
     },
     "output_type": "display_data"
    },
    {
     "data": {
      "text/plain": [
       "{'Unmitigated': (array([1, 1, 1, ..., 0, 0, 1], dtype=int64),\n",
       "  array([0.98003328, 0.63914373, 0.68361582, ..., 0.35260116, 0.        ,\n",
       "         0.9       ])),\n",
       " 'GS DPD': (array([1, 1, 1, ..., 0, 0, 1]),\n",
       "  array([0.97527954, 0.58739896, 0.63460235, ..., 0.3044806 , 0.        ,\n",
       "         0.98780488]))}"
      ]
     },
     "execution_count": 46,
     "metadata": {},
     "output_type": "execute_result"
    }
   ],
   "source": [
    "grid_search_show(mitigator, demographic_parity_difference, y_predict, X_test, y_test, race_test, 'DemParityDifference','GS DPD', models_dict, 0.3)"
   ]
  },
  {
   "cell_type": "code",
   "execution_count": 47,
   "metadata": {},
   "outputs": [
    {
     "data": {
      "text/plain": [
       "{'Unmitigated': (array([1, 1, 1, ..., 0, 0, 1], dtype=int64),\n",
       "  array([0.98003328, 0.63914373, 0.68361582, ..., 0.35260116, 0.        ,\n",
       "         0.9       ]))}"
      ]
     },
     "execution_count": 47,
     "metadata": {},
     "output_type": "execute_result"
    }
   ],
   "source": [
    "models_dict.pop('GS DPD')\n",
    "models_dict"
   ]
  },
  {
   "cell_type": "markdown",
   "metadata": {},
   "source": [
    "### Get new scores by race"
   ]
  },
  {
   "cell_type": "code",
   "execution_count": 48,
   "metadata": {},
   "outputs": [],
   "source": [
    "X_gsDP_b, X_gsDP_w = get_new_scores(X_test, y_predict, y_test, race_test)"
   ]
  },
  {
   "cell_type": "code",
   "execution_count": 49,
   "metadata": {},
   "outputs": [],
   "source": [
    "#adding scores to list\n",
    "all_scores.extend([X_gsDP_b, X_gsDP_w ])\n",
    "scores_names.extend(['gsdpB', 'gsdpW'])"
   ]
  },
  {
   "cell_type": "markdown",
   "metadata": {},
   "source": [
    "### Save results to dictionaries"
   ]
  },
  {
   "cell_type": "code",
   "execution_count": 50,
   "metadata": {},
   "outputs": [
    {
     "name": "stdout",
     "output_type": "stream",
     "text": [
      "{'dt Unmitigated': [88.16, '88.16/88.04/91.76', 72.83, 76.35, 93.01, 6.99, 23.65, '7.77/38.8', 47.33, 20.77, 20.77, 18.77, 4.25], 'dt EG DP Mitigated': [88.16, '88.16/88.04/91.76', 72.83, 76.35, 93.01, 6.99, 23.65, '7.77/38.8', 47.33, 20.77, 20.77, 18.77, 4.25], 'dt EG EO Mitigated': [88.16, '88.16/88.04/91.76', 72.83, 76.35, 93.01, 6.99, 23.65, '7.77/38.8', 47.33, 20.77, 20.77, 18.77, 4.25], 'dt EG EOO Mitigated': [88.16, '88.16/88.04/91.76', 72.83, 76.35, 93.01, 6.99, 23.65, '7.77/38.8', 47.33, 20.77, 20.77, 18.77, 4.25], 'dt EG FPRP Mitigated': [88.16, '88.16/88.04/91.76', 72.83, 76.35, 93.01, 6.99, 23.65, '7.77/38.8', 47.33, 20.77, 20.77, 18.77, 4.25], 'dt EG ERP Mitigated': [88.16, '88.16/88.04/91.76', 72.83, 76.35, 93.01, 6.99, 23.65, '7.77/38.8', 47.33, 20.77, 20.77, 18.77, 4.25], 'dt GS DP Mitigated': [88.16, '88.16/88.04/91.76', 72.83, 76.35, 93.01, 6.99, 23.65, '7.77/38.8', 47.33, 20.77, 20.77, 18.77, 4.25]}\n",
      "{'dt Unmitigated': [84.42, '84.42/84.29/75.88', 31.21, 89.93, 73.43, 26.57, 10.07, 7.77], 'dt EG DP Mitigated': [84.42, '84.42/84.29/75.88', 31.21, 89.93, 73.43, 26.57, 10.07, 7.77], 'dt EG EO Mitigated': [84.42, '84.42/84.29/75.88', 31.21, 89.93, 73.43, 26.57, 10.07, 7.77], 'dt EG EOO Mitigated': [84.42, '84.42/84.29/75.88', 31.21, 89.93, 73.43, 26.57, 10.07, 7.77], 'dt EG FPRP Mitigated': [84.42, '84.42/84.29/75.88', 31.21, 89.93, 73.43, 26.57, 10.07, 7.77], 'dt EG ERP Mitigated': [84.42, '84.42/84.29/75.88', 31.21, 89.93, 73.43, 26.57, 10.07, 7.77], 'dt GS DP Mitigated': [84.42, '84.42/84.29/75.88', 31.21, 89.93, 73.43, 26.57, 10.07, 7.77]}\n",
      "{'dt Unmitigated': [88.68, '88.68/88.46/92.68', 78.54, 71.16, 94.19, 5.81, 28.84, 38.8], 'dt EG DP Mitigated': [88.68, '88.68/88.46/92.68', 78.54, 71.16, 94.19, 5.81, 28.84, 38.8], 'dt EG EO Mitigated': [88.68, '88.68/88.46/92.68', 78.54, 71.16, 94.19, 5.81, 28.84, 38.8], 'dt EG EOO Mitigated': [88.68, '88.68/88.46/92.68', 78.54, 71.16, 94.19, 5.81, 28.84, 38.8], 'dt EG FPRP Mitigated': [88.68, '88.68/88.46/92.68', 78.54, 71.16, 94.19, 5.81, 28.84, 38.8], 'dt EG ERP Mitigated': [88.68, '88.68/88.46/92.68', 78.54, 71.16, 94.19, 5.81, 28.84, 38.8], 'dt GS DP Mitigated': [88.68, '88.68/88.46/92.68', 78.54, 71.16, 94.19, 5.81, 28.84, 38.8]}\n"
     ]
    }
   ],
   "source": [
    "run_key = f'{model_name} GS DP Mitigated'\n",
    "overall_results_dict = add_values_in_dict(overall_results_dict, run_key, results_overall)\n",
    "black_results_dict = add_values_in_dict(black_results_dict, run_key, results_black)\n",
    "white_results_dict = add_values_in_dict(white_results_dict, run_key, results_white)\n",
    "print(overall_results_dict)\n",
    "print(black_results_dict)\n",
    "print(white_results_dict)"
   ]
  },
  {
   "cell_type": "markdown",
   "metadata": {},
   "source": [
    "### Equalized Odds Used"
   ]
  },
  {
   "cell_type": "code",
   "execution_count": 51,
   "metadata": {},
   "outputs": [],
   "source": [
    "mitigator, results_overall, results_black, results_white, y_pred_mitigated = add_constraint(model, 'EO', 'GS', X_train, y_train, race_train, race_test, X_test, y_test, y_predict, sample_weight_test, True)"
   ]
  },
  {
   "cell_type": "code",
   "execution_count": 52,
   "metadata": {},
   "outputs": [
    {
     "name": "stdout",
     "output_type": "stream",
     "text": [
      "sign  event    group_id\n",
      "+     label=0  0           0.0\n",
      "               1           0.0\n",
      "      label=1  0           0.0\n",
      "               1           0.0\n",
      "-     label=0  0           0.0\n",
      "               1           0.0\n",
      "      label=1  0           0.0\n",
      "               1           2.0\n",
      "Name: 0, dtype: float64\n"
     ]
    }
   ],
   "source": [
    "# We can examine the values of lambda_i chosen for us:\n",
    "lambda_vecs = mitigator.lambda_vecs_\n",
    "print(lambda_vecs[0])"
   ]
  },
  {
   "cell_type": "code",
   "execution_count": 53,
   "metadata": {},
   "outputs": [
    {
     "data": {
      "image/png": "[encoded data removed]",
      "text/plain": [
       "<Figure size 432x288 with 1 Axes>"
      ]
     },
     "metadata": {
      "needs_background": "light"
     },
     "output_type": "display_data"
    },
    {
     "data": {
      "text/plain": [
       "{'Unmitigated': (array([1, 1, 1, ..., 0, 0, 1], dtype=int64),\n",
       "  array([0.98003328, 0.63914373, 0.68361582, ..., 0.35260116, 0.        ,\n",
       "         0.9       ])),\n",
       " 'GS EO': (array([1, 1, 1, ..., 0, 0, 1]),\n",
       "  array([0.98003328, 0.63914373, 0.68361582, ..., 0.35260116, 0.        ,\n",
       "         0.9       ]))}"
      ]
     },
     "execution_count": 53,
     "metadata": {},
     "output_type": "execute_result"
    }
   ],
   "source": [
    "grid_search_show(mitigator, equalized_odds_difference, y_predict, X_test, y_test, race_test, 'EOddsDifference','GS EO', models_dict, 0.3)"
   ]
  },
  {
   "cell_type": "code",
   "execution_count": 54,
   "metadata": {},
   "outputs": [
    {
     "data": {
      "text/plain": [
       "{'Unmitigated': (array([1, 1, 1, ..., 0, 0, 1], dtype=int64),\n",
       "  array([0.98003328, 0.63914373, 0.68361582, ..., 0.35260116, 0.        ,\n",
       "         0.9       ]))}"
      ]
     },
     "execution_count": 54,
     "metadata": {},
     "output_type": "execute_result"
    }
   ],
   "source": [
    "models_dict.pop('GS EO')\n",
    "models_dict"
   ]
  },
  {
   "cell_type": "markdown",
   "metadata": {},
   "source": [
    "### Get new scores by race"
   ]
  },
  {
   "cell_type": "code",
   "execution_count": 55,
   "metadata": {},
   "outputs": [],
   "source": [
    "X_gsEO_b, X_gsEO_w = get_new_scores(X_test, y_predict, y_test, race_test)"
   ]
  },
  {
   "cell_type": "code",
   "execution_count": 56,
   "metadata": {},
   "outputs": [],
   "source": [
    "#adding scores to list\n",
    "all_scores.extend([X_gsEO_b, X_gsEO_w])\n",
    "scores_names.extend(['gseoB', 'gseoW'])"
   ]
  },
  {
   "cell_type": "markdown",
   "metadata": {},
   "source": [
    "### Save results to dictionaries"
   ]
  },
  {
   "cell_type": "code",
   "execution_count": 57,
   "metadata": {},
   "outputs": [
    {
     "name": "stdout",
     "output_type": "stream",
     "text": [
      "{'dt Unmitigated': [88.16, '88.16/88.04/91.76', 72.83, 76.35, 93.01, 6.99, 23.65, '7.77/38.8', 47.33, 20.77, 20.77, 18.77, 4.25], 'dt EG DP Mitigated': [88.16, '88.16/88.04/91.76', 72.83, 76.35, 93.01, 6.99, 23.65, '7.77/38.8', 47.33, 20.77, 20.77, 18.77, 4.25], 'dt EG EO Mitigated': [88.16, '88.16/88.04/91.76', 72.83, 76.35, 93.01, 6.99, 23.65, '7.77/38.8', 47.33, 20.77, 20.77, 18.77, 4.25], 'dt EG EOO Mitigated': [88.16, '88.16/88.04/91.76', 72.83, 76.35, 93.01, 6.99, 23.65, '7.77/38.8', 47.33, 20.77, 20.77, 18.77, 4.25], 'dt EG FPRP Mitigated': [88.16, '88.16/88.04/91.76', 72.83, 76.35, 93.01, 6.99, 23.65, '7.77/38.8', 47.33, 20.77, 20.77, 18.77, 4.25], 'dt EG ERP Mitigated': [88.16, '88.16/88.04/91.76', 72.83, 76.35, 93.01, 6.99, 23.65, '7.77/38.8', 47.33, 20.77, 20.77, 18.77, 4.25], 'dt GS DP Mitigated': [88.16, '88.16/88.04/91.76', 72.83, 76.35, 93.01, 6.99, 23.65, '7.77/38.8', 47.33, 20.77, 20.77, 18.77, 4.25], 'dt GS EO Mitigated': [88.16, '88.16/88.04/91.76', 72.83, 76.35, 93.01, 6.99, 23.65, '7.77/38.8', 47.33, 20.77, 20.77, 18.77, 4.25]}\n",
      "{'dt Unmitigated': [84.42, '84.42/84.29/75.88', 31.21, 89.93, 73.43, 26.57, 10.07, 7.77], 'dt EG DP Mitigated': [84.42, '84.42/84.29/75.88', 31.21, 89.93, 73.43, 26.57, 10.07, 7.77], 'dt EG EO Mitigated': [84.42, '84.42/84.29/75.88', 31.21, 89.93, 73.43, 26.57, 10.07, 7.77], 'dt EG EOO Mitigated': [84.42, '84.42/84.29/75.88', 31.21, 89.93, 73.43, 26.57, 10.07, 7.77], 'dt EG FPRP Mitigated': [84.42, '84.42/84.29/75.88', 31.21, 89.93, 73.43, 26.57, 10.07, 7.77], 'dt EG ERP Mitigated': [84.42, '84.42/84.29/75.88', 31.21, 89.93, 73.43, 26.57, 10.07, 7.77], 'dt GS DP Mitigated': [84.42, '84.42/84.29/75.88', 31.21, 89.93, 73.43, 26.57, 10.07, 7.77], 'dt GS EO Mitigated': [84.42, '84.42/84.29/75.88', 31.21, 89.93, 73.43, 26.57, 10.07, 7.77]}\n",
      "{'dt Unmitigated': [88.68, '88.68/88.46/92.68', 78.54, 71.16, 94.19, 5.81, 28.84, 38.8], 'dt EG DP Mitigated': [88.68, '88.68/88.46/92.68', 78.54, 71.16, 94.19, 5.81, 28.84, 38.8], 'dt EG EO Mitigated': [88.68, '88.68/88.46/92.68', 78.54, 71.16, 94.19, 5.81, 28.84, 38.8], 'dt EG EOO Mitigated': [88.68, '88.68/88.46/92.68', 78.54, 71.16, 94.19, 5.81, 28.84, 38.8], 'dt EG FPRP Mitigated': [88.68, '88.68/88.46/92.68', 78.54, 71.16, 94.19, 5.81, 28.84, 38.8], 'dt EG ERP Mitigated': [88.68, '88.68/88.46/92.68', 78.54, 71.16, 94.19, 5.81, 28.84, 38.8], 'dt GS DP Mitigated': [88.68, '88.68/88.46/92.68', 78.54, 71.16, 94.19, 5.81, 28.84, 38.8], 'dt GS EO Mitigated': [88.68, '88.68/88.46/92.68', 78.54, 71.16, 94.19, 5.81, 28.84, 38.8]}\n"
     ]
    }
   ],
   "source": [
    "run_key = f'{model_name} GS EO Mitigated'\n",
    "overall_results_dict = add_values_in_dict(overall_results_dict, run_key, results_overall)\n",
    "black_results_dict = add_values_in_dict(black_results_dict, run_key, results_black)\n",
    "white_results_dict = add_values_in_dict(white_results_dict, run_key, results_white)\n",
    "print(overall_results_dict)\n",
    "print(black_results_dict)\n",
    "print(white_results_dict)"
   ]
  },
  {
   "cell_type": "markdown",
   "metadata": {},
   "source": [
    "### EOO (True Positive Rate Parity)"
   ]
  },
  {
   "cell_type": "code",
   "execution_count": 58,
   "metadata": {},
   "outputs": [],
   "source": [
    "mitigator, results_overall, results_black, results_white, y_pred_mitigated = add_constraint(model, 'TPRP', 'GS', X_train, y_train, race_train, race_test, X_test, y_test, y_predict, sample_weight_test, True)"
   ]
  },
  {
   "cell_type": "code",
   "execution_count": 59,
   "metadata": {},
   "outputs": [
    {
     "name": "stdout",
     "output_type": "stream",
     "text": [
      "sign  event    group_id\n",
      "+     label=1  0           0.0\n",
      "               1           0.0\n",
      "-     label=1  0           0.0\n",
      "               1           2.0\n",
      "Name: 0, dtype: float64\n"
     ]
    }
   ],
   "source": [
    "# We can examine the values of lambda_i chosen for us:\n",
    "lambda_vecs = mitigator.lambda_vecs_\n",
    "print(lambda_vecs[0])"
   ]
  },
  {
   "cell_type": "code",
   "execution_count": 60,
   "metadata": {},
   "outputs": [
    {
     "data": {
      "image/png": "[encoded data removed]",
      "text/plain": [
       "<Figure size 432x288 with 1 Axes>"
      ]
     },
     "metadata": {
      "needs_background": "light"
     },
     "output_type": "display_data"
    },
    {
     "data": {
      "text/plain": [
       "{'Unmitigated': (array([1, 1, 1, ..., 0, 0, 1], dtype=int64),\n",
       "  array([0.98003328, 0.63914373, 0.68361582, ..., 0.35260116, 0.        ,\n",
       "         0.9       ])),\n",
       " 'GS TPRP': (array([1, 1, 1, ..., 0, 0, 1]),\n",
       "  array([0.97698009, 0.60497468, 0.65136076, ..., 0.32015972, 0.        ,\n",
       "         0.96699143]))}"
      ]
     },
     "execution_count": 60,
     "metadata": {},
     "output_type": "execute_result"
    }
   ],
   "source": [
    "grid_search_show(mitigator, true_positive_rate_difference, y_predict, X_test, y_test, race_test, 'TPRPDifference','GS TPRP', models_dict, 0.3)"
   ]
  },
  {
   "cell_type": "code",
   "execution_count": 61,
   "metadata": {},
   "outputs": [
    {
     "data": {
      "text/plain": [
       "{'Unmitigated': (array([1, 1, 1, ..., 0, 0, 1], dtype=int64),\n",
       "  array([0.98003328, 0.63914373, 0.68361582, ..., 0.35260116, 0.        ,\n",
       "         0.9       ]))}"
      ]
     },
     "execution_count": 61,
     "metadata": {},
     "output_type": "execute_result"
    }
   ],
   "source": [
    "models_dict.pop('GS TPRP')\n",
    "models_dict"
   ]
  },
  {
   "cell_type": "markdown",
   "metadata": {},
   "source": [
    "### Get new scores by race"
   ]
  },
  {
   "cell_type": "code",
   "execution_count": 62,
   "metadata": {},
   "outputs": [],
   "source": [
    "X_gsEOO_b, X_gsEOO_w = get_new_scores(X_test, y_predict, y_test, race_test)"
   ]
  },
  {
   "cell_type": "code",
   "execution_count": 63,
   "metadata": {},
   "outputs": [],
   "source": [
    "#adding scores to list\n",
    "all_scores.extend([X_gsEOO_b, X_gsEOO_w])\n",
    "scores_names.extend(['gseooB', 'gseooW'])"
   ]
  },
  {
   "cell_type": "markdown",
   "metadata": {},
   "source": [
    "### Save results to dictionaries"
   ]
  },
  {
   "cell_type": "code",
   "execution_count": 64,
   "metadata": {},
   "outputs": [
    {
     "name": "stdout",
     "output_type": "stream",
     "text": [
      "{'dt Unmitigated': [88.16, '88.16/88.04/91.76', 72.83, 76.35, 93.01, 6.99, 23.65, '7.77/38.8', 47.33, 20.77, 20.77, 18.77, 4.25], 'dt EG DP Mitigated': [88.16, '88.16/88.04/91.76', 72.83, 76.35, 93.01, 6.99, 23.65, '7.77/38.8', 47.33, 20.77, 20.77, 18.77, 4.25], 'dt EG EO Mitigated': [88.16, '88.16/88.04/91.76', 72.83, 76.35, 93.01, 6.99, 23.65, '7.77/38.8', 47.33, 20.77, 20.77, 18.77, 4.25], 'dt EG EOO Mitigated': [88.16, '88.16/88.04/91.76', 72.83, 76.35, 93.01, 6.99, 23.65, '7.77/38.8', 47.33, 20.77, 20.77, 18.77, 4.25], 'dt EG FPRP Mitigated': [88.16, '88.16/88.04/91.76', 72.83, 76.35, 93.01, 6.99, 23.65, '7.77/38.8', 47.33, 20.77, 20.77, 18.77, 4.25], 'dt EG ERP Mitigated': [88.16, '88.16/88.04/91.76', 72.83, 76.35, 93.01, 6.99, 23.65, '7.77/38.8', 47.33, 20.77, 20.77, 18.77, 4.25], 'dt GS DP Mitigated': [88.16, '88.16/88.04/91.76', 72.83, 76.35, 93.01, 6.99, 23.65, '7.77/38.8', 47.33, 20.77, 20.77, 18.77, 4.25], 'dt GS EO Mitigated': [88.16, '88.16/88.04/91.76', 72.83, 76.35, 93.01, 6.99, 23.65, '7.77/38.8', 47.33, 20.77, 20.77, 18.77, 4.25], 'dt GS EOO Mitigated': [88.16, '88.16/88.04/91.76', 72.83, 76.35, 93.01, 6.99, 23.65, '7.77/38.8', 47.33, 20.77, 20.77, 18.77, 4.25]}\n",
      "{'dt Unmitigated': [84.42, '84.42/84.29/75.88', 31.21, 89.93, 73.43, 26.57, 10.07, 7.77], 'dt EG DP Mitigated': [84.42, '84.42/84.29/75.88', 31.21, 89.93, 73.43, 26.57, 10.07, 7.77], 'dt EG EO Mitigated': [84.42, '84.42/84.29/75.88', 31.21, 89.93, 73.43, 26.57, 10.07, 7.77], 'dt EG EOO Mitigated': [84.42, '84.42/84.29/75.88', 31.21, 89.93, 73.43, 26.57, 10.07, 7.77], 'dt EG FPRP Mitigated': [84.42, '84.42/84.29/75.88', 31.21, 89.93, 73.43, 26.57, 10.07, 7.77], 'dt EG ERP Mitigated': [84.42, '84.42/84.29/75.88', 31.21, 89.93, 73.43, 26.57, 10.07, 7.77], 'dt GS DP Mitigated': [84.42, '84.42/84.29/75.88', 31.21, 89.93, 73.43, 26.57, 10.07, 7.77], 'dt GS EO Mitigated': [84.42, '84.42/84.29/75.88', 31.21, 89.93, 73.43, 26.57, 10.07, 7.77], 'dt GS EOO Mitigated': [84.42, '84.42/84.29/75.88', 31.21, 89.93, 73.43, 26.57, 10.07, 7.77]}\n",
      "{'dt Unmitigated': [88.68, '88.68/88.46/92.68', 78.54, 71.16, 94.19, 5.81, 28.84, 38.8], 'dt EG DP Mitigated': [88.68, '88.68/88.46/92.68', 78.54, 71.16, 94.19, 5.81, 28.84, 38.8], 'dt EG EO Mitigated': [88.68, '88.68/88.46/92.68', 78.54, 71.16, 94.19, 5.81, 28.84, 38.8], 'dt EG EOO Mitigated': [88.68, '88.68/88.46/92.68', 78.54, 71.16, 94.19, 5.81, 28.84, 38.8], 'dt EG FPRP Mitigated': [88.68, '88.68/88.46/92.68', 78.54, 71.16, 94.19, 5.81, 28.84, 38.8], 'dt EG ERP Mitigated': [88.68, '88.68/88.46/92.68', 78.54, 71.16, 94.19, 5.81, 28.84, 38.8], 'dt GS DP Mitigated': [88.68, '88.68/88.46/92.68', 78.54, 71.16, 94.19, 5.81, 28.84, 38.8], 'dt GS EO Mitigated': [88.68, '88.68/88.46/92.68', 78.54, 71.16, 94.19, 5.81, 28.84, 38.8], 'dt GS EOO Mitigated': [88.68, '88.68/88.46/92.68', 78.54, 71.16, 94.19, 5.81, 28.84, 38.8]}\n"
     ]
    }
   ],
   "source": [
    "run_key = f'{model_name} GS EOO Mitigated'\n",
    "overall_results_dict = add_values_in_dict(overall_results_dict, run_key, results_overall)\n",
    "black_results_dict = add_values_in_dict(black_results_dict, run_key, results_black)\n",
    "white_results_dict = add_values_in_dict(white_results_dict, run_key, results_white)\n",
    "print(overall_results_dict)\n",
    "print(black_results_dict)\n",
    "print(white_results_dict)"
   ]
  },
  {
   "cell_type": "markdown",
   "metadata": {},
   "source": [
    "### False Positive Rate Parity"
   ]
  },
  {
   "cell_type": "code",
   "execution_count": 65,
   "metadata": {},
   "outputs": [],
   "source": [
    "mitigator, results_overall, results_black, results_white, y_pred_mitigated = add_constraint(model, 'FPRP', 'GS', X_train, y_train, race_train, race_test, X_test, y_test, y_predict, sample_weight_test, True)"
   ]
  },
  {
   "cell_type": "code",
   "execution_count": 66,
   "metadata": {},
   "outputs": [
    {
     "name": "stdout",
     "output_type": "stream",
     "text": [
      "sign  event    group_id\n",
      "+     label=0  0           0.0\n",
      "               1           0.0\n",
      "-     label=0  0           0.0\n",
      "               1           2.0\n",
      "Name: 0, dtype: float64\n"
     ]
    }
   ],
   "source": [
    "# We can examine the values of lambda_i chosen for us:\n",
    "lambda_vecs = mitigator.lambda_vecs_\n",
    "print(lambda_vecs[0])"
   ]
  },
  {
   "cell_type": "code",
   "execution_count": 67,
   "metadata": {},
   "outputs": [],
   "source": [
    "# NOTE: the below models are the same for DT classifier!!"
   ]
  },
  {
   "cell_type": "code",
   "execution_count": 68,
   "metadata": {},
   "outputs": [
    {
     "data": {
      "image/png": "[encoded data removed]",
      "text/plain": [
       "<Figure size 432x288 with 1 Axes>"
      ]
     },
     "metadata": {
      "needs_background": "light"
     },
     "output_type": "display_data"
    },
    {
     "data": {
      "text/plain": [
       "{'Unmitigated': (array([1, 1, 1, ..., 0, 0, 1], dtype=int64),\n",
       "  array([0.98003328, 0.63914373, 0.68361582, ..., 0.35260116, 0.        ,\n",
       "         0.9       ])),\n",
       " 'GS FPRP': (array([1, 1, 1, ..., 0, 0, 1]),\n",
       "  array([0.98003328, 0.63914373, 0.68361582, ..., 0.35260116, 0.        ,\n",
       "         0.9       ]))}"
      ]
     },
     "execution_count": 68,
     "metadata": {},
     "output_type": "execute_result"
    }
   ],
   "source": [
    "grid_search_show(mitigator, false_positive_rate_difference, y_predict, X_test, y_test, race_test, 'FPRPDifference','GS FPRP', models_dict, 0.4)"
   ]
  },
  {
   "cell_type": "code",
   "execution_count": 69,
   "metadata": {},
   "outputs": [
    {
     "data": {
      "text/plain": [
       "{'Unmitigated': (array([1, 1, 1, ..., 0, 0, 1], dtype=int64),\n",
       "  array([0.98003328, 0.63914373, 0.68361582, ..., 0.35260116, 0.        ,\n",
       "         0.9       ]))}"
      ]
     },
     "execution_count": 69,
     "metadata": {},
     "output_type": "execute_result"
    }
   ],
   "source": [
    "models_dict.pop('GS FPRP')\n",
    "models_dict"
   ]
  },
  {
   "cell_type": "markdown",
   "metadata": {},
   "source": [
    "### Get scores by race"
   ]
  },
  {
   "cell_type": "code",
   "execution_count": 70,
   "metadata": {},
   "outputs": [],
   "source": [
    "X_gsFPRP_b, X_gsFPRP_w = get_new_scores(X_test, y_predict, y_test, race_test)"
   ]
  },
  {
   "cell_type": "code",
   "execution_count": 71,
   "metadata": {},
   "outputs": [],
   "source": [
    "#adding scores to list\n",
    "all_scores.extend([X_gsFPRP_b, X_gsFPRP_w])\n",
    "scores_names.extend(['gsfprpB', 'gsfprpW'])"
   ]
  },
  {
   "cell_type": "markdown",
   "metadata": {},
   "source": [
    "### Save results to dictionaries"
   ]
  },
  {
   "cell_type": "code",
   "execution_count": 72,
   "metadata": {},
   "outputs": [
    {
     "name": "stdout",
     "output_type": "stream",
     "text": [
      "{'dt Unmitigated': [88.16, '88.16/88.04/91.76', 72.83, 76.35, 93.01, 6.99, 23.65, '7.77/38.8', 47.33, 20.77, 20.77, 18.77, 4.25], 'dt EG DP Mitigated': [88.16, '88.16/88.04/91.76', 72.83, 76.35, 93.01, 6.99, 23.65, '7.77/38.8', 47.33, 20.77, 20.77, 18.77, 4.25], 'dt EG EO Mitigated': [88.16, '88.16/88.04/91.76', 72.83, 76.35, 93.01, 6.99, 23.65, '7.77/38.8', 47.33, 20.77, 20.77, 18.77, 4.25], 'dt EG EOO Mitigated': [88.16, '88.16/88.04/91.76', 72.83, 76.35, 93.01, 6.99, 23.65, '7.77/38.8', 47.33, 20.77, 20.77, 18.77, 4.25], 'dt EG FPRP Mitigated': [88.16, '88.16/88.04/91.76', 72.83, 76.35, 93.01, 6.99, 23.65, '7.77/38.8', 47.33, 20.77, 20.77, 18.77, 4.25], 'dt EG ERP Mitigated': [88.16, '88.16/88.04/91.76', 72.83, 76.35, 93.01, 6.99, 23.65, '7.77/38.8', 47.33, 20.77, 20.77, 18.77, 4.25], 'dt GS DP Mitigated': [88.16, '88.16/88.04/91.76', 72.83, 76.35, 93.01, 6.99, 23.65, '7.77/38.8', 47.33, 20.77, 20.77, 18.77, 4.25], 'dt GS EO Mitigated': [88.16, '88.16/88.04/91.76', 72.83, 76.35, 93.01, 6.99, 23.65, '7.77/38.8', 47.33, 20.77, 20.77, 18.77, 4.25], 'dt GS EOO Mitigated': [88.16, '88.16/88.04/91.76', 72.83, 76.35, 93.01, 6.99, 23.65, '7.77/38.8', 47.33, 20.77, 20.77, 18.77, 4.25], 'dt GS FPRP Mitigated': [88.16, '88.16/88.04/91.76', 72.83, 76.35, 93.01, 6.99, 23.65, '7.77/38.8', 47.33, 20.77, 20.77, 18.77, 4.25]}\n",
      "{'dt Unmitigated': [84.42, '84.42/84.29/75.88', 31.21, 89.93, 73.43, 26.57, 10.07, 7.77], 'dt EG DP Mitigated': [84.42, '84.42/84.29/75.88', 31.21, 89.93, 73.43, 26.57, 10.07, 7.77], 'dt EG EO Mitigated': [84.42, '84.42/84.29/75.88', 31.21, 89.93, 73.43, 26.57, 10.07, 7.77], 'dt EG EOO Mitigated': [84.42, '84.42/84.29/75.88', 31.21, 89.93, 73.43, 26.57, 10.07, 7.77], 'dt EG FPRP Mitigated': [84.42, '84.42/84.29/75.88', 31.21, 89.93, 73.43, 26.57, 10.07, 7.77], 'dt EG ERP Mitigated': [84.42, '84.42/84.29/75.88', 31.21, 89.93, 73.43, 26.57, 10.07, 7.77], 'dt GS DP Mitigated': [84.42, '84.42/84.29/75.88', 31.21, 89.93, 73.43, 26.57, 10.07, 7.77], 'dt GS EO Mitigated': [84.42, '84.42/84.29/75.88', 31.21, 89.93, 73.43, 26.57, 10.07, 7.77], 'dt GS EOO Mitigated': [84.42, '84.42/84.29/75.88', 31.21, 89.93, 73.43, 26.57, 10.07, 7.77], 'dt GS FPRP Mitigated': [84.42, '84.42/84.29/75.88', 31.21, 89.93, 73.43, 26.57, 10.07, 7.77]}\n",
      "{'dt Unmitigated': [88.68, '88.68/88.46/92.68', 78.54, 71.16, 94.19, 5.81, 28.84, 38.8], 'dt EG DP Mitigated': [88.68, '88.68/88.46/92.68', 78.54, 71.16, 94.19, 5.81, 28.84, 38.8], 'dt EG EO Mitigated': [88.68, '88.68/88.46/92.68', 78.54, 71.16, 94.19, 5.81, 28.84, 38.8], 'dt EG EOO Mitigated': [88.68, '88.68/88.46/92.68', 78.54, 71.16, 94.19, 5.81, 28.84, 38.8], 'dt EG FPRP Mitigated': [88.68, '88.68/88.46/92.68', 78.54, 71.16, 94.19, 5.81, 28.84, 38.8], 'dt EG ERP Mitigated': [88.68, '88.68/88.46/92.68', 78.54, 71.16, 94.19, 5.81, 28.84, 38.8], 'dt GS DP Mitigated': [88.68, '88.68/88.46/92.68', 78.54, 71.16, 94.19, 5.81, 28.84, 38.8], 'dt GS EO Mitigated': [88.68, '88.68/88.46/92.68', 78.54, 71.16, 94.19, 5.81, 28.84, 38.8], 'dt GS EOO Mitigated': [88.68, '88.68/88.46/92.68', 78.54, 71.16, 94.19, 5.81, 28.84, 38.8], 'dt GS FPRP Mitigated': [88.68, '88.68/88.46/92.68', 78.54, 71.16, 94.19, 5.81, 28.84, 38.8]}\n"
     ]
    }
   ],
   "source": [
    "run_key = f'{model_name} GS FPRP Mitigated'\n",
    "overall_results_dict = add_values_in_dict(overall_results_dict, run_key, results_overall)\n",
    "black_results_dict = add_values_in_dict(black_results_dict, run_key, results_black)\n",
    "white_results_dict = add_values_in_dict(white_results_dict, run_key, results_white)\n",
    "print(overall_results_dict)\n",
    "print(black_results_dict)\n",
    "print(white_results_dict)"
   ]
  },
  {
   "cell_type": "markdown",
   "metadata": {},
   "source": [
    "### Error Rate Parity"
   ]
  },
  {
   "cell_type": "code",
   "execution_count": 73,
   "metadata": {},
   "outputs": [],
   "source": [
    "mitigator, results_overall, results_black, results_white, y_pred_mitigated = add_constraint(model, 'ERP', 'GS', X_train, y_train, race_train, race_test, X_test, y_test, y_predict, sample_weight_test, True)"
   ]
  },
  {
   "cell_type": "code",
   "execution_count": 74,
   "metadata": {},
   "outputs": [
    {
     "name": "stdout",
     "output_type": "stream",
     "text": [
      "sign  event  group_id\n",
      "+     all    0           0.0\n",
      "             1           0.0\n",
      "-     all    0           0.0\n",
      "             1           2.0\n",
      "Name: 0, dtype: float64\n"
     ]
    }
   ],
   "source": [
    "# We can examine the values of lambda_i chosen for us:\n",
    "lambda_vecs = mitigator.lambda_vecs_\n",
    "print(lambda_vecs[0])"
   ]
  },
  {
   "cell_type": "code",
   "execution_count": 75,
   "metadata": {},
   "outputs": [],
   "source": [
    "# Fairlearn doesnt have an erp difference metric for the below\n",
    "#grid_search_show(gs_erp, error_difference, y_predict, X_test, y_test, race_test, 'ERDifference','GS ERP', models_dict, 0.3)\n",
    "#models_dict.pop('GS FPRP')\n",
    "#models_dict"
   ]
  },
  {
   "cell_type": "markdown",
   "metadata": {},
   "source": [
    "### Get scores by race"
   ]
  },
  {
   "cell_type": "code",
   "execution_count": 76,
   "metadata": {},
   "outputs": [],
   "source": [
    "X_gsERP_b, X_gsERP_w = get_new_scores(X_test, y_predict, y_test, race_test)"
   ]
  },
  {
   "cell_type": "code",
   "execution_count": 77,
   "metadata": {},
   "outputs": [],
   "source": [
    "#adding scores to list\n",
    "all_scores.extend([X_gsERP_b, X_gsERP_w])\n",
    "scores_names.extend(['gserpB', 'gserpW'])"
   ]
  },
  {
   "cell_type": "markdown",
   "metadata": {},
   "source": [
    "### Save results to dictionaries"
   ]
  },
  {
   "cell_type": "code",
   "execution_count": 78,
   "metadata": {},
   "outputs": [
    {
     "name": "stdout",
     "output_type": "stream",
     "text": [
      "dt GS ERP Mitigated\n",
      "{'dt Unmitigated': [88.16, '88.16/88.04/91.76', 72.83, 76.35, 93.01, 6.99, 23.65, '7.77/38.8', 47.33, 20.77, 20.77, 18.77, 4.25], 'dt EG DP Mitigated': [88.16, '88.16/88.04/91.76', 72.83, 76.35, 93.01, 6.99, 23.65, '7.77/38.8', 47.33, 20.77, 20.77, 18.77, 4.25], 'dt EG EO Mitigated': [88.16, '88.16/88.04/91.76', 72.83, 76.35, 93.01, 6.99, 23.65, '7.77/38.8', 47.33, 20.77, 20.77, 18.77, 4.25], 'dt EG EOO Mitigated': [88.16, '88.16/88.04/91.76', 72.83, 76.35, 93.01, 6.99, 23.65, '7.77/38.8', 47.33, 20.77, 20.77, 18.77, 4.25], 'dt EG FPRP Mitigated': [88.16, '88.16/88.04/91.76', 72.83, 76.35, 93.01, 6.99, 23.65, '7.77/38.8', 47.33, 20.77, 20.77, 18.77, 4.25], 'dt EG ERP Mitigated': [88.16, '88.16/88.04/91.76', 72.83, 76.35, 93.01, 6.99, 23.65, '7.77/38.8', 47.33, 20.77, 20.77, 18.77, 4.25], 'dt GS DP Mitigated': [88.16, '88.16/88.04/91.76', 72.83, 76.35, 93.01, 6.99, 23.65, '7.77/38.8', 47.33, 20.77, 20.77, 18.77, 4.25], 'dt GS EO Mitigated': [88.16, '88.16/88.04/91.76', 72.83, 76.35, 93.01, 6.99, 23.65, '7.77/38.8', 47.33, 20.77, 20.77, 18.77, 4.25], 'dt GS EOO Mitigated': [88.16, '88.16/88.04/91.76', 72.83, 76.35, 93.01, 6.99, 23.65, '7.77/38.8', 47.33, 20.77, 20.77, 18.77, 4.25], 'dt GS FPRP Mitigated': [88.16, '88.16/88.04/91.76', 72.83, 76.35, 93.01, 6.99, 23.65, '7.77/38.8', 47.33, 20.77, 20.77, 18.77, 4.25], 'dt GS ERP Mitigated': [88.16, '88.16/88.04/91.76', 72.83, 76.35, 93.01, 6.99, 23.65, '7.77/38.8', 47.33, 20.77, 20.77, 18.77, 4.25]}\n",
      "{'dt Unmitigated': [84.42, '84.42/84.29/75.88', 31.21, 89.93, 73.43, 26.57, 10.07, 7.77], 'dt EG DP Mitigated': [84.42, '84.42/84.29/75.88', 31.21, 89.93, 73.43, 26.57, 10.07, 7.77], 'dt EG EO Mitigated': [84.42, '84.42/84.29/75.88', 31.21, 89.93, 73.43, 26.57, 10.07, 7.77], 'dt EG EOO Mitigated': [84.42, '84.42/84.29/75.88', 31.21, 89.93, 73.43, 26.57, 10.07, 7.77], 'dt EG FPRP Mitigated': [84.42, '84.42/84.29/75.88', 31.21, 89.93, 73.43, 26.57, 10.07, 7.77], 'dt EG ERP Mitigated': [84.42, '84.42/84.29/75.88', 31.21, 89.93, 73.43, 26.57, 10.07, 7.77], 'dt GS DP Mitigated': [84.42, '84.42/84.29/75.88', 31.21, 89.93, 73.43, 26.57, 10.07, 7.77], 'dt GS EO Mitigated': [84.42, '84.42/84.29/75.88', 31.21, 89.93, 73.43, 26.57, 10.07, 7.77], 'dt GS EOO Mitigated': [84.42, '84.42/84.29/75.88', 31.21, 89.93, 73.43, 26.57, 10.07, 7.77], 'dt GS FPRP Mitigated': [84.42, '84.42/84.29/75.88', 31.21, 89.93, 73.43, 26.57, 10.07, 7.77], 'dt GS ERP Mitigated': [84.42, '84.42/84.29/75.88', 31.21, 89.93, 73.43, 26.57, 10.07, 7.77]}\n",
      "{'dt Unmitigated': [88.68, '88.68/88.46/92.68', 78.54, 71.16, 94.19, 5.81, 28.84, 38.8], 'dt EG DP Mitigated': [88.68, '88.68/88.46/92.68', 78.54, 71.16, 94.19, 5.81, 28.84, 38.8], 'dt EG EO Mitigated': [88.68, '88.68/88.46/92.68', 78.54, 71.16, 94.19, 5.81, 28.84, 38.8], 'dt EG EOO Mitigated': [88.68, '88.68/88.46/92.68', 78.54, 71.16, 94.19, 5.81, 28.84, 38.8], 'dt EG FPRP Mitigated': [88.68, '88.68/88.46/92.68', 78.54, 71.16, 94.19, 5.81, 28.84, 38.8], 'dt EG ERP Mitigated': [88.68, '88.68/88.46/92.68', 78.54, 71.16, 94.19, 5.81, 28.84, 38.8], 'dt GS DP Mitigated': [88.68, '88.68/88.46/92.68', 78.54, 71.16, 94.19, 5.81, 28.84, 38.8], 'dt GS EO Mitigated': [88.68, '88.68/88.46/92.68', 78.54, 71.16, 94.19, 5.81, 28.84, 38.8], 'dt GS EOO Mitigated': [88.68, '88.68/88.46/92.68', 78.54, 71.16, 94.19, 5.81, 28.84, 38.8], 'dt GS FPRP Mitigated': [88.68, '88.68/88.46/92.68', 78.54, 71.16, 94.19, 5.81, 28.84, 38.8], 'dt GS ERP Mitigated': [88.68, '88.68/88.46/92.68', 78.54, 71.16, 94.19, 5.81, 28.84, 38.8]}\n"
     ]
    }
   ],
   "source": [
    "run_key = f'{model_name} GS ERP Mitigated'\n",
    "print(run_key)\n",
    "overall_results_dict = add_values_in_dict(overall_results_dict, run_key, results_overall)\n",
    "black_results_dict = add_values_in_dict(black_results_dict, run_key, results_black)\n",
    "white_results_dict = add_values_in_dict(white_results_dict, run_key, results_white)\n",
    "print(overall_results_dict)\n",
    "print(black_results_dict)\n",
    "print(white_results_dict)"
   ]
  },
  {
   "cell_type": "markdown",
   "metadata": {},
   "source": [
    "### Bounded Group Loss (issue, need to figure out loss parameter)"
   ]
  },
  {
   "cell_type": "code",
   "execution_count": 79,
   "metadata": {},
   "outputs": [
    {
     "data": {
      "text/plain": [
       "\"\\nmitigator, results_overall, results_black, results_white= add_constraint(model, 'BGL', 'GS', X_train, y_train, race_train, race_test, X_test, y_test, y_predict, sample_weight_test, False)\\nrun_key = f'{model_name} GS EO Mitigated'\\noverall_results_dict = add_values_in_dict(overall_results_dict, run_key, results_overall)\\nblack_results_dict = add_values_in_dict(black_results_dict, run_key, results_black)\\nwhite_results_dict = add_values_in_dict(white_results_dict, run_key, results_white)\\nprint(overall_results_dict)\\nprint(black_results_dict)\\nprint(white_results_dict)\\n\""
      ]
     },
     "execution_count": 79,
     "metadata": {},
     "output_type": "execute_result"
    }
   ],
   "source": [
    "'''\n",
    "mitigator, results_overall, results_black, results_white= add_constraint(model, 'BGL', 'GS', X_train, y_train, race_train, race_test, X_test, y_test, y_predict, sample_weight_test, False)\n",
    "run_key = f'{model_name} GS EO Mitigated'\n",
    "overall_results_dict = add_values_in_dict(overall_results_dict, run_key, results_overall)\n",
    "black_results_dict = add_values_in_dict(black_results_dict, run_key, results_black)\n",
    "white_results_dict = add_values_in_dict(white_results_dict, run_key, results_white)\n",
    "print(overall_results_dict)\n",
    "print(black_results_dict)\n",
    "print(white_results_dict)\n",
    "'''"
   ]
  },
  {
   "cell_type": "code",
   "execution_count": 80,
   "metadata": {},
   "outputs": [],
   "source": [
    "# We can examine the values of lambda_i chosen for us:\n",
    "#lambda_vecs = gs_dp.lambda_vecs_\n",
    "#print(lambda_vecs[0])"
   ]
  },
  {
   "cell_type": "markdown",
   "metadata": {},
   "source": [
    "# 4. Save results to csv files"
   ]
  },
  {
   "cell_type": "code",
   "execution_count": 82,
   "metadata": {},
   "outputs": [],
   "source": [
    "# To use below!!\n",
    "if save == True:\n",
    "    overall_fieldnames = ['Run', 'Acc', 'F1micro/F1w/F1bsr', 'SelectionRate', 'TNR rate', 'TPR rate', 'FNER', 'FPER', 'DIB/DIW', 'DP Diff', 'EO Diff', 'TPR Diff', 'FPR Diff', 'ER Diff']\n",
    "    byrace_fieldnames = ['Run', 'Acc', 'F1micro/F1w/F1bsr', 'SelectionRate', 'TNR rate', 'TPR rate', 'FNER', 'FPER', 'DI']\n",
    "    save_dict_in_csv(overall_results_dict, overall_fieldnames,  results_path+model_name+'_overall_results.csv')\n",
    "    save_dict_in_csv(black_results_dict, byrace_fieldnames,  results_path+model_name+'_black_results.csv')\n",
    "    save_dict_in_csv(white_results_dict, byrace_fieldnames,  results_path+model_name+'_white_results.csv')"
   ]
  },
  {
   "cell_type": "code",
   "execution_count": 83,
   "metadata": {},
   "outputs": [],
   "source": [
    "if save == True:\n",
    "    # Save overall score results\n",
    "    columns_data = zip_longest(*all_scores)\n",
    "\n",
    "    with open(results_path+model_name+'_overall_scores.csv',mode='w') as f:\n",
    "        writer = csv.writer(f)\n",
    "        writer.writerow(scores_names)\n",
    "        writer.writerows(columns_data)\n",
    "        f.close()"
   ]
  },
  {
   "cell_type": "code",
   "execution_count": null,
   "metadata": {},
   "outputs": [],
   "source": []
  }
 ],
 "metadata": {
  "kernelspec": {
   "display_name": "Python 3 (ipykernel)",
   "language": "python",
   "name": "python3"
  },
  "language_info": {
   "codemirror_mode": {
    "name": "ipython",
    "version": 3
   },
   "file_extension": ".py",
   "mimetype": "text/x-python",
   "name": "python",
   "nbconvert_exporter": "python",
   "pygments_lexer": "ipython3",
   "version": "3.8.13"
  }
 },
 "nbformat": 4,
 "nbformat_minor": 4
}
