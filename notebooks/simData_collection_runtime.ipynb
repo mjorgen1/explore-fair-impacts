{
 "cells": [
  {
   "cell_type": "markdown",
   "metadata": {},
   "source": [
    "# 1. Load and parse the data\n",
    "#### Code is primarily from Lydia's FICO-figures.ipynb "
   ]
  },
  {
   "cell_type": "code",
   "execution_count": 1,
   "metadata": {},
   "outputs": [],
   "source": [
    "%load_ext autoreload\n",
    "%autoreload 2\n",
    "%matplotlib inline"
   ]
  },
  {
   "cell_type": "code",
   "execution_count": 2,
   "metadata": {},
   "outputs": [],
   "source": [
    "import numpy as np\n",
    "import matplotlib.pyplot as plt\n",
    "import seaborn as sns\n",
    "\n",
    "from scipy import stats\n",
    "\n",
    "# import all of our files\n",
    "import sys\n",
    "sys.path.append('../')\n",
    "import Liu_paper_code.fico as fico\n",
    "import Liu_paper_code.distribution_to_loans_outcomes as dlo\n",
    "from scripts.data_creation_utils import get_pmf,get_repay_probabilities,get_scores, adjust_set_ratios,load_sample_and_save\n",
    "from scripts.evaluation_utils import inspect_MinMax\n",
    "from scripts.visualization_utils import visualize_data_distribution, visual_scores_by_race, visual_repay_dist\n",
    "# imports for my own code\n",
    "import pandas as pd\n",
    "import random\n",
    "from random import choices\n",
    "\n"
   ]
  },
  {
   "cell_type": "code",
   "execution_count": 3,
   "metadata": {},
   "outputs": [],
   "source": [
    "# Parameters\n",
    "data_dir = '../data/raw/'\n",
    "results_dir = '../data/testing-timeit/'\n",
    "file_name = 'test.csv'\n",
    "set_size = 10000\n",
    "\n",
    "group_size_ratio = [0.12,0.88]\n",
    "black_label_ratio = [0.66,0.34]\n",
    "\n",
    "order_of_magnitude = 100000\n",
    "shuffle_seed = 42\n",
    "round_num_scores = 2"
   ]
  },
  {
   "cell_type": "code",
   "execution_count": 4,
   "metadata": {},
   "outputs": [],
   "source": [
    "all_cdfs, performance, totals = fico.get_FICO_data(data_dir);"
   ]
  },
  {
   "cell_type": "code",
   "execution_count": 5,
   "metadata": {},
   "outputs": [],
   "source": [
    "cdfs = all_cdfs[[\"White\",\"Black\"]]\n",
    "\n",
    "# B is White\n",
    "# A is Black\n",
    "\n",
    "cdf_B = cdfs['White'].values\n",
    "cdf_A = cdfs['Black'].values\n",
    "\n",
    "repay_B = performance['White']\n",
    "repay_A = performance['Black']\n",
    "scores = cdfs.index\n",
    "scores_list = scores.tolist()\n",
    "scores_repay = cdfs.index\n"
   ]
  },
  {
   "cell_type": "code",
   "execution_count": 6,
   "metadata": {},
   "outputs": [],
   "source": [
    "# basic parameters\n",
    "N_scores = cdf_B.size\n",
    "N_groups = 2\n",
    "\n",
    "# get probability mass functions of each group\n",
    "pi_A = get_pmf(cdf_A)\n",
    "pi_B = get_pmf(cdf_B)\n",
    "pis = np.vstack([pi_A, pi_B])\n",
    "\n",
    "# demographic statistics \n",
    "#group_ratio = np.array((totals[\"Black\"], totals[\"White\"]))\n",
    "#group_size_ratio = group_ratio/group_ratio.sum() - true fico data goup size ratio\n",
    "#print(group_size_ratio)"
   ]
  },
  {
   "cell_type": "code",
   "execution_count": 7,
   "metadata": {},
   "outputs": [],
   "source": [
    "# to get loan repay probabilities for a given score\n",
    "loan_repaid_probs = [lambda i: repay_A[scores[scores.get_loc(i,method='nearest')]], \n",
    "                     lambda i: repay_B[scores[scores.get_loc(i,method='nearest')]]]\n",
    "\n",
    "# unpacking repay probability as a function of score\n",
    "loan_repay_fns = [lambda x: loan_repaid_prob(x) for\n",
    "                      loan_repaid_prob in loan_repaid_probs]"
   ]
  },
  {
   "cell_type": "markdown",
   "metadata": {},
   "source": [
    "## 2.1 Convert the data in format needed\n",
    "The parameter round_num designates if we will round the credit scores and/or probabilities to a certain degree.<br> \n",
    "round_num = {0,1,2} <br> \n",
    "* 0: don't round at all (we don't recommend this) <br>\n",
    "* 1: round to the hundreth decimal <br>\n",
    "* 2: round to the nearest integer (no decimals left)"
   ]
  },
  {
   "cell_type": "code",
   "execution_count": 8,
   "metadata": {},
   "outputs": [
    {
     "name": "stdout",
     "output_type": "stream",
     "text": [
      "[300. 312. 324. 336. 348. 355. 361. 367. 373. 379. 385. 390. 396. 402.\n",
      " 406. 411. 416. 420. 425. 430. 434. 439. 444. 448. 452. 456. 460. 464.\n",
      " 468. 472. 475. 479. 483. 487. 491. 495. 498. 502. 505. 508. 511. 515.\n",
      " 518. 521. 524. 527. 530. 534. 537. 540. 543. 546. 549. 552. 555. 557.\n",
      " 560. 562. 565. 568. 570. 573. 576. 578. 581. 583. 586. 589. 591. 594.\n",
      " 596. 599. 601. 603. 605. 608. 610. 612. 614. 616. 618. 620. 622. 624.\n",
      " 626. 628. 630. 632. 635. 637. 639. 641. 643. 645. 647. 649. 651. 653.\n",
      " 655. 657. 658. 660. 662. 664. 666. 667. 669. 671. 673. 675. 676. 678.\n",
      " 680. 682. 684. 686. 687. 689. 691. 693. 695. 696. 698. 700. 701. 703.\n",
      " 704. 706. 707. 709. 710. 712. 713. 715. 716. 718. 719. 721. 722. 724.\n",
      " 725. 726. 728. 729. 731. 734. 735. 737. 738. 740. 741. 743. 744. 746.\n",
      " 749. 750. 752. 753. 755. 756. 758. 759. 761. 763. 764. 766. 767. 769.\n",
      " 771. 772. 774. 775. 777. 778. 780. 782. 783. 785. 786. 788. 790. 791.\n",
      " 793. 796. 797. 799. 802. 806. 811. 815. 819. 824. 828. 832. 837. 841.\n",
      " 846. 850.]\n"
     ]
    }
   ],
   "source": [
    "# Make repay probabilities into percentages from decimals\n",
    "# NOTE: A is Black, B is White\n",
    "scores_arr = np.asarray(get_scores(scores=scores_list, round_num=round_num_scores)) # we recommend 1 or 2 for round_num\n",
    "print(scores_arr)\n",
    "repay_A_arr = pd.Series.to_numpy(repay_A)*100\n",
    "repay_B_arr = pd.Series.to_numpy(repay_B)*100"
   ]
  },
  {
   "cell_type": "markdown",
   "metadata": {},
   "source": [
    "## 2.2 Sample from the data and Combine the scores and probabilities and convert data types\n",
    "We use round_num with a value of 1 so that we have two decimals for the probabilities. We think rounding to the nearest integer would lead to us losing important data. "
   ]
  },
  {
   "cell_type": "code",
   "execution_count": 9,
   "metadata": {},
   "outputs": [],
   "source": [
    "def sample(group_size_ratio, order_of_magnitude, shuffle_seed,scores_arr, pi_A, pi_B, repay_A_arr, repay_B_arr):\n",
    "    \n",
    "        # Sample data according to the pmf\n",
    "    # Reference: https://www.w3schools.com/python/ref_random_choices.asp\n",
    "\n",
    "    num_A_samples = int(round(group_size_ratio[0] * order_of_magnitude))\n",
    "    num_B_samples = int(round(group_size_ratio[1] * order_of_magnitude))\n",
    "\n",
    "    samples_A = np.asarray(sorted(choices(scores_arr, pi_A, k=num_A_samples)))\n",
    "    samples_B = np.asarray(sorted(choices(scores_arr, pi_B, k=num_B_samples)))\n",
    "\n",
    "    # Calculate samples groups' probabilities and make arrays for race\n",
    "\n",
    "    # A == Black == 0 (later defined as 0.0 when converting to pandas df)\n",
    "    samples_A_probs = get_repay_probabilities(samples=samples_A,scores_arr=scores_arr, repay_probs=repay_A_arr, round_num=1)\n",
    "    samples_A_race = np.zeros(num_A_samples, dtype= int)\n",
    "    # B == White == 1 (later defined as 1.0 when converting to pandas df)\n",
    "    samples_B_probs = get_repay_probabilities(samples=samples_B,scores_arr=scores_arr, repay_probs=repay_B_arr, round_num=1)\n",
    "    samples_B_race = np.ones(num_B_samples, dtype= int)\n",
    "\n",
    "    # Get data in dict form with score and repay prob\n",
    "    data_A_dict = {'score': samples_A, 'repay_probability': samples_A_probs} #,'race': samples_A_race}\n",
    "    data_B_dict = {'score': samples_B, 'repay_probability': samples_B_probs} #,'race': samples_B_race}\n",
    "\n",
    "    # Get data in dict form with score, repay prob, and race\n",
    "    data_A_dict = {'score': samples_A, 'repay_probability': samples_A_probs ,'race': samples_A_race}\n",
    "    data_B_dict = {'score': samples_B, 'repay_probability': samples_B_probs,'race': samples_B_race}\n",
    "\n",
    "    # Convert from dict to df\n",
    "    data_A_df = pd.DataFrame(data=data_A_dict, dtype=np.float64)\n",
    "    data_B_df = pd.DataFrame(data=data_B_dict, dtype=np.float64)\n",
    "\n",
    "    # Combine all of the data together and shuffle\n",
    "    # NOTE: not currently being used but could be useful at a later time\n",
    "    data_all_df = pd.concat([data_A_df, data_B_df], ignore_index=True)\n",
    "    #print(data_all_df)\n",
    "    np.random.seed(shuffle_seed)\n",
    "    data_all_df_shuffled = data_all_df.sample(frac=1).reset_index(drop=True)\n",
    "    #print(data_all_df_shuffled)\n",
    "\n",
    "    # Add Final Column to dataframe, repay indices\n",
    "    # repay: 1.0, default: 0.0\n",
    "    probabilities = data_all_df_shuffled['repay_probability']\n",
    "    repay_indices = []\n",
    "    # Create a random num and then have that decide given a prob if the person gets a loan or not\n",
    "    # (e.g. If 80% prob, then calculate a random num, then if that is below they will get loan, if above, then they don't)\n",
    "\n",
    "    for index, prob in enumerate(probabilities):\n",
    "        rand_num = random.randint(0,1000)/10\n",
    "        if rand_num > prob:  # default\n",
    "            repay_indices.append(0)\n",
    "        else:\n",
    "            repay_indices.append(1)  # repay\n",
    "\n",
    "    data_all_df_shuffled['repay_indices'] = np.array(repay_indices)\n",
    "\n",
    "    return data_all_df_shuffled, samples_A, samples_B, samples_A_probs, samples_B_probs"
   ]
  },
  {
   "cell_type": "code",
   "execution_count": 10,
   "metadata": {},
   "outputs": [],
   "source": [
    "set_size= 1\n",
    "order_of_magnitude = 1"
   ]
  },
  {
   "cell_type": "code",
   "execution_count": 11,
   "metadata": {},
   "outputs": [
    {
     "name": "stdout",
     "output_type": "stream",
     "text": [
      "1\n",
      "   score  repay_probability  race  repay_indices\n",
      "0  725.0              97.17   1.0              1\n",
      "1 Black N/P: 0 / 0 White: 1\n"
     ]
    }
   ],
   "source": [
    "# Sample data according to the pmf\n",
    "# Reference: https://www.w3schools.com/python/ref_random_choices.asp\n",
    "# Calculate samples groups' probabilities and make arrays for race\n",
    "# A == Black == 0 (later defined as 0.0 when converting to pandas df)\n",
    "# B == White == 1 (later defined as 1.0 when converting to pandas df)\n",
    "\n",
    "# generate first batch of samples:\n",
    "data,samples_A, samples_B, samples_A_probs, samples_B_probs = sample(group_size_ratio, order_of_magnitude,shuffle_seed, scores_arr, pi_A, pi_B, repay_A_arr, repay_B_arr)\n",
    "# split the data cols (x,y)\n",
    "\n",
    "x = data[['score','repay_probability', 'race']].values\n",
    "y = data['repay_indices'].values\n",
    "print(len(y))\n",
    "# adjust the set according to the ratios specified\n",
    "x,y = adjust_set_ratios(x, y, black_label_ratio, group_size_ratio, set_size)\n",
    "idx_An = np.where((x[:, 2] == 0) & (y == 0))[0]\n",
    "idx_Ap = np.where((x[:, 2] == 0) & (y == 1))[0]\n",
    "idx_B = np.where((x[:, 2] == 1))[0]\n",
    "i = 1\n",
    "# merge x,y back into a DataFrame\n",
    "df = {'score':x[:,0],'repay_probability': x[:,1],'race':x[:,2],'repay_indices': y}\n",
    "data = pd.DataFrame(df)\n",
    "print(data)\n",
    "# if dataset it to small, samplee a larger batch\n",
    "while len(y) < set_size:\n",
    "    i += 1\n",
    "    print('I',i)\n",
    "    # Generate new samples\n",
    "    data_add, samples_A_add, samples_B_add, samples_A_probs_add, samples_B_probs_add = sample(group_size_ratio, order_of_magnitude,i, scores_arr, pi_A, pi_B, repay_A_arr, repay_B_arr)\n",
    "    data = pd.concat([data,data_add])\n",
    "    samples_A = np.concatenate((samples_A,samples_A_add))\n",
    "    samples_A_probs = np.concatenate((samples_A_probs,samples_A_probs_add))\n",
    "    samples_B = np.concatenate((samples_B,samples_B_add))\n",
    "    samples_B_probs = np.concatenate((samples_B_probs,samples_B_probs_add))\n",
    "    # split the data cols (x,y)\n",
    "    x = data[['score','repay_probability', 'race']].values\n",
    "    y = data['repay_indices'].values\n",
    "    # adjust the set according to the ratios specified\n",
    "    print(len(y))\n",
    "    x,y = adjust_set_ratios(x,y, black_label_ratio, group_size_ratio, set_size)\n",
    "    print(len(y))\n",
    "    # merge x,y back into a DataFrame\n",
    "    if len(y) >= set_size:\n",
    "        idx_An = np.where((x[:, 2] == 0) & (y == 0))[0]\n",
    "        idx_Ap = np.where((x[:, 2] == 0) & (y == 1))[0]\n",
    "        idx_B = np.where((x[:, 2] == 1))[0]\n",
    "        df = {'score':x[:,0],'repay_probability': x[:,1],'race':x[:,2],'repay_indices': y}\n",
    "        data = pd.DataFrame(df)\n",
    "# print proportions of dataset\n",
    "print(i,'Black N/P:',len(idx_An),'/',len(idx_Ap),'White:',len(idx_B))"
   ]
  },
  {
   "cell_type": "raw",
   "metadata": {},
   "source": [
    "Runtime:\n",
    "adjust_ratios: dependent on |S|, |D|\n",
    "sample: dependent on |D|\n",
    "generate_set_loop: |D|,|S|, Ratios"
   ]
  },
  {
   "cell_type": "code",
   "execution_count": 12,
   "metadata": {},
   "outputs": [
    {
     "name": "stdout",
     "output_type": "stream",
     "text": [
      "0\n",
      "27.6 µs ± 552 ns per loop (mean ± std. dev. of 7 runs, 10,000 loops each)\n",
      "2.7644672857142895e-05\n",
      "100000\n",
      "1.89 ms ± 94.6 µs per loop (mean ± std. dev. of 7 runs, 1,000 loops each)\n",
      "0.0018902623285714292\n",
      "200000\n",
      "4.12 ms ± 81.4 µs per loop (mean ± std. dev. of 7 runs, 100 loops each)\n",
      "0.004118651714285733\n",
      "300000\n",
      "6.22 ms ± 59.6 µs per loop (mean ± std. dev. of 7 runs, 100 loops each)\n",
      "0.006221185285714281\n",
      "400000\n",
      "8.84 ms ± 553 µs per loop (mean ± std. dev. of 7 runs, 100 loops each)\n",
      "0.008837573571428569\n",
      "500000\n",
      "11.8 ms ± 404 µs per loop (mean ± std. dev. of 7 runs, 100 loops each)\n",
      "0.011805842714285697\n",
      "600000\n",
      "15.9 ms ± 2.05 ms per loop (mean ± std. dev. of 7 runs, 100 loops each)\n",
      "0.015892365857142852\n",
      "700000\n",
      "17.4 ms ± 1.13 ms per loop (mean ± std. dev. of 7 runs, 100 loops each)\n",
      "0.017384794571428667\n",
      "800000\n",
      "19.5 ms ± 652 µs per loop (mean ± std. dev. of 7 runs, 100 loops each)\n",
      "0.019522227857142898\n",
      "900000\n",
      "22.4 ms ± 516 µs per loop (mean ± std. dev. of 7 runs, 10 loops each)\n",
      "0.02238865571428497\n"
     ]
    }
   ],
   "source": [
    "# fixed |D|, flexible |S| -> linear O(n), no slope O(|D|) when |S| > |D|\n",
    "# fixed |S|, flexible |D| -> linear O(n)\n",
    "# flexible |D| = |S| -> linear O(n)\n",
    "group_size_ratio = [0.88,0.12]\n",
    "black_label_ratio = [0.34,0.66]\n",
    "data,samples_A, samples_B, samples_A_probs, samples_B_probs = sample([0.12,0.88], 100000,shuffle_seed, scores_arr, pi_A, pi_B, repay_A_arr, repay_B_arr)\n",
    "\n",
    "x = data[['score','repay_probability', 'race']].values\n",
    "y = data['repay_indices'].values\n",
    "\n",
    "x_points = []\n",
    "timings = []\n",
    "for i in range(0,1000000, 100000):\n",
    "    print(i)\n",
    "    x_points.append(i)\n",
    "    data,samples_A, samples_B, samples_A_probs, samples_B_probs = sample([0.12,0.88], i*2,shuffle_seed, scores_arr, pi_A, pi_B, repay_A_arr, repay_B_arr)\n",
    "    x = data[['score','repay_probability', 'race']].values\n",
    "    y = data['repay_indices'].values\n",
    "    runtime = %timeit -o adjust_set_ratios(x,y, black_label_ratio, group_size_ratio, i)\n",
    "    timings.append(runtime.average)\n",
    "    print(runtime.average)\n",
    "    "
   ]
  },
  {
   "cell_type": "code",
   "execution_count": 13,
   "metadata": {},
   "outputs": [
    {
     "data": {
      "text/plain": [
       "[<matplotlib.lines.Line2D at 0x212020004c0>]"
      ]
     },
     "execution_count": 13,
     "metadata": {},
     "output_type": "execute_result"
    },
    {
     "data": {
      "image/png": "[encoded data removed]",
      "text/plain": [
       "<Figure size 432x288 with 1 Axes>"
      ]
     },
     "metadata": {
      "needs_background": "light"
     },
     "output_type": "display_data"
    }
   ],
   "source": [
    "plt.plot(x_points, timings) "
   ]
  },
  {
   "cell_type": "code",
   "execution_count": 14,
   "metadata": {},
   "outputs": [
    {
     "name": "stdout",
     "output_type": "stream",
     "text": [
      "1\n",
      "1.04 ms ± 111 µs per loop (mean ± std. dev. of 7 runs, 1,000 loops each)\n",
      "0.0010404764571428627\n",
      "100001\n",
      "1.03 s ± 42.4 ms per loop (mean ± std. dev. of 7 runs, 1 loop each)\n",
      "1.0344892142857094\n",
      "200001\n",
      "2.19 s ± 238 ms per loop (mean ± std. dev. of 7 runs, 1 loop each)\n",
      "2.193306800000008\n",
      "300001\n",
      "3.51 s ± 167 ms per loop (mean ± std. dev. of 7 runs, 1 loop each)\n",
      "3.5057581714285675\n",
      "400001\n",
      "4.1 s ± 26.5 ms per loop (mean ± std. dev. of 7 runs, 1 loop each)\n",
      "4.095545042857127\n",
      "500001\n",
      "6.01 s ± 328 ms per loop (mean ± std. dev. of 7 runs, 1 loop each)\n",
      "6.008532857142858\n",
      "600001\n",
      "6.38 s ± 427 ms per loop (mean ± std. dev. of 7 runs, 1 loop each)\n",
      "6.382800042857143\n",
      "700001\n",
      "8.25 s ± 612 ms per loop (mean ± std. dev. of 7 runs, 1 loop each)\n",
      "8.253758542857124\n",
      "800001\n",
      "8.69 s ± 617 ms per loop (mean ± std. dev. of 7 runs, 1 loop each)\n",
      "8.69305487142859\n",
      "900001\n",
      "10.2 s ± 1.15 s per loop (mean ± std. dev. of 7 runs, 1 loop each)\n",
      "10.21632595714287\n"
     ]
    }
   ],
   "source": [
    "# flexible |D| -> linear O(n)\n",
    "group_size_ratio = [0.12,0.88]\n",
    "x_points = []\n",
    "timings = []\n",
    "for i in range(0,100000, 10000):\n",
    "    print(i)\n",
    "    x_points.append(i)\n",
    "    runtime = %timeit -o sample(group_size_ratio, i,i, scores_arr, pi_A, pi_B, repay_A_arr, repay_B_arr)\n",
    "    timings.append(runtime.average)\n",
    "    print(runtime.average)\n",
    "    "
   ]
  },
  {
   "cell_type": "code",
   "execution_count": 15,
   "metadata": {},
   "outputs": [
    {
     "data": {
      "text/plain": [
       "[<matplotlib.lines.Line2D at 0x212013f3dc0>]"
      ]
     },
     "execution_count": 15,
     "metadata": {},
     "output_type": "execute_result"
    },
    {
     "data": {
      "image/png": "[encoded data removed]",
      "text/plain": [
       "<Figure size 432x288 with 1 Axes>"
      ]
     },
     "metadata": {
      "needs_background": "light"
     },
     "output_type": "display_data"
    }
   ],
   "source": [
    "plt.plot(x_points, timings) "
   ]
  },
  {
   "cell_type": "code",
   "execution_count": 25,
   "metadata": {},
   "outputs": [
    {
     "name": "stdout",
     "output_type": "stream",
     "text": [
      "0.0\n",
      "13 Black N/P: 0 / 0 White: 1000\n",
      "12 Black N/P: 0 / 0 White: 1000\n",
      "12 Black N/P: 0 / 0 White: 1000\n",
      "12 Black N/P: 0 / 0 White: 1000\n",
      "12 Black N/P: 0 / 0 White: 1000\n",
      "13 Black N/P: 0 / 0 White: 1000\n",
      "13 Black N/P: 0 / 0 White: 1000\n",
      "13 Black N/P: 0 / 0 White: 1000\n",
      "12 Black N/P: 0 / 0 White: 1000\n",
      "12 Black N/P: 0 / 0 White: 1000\n",
      "12 Black N/P: 0 / 0 White: 1000\n",
      "13 Black N/P: 0 / 0 White: 1000\n",
      "12 Black N/P: 0 / 0 White: 1000\n",
      "12 Black N/P: 0 / 0 White: 1000\n",
      "12 Black N/P: 0 / 0 White: 1000\n",
      "12 Black N/P: 0 / 0 White: 1000\n",
      "12 Black N/P: 0 / 0 White: 1000\n",
      "13 Black N/P: 0 / 0 White: 1000\n",
      "13 Black N/P: 0 / 0 White: 1000\n",
      "12 Black N/P: 0 / 0 White: 1000\n",
      "12 Black N/P: 0 / 0 White: 1000\n",
      "12 Black N/P: 0 / 0 White: 1000\n",
      "12 Black N/P: 0 / 0 White: 1000\n",
      "13 Black N/P: 0 / 0 White: 1000\n",
      "12 Black N/P: 0 / 0 White: 1000\n",
      "12 Black N/P: 0 / 0 White: 1000\n",
      "12 Black N/P: 0 / 0 White: 1000\n",
      "12 Black N/P: 0 / 0 White: 1000\n",
      "12 Black N/P: 0 / 0 White: 1000\n",
      "12 Black N/P: 0 / 0 White: 1000\n",
      "12 Black N/P: 0 / 0 White: 1000\n",
      "12 Black N/P: 0 / 0 White: 1000\n",
      "12 Black N/P: 0 / 0 White: 1000\n",
      "13 Black N/P: 0 / 0 White: 1000\n",
      "12 Black N/P: 0 / 0 White: 1000\n",
      "12 Black N/P: 0 / 0 White: 1000\n",
      "13 Black N/P: 0 / 0 White: 1000\n",
      "13 Black N/P: 0 / 0 White: 1000\n",
      "13 Black N/P: 0 / 0 White: 1000\n",
      "12 Black N/P: 0 / 0 White: 1000\n",
      "12 Black N/P: 0 / 0 White: 1000\n",
      "12 Black N/P: 0 / 0 White: 1000\n",
      "12 Black N/P: 0 / 0 White: 1000\n",
      "12 Black N/P: 0 / 0 White: 1000\n",
      "12 Black N/P: 0 / 0 White: 1000\n",
      "12 Black N/P: 0 / 0 White: 1000\n",
      "13 Black N/P: 0 / 0 White: 1000\n",
      "12 Black N/P: 0 / 0 White: 1000\n",
      "12 Black N/P: 0 / 0 White: 1000\n",
      "12 Black N/P: 0 / 0 White: 1000\n",
      "12 Black N/P: 0 / 0 White: 1000\n",
      "12 Black N/P: 0 / 0 White: 1000\n",
      "12 Black N/P: 0 / 0 White: 1000\n",
      "12 Black N/P: 0 / 0 White: 1000\n",
      "13 Black N/P: 0 / 0 White: 1000\n",
      "12 Black N/P: 0 / 0 White: 1000\n",
      "12 Black N/P: 0 / 0 White: 1000\n",
      "12 Black N/P: 0 / 0 White: 1000\n",
      "12 Black N/P: 0 / 0 White: 1000\n",
      "13 Black N/P: 0 / 0 White: 1000\n",
      "12 Black N/P: 0 / 0 White: 1000\n",
      "12 Black N/P: 0 / 0 White: 1000\n",
      "12 Black N/P: 0 / 0 White: 1000\n",
      "13 Black N/P: 0 / 0 White: 1000\n",
      "12 Black N/P: 0 / 0 White: 1000\n",
      "12 Black N/P: 0 / 0 White: 1000\n",
      "12 Black N/P: 0 / 0 White: 1000\n",
      "12 Black N/P: 0 / 0 White: 1000\n",
      "13 Black N/P: 0 / 0 White: 1000\n",
      "12 Black N/P: 0 / 0 White: 1000\n",
      "12 Black N/P: 0 / 0 White: 1000\n",
      "12 Black N/P: 0 / 0 White: 1000\n",
      "12 Black N/P: 0 / 0 White: 1000\n",
      "12 Black N/P: 0 / 0 White: 1000\n",
      "12 Black N/P: 0 / 0 White: 1000\n",
      "12 Black N/P: 0 / 0 White: 1000\n",
      "12 Black N/P: 0 / 0 White: 1000\n",
      "12 Black N/P: 0 / 0 White: 1000\n",
      "12 Black N/P: 0 / 0 White: 1000\n",
      "12 Black N/P: 0 / 0 White: 1000\n",
      "12 Black N/P: 0 / 0 White: 1000\n",
      "77.7 ms ± 5.92 ms per loop (mean ± std. dev. of 7 runs, 10 loops each)\n",
      "0.07767646285717222\n",
      "0.1\n",
      "24 Black N/P: 10 / 90 White: 900\n",
      "23 Black N/P: 10 / 90 White: 900\n",
      "20 Black N/P: 10 / 90 White: 900\n",
      "25 Black N/P: 10 / 90 White: 900\n",
      "23 Black N/P: 10 / 90 White: 900\n",
      "21 Black N/P: 10 / 90 White: 900\n",
      "21 Black N/P: 10 / 90 White: 900\n",
      "22 Black N/P: 10 / 90 White: 900\n",
      "22 Black N/P: 10 / 90 White: 900\n",
      "20 Black N/P: 10 / 90 White: 900\n",
      "21 Black N/P: 10 / 90 White: 900\n",
      "20 Black N/P: 10 / 90 White: 900\n",
      "24 Black N/P: 10 / 90 White: 900\n",
      "22 Black N/P: 10 / 90 White: 900\n",
      "23 Black N/P: 10 / 90 White: 900\n",
      "24 Black N/P: 10 / 90 White: 900\n",
      "25 Black N/P: 10 / 90 White: 900\n",
      "25 Black N/P: 10 / 90 White: 900\n",
      "22 Black N/P: 10 / 90 White: 900\n",
      "24 Black N/P: 10 / 90 White: 900\n",
      "21 Black N/P: 10 / 90 White: 900\n",
      "22 Black N/P: 10 / 90 White: 900\n",
      "23 Black N/P: 10 / 90 White: 900\n",
      "22 Black N/P: 10 / 90 White: 900\n",
      "25 Black N/P: 10 / 90 White: 900\n",
      "26 Black N/P: 10 / 90 White: 900\n",
      "19 Black N/P: 10 / 90 White: 900\n",
      "23 Black N/P: 10 / 90 White: 900\n",
      "21 Black N/P: 10 / 90 White: 900\n",
      "23 Black N/P: 10 / 90 White: 900\n",
      "27 Black N/P: 10 / 90 White: 900\n",
      "24 Black N/P: 10 / 90 White: 900\n",
      "23 Black N/P: 10 / 90 White: 900\n",
      "24 Black N/P: 10 / 90 White: 900\n",
      "22 Black N/P: 10 / 90 White: 900\n",
      "20 Black N/P: 10 / 90 White: 900\n",
      "20 Black N/P: 10 / 90 White: 900\n",
      "22 Black N/P: 10 / 90 White: 900\n",
      "22 Black N/P: 10 / 90 White: 900\n",
      "23 Black N/P: 10 / 90 White: 900\n",
      "20 Black N/P: 10 / 90 White: 900\n",
      "21 Black N/P: 10 / 90 White: 900\n",
      "24 Black N/P: 10 / 90 White: 900\n",
      "21 Black N/P: 10 / 90 White: 900\n",
      "26 Black N/P: 10 / 90 White: 900\n",
      "26 Black N/P: 10 / 90 White: 900\n",
      "21 Black N/P: 10 / 90 White: 900\n",
      "21 Black N/P: 10 / 90 White: 900\n",
      "23 Black N/P: 10 / 90 White: 900\n",
      "25 Black N/P: 10 / 90 White: 900\n",
      "19 Black N/P: 10 / 90 White: 900\n",
      "20 Black N/P: 10 / 90 White: 900\n",
      "23 Black N/P: 10 / 90 White: 900\n",
      "25 Black N/P: 10 / 90 White: 900\n",
      "19 Black N/P: 10 / 90 White: 900\n",
      "25 Black N/P: 10 / 90 White: 900\n",
      "25 Black N/P: 10 / 90 White: 900\n",
      "23 Black N/P: 10 / 90 White: 900\n",
      "23 Black N/P: 10 / 90 White: 900\n",
      "20 Black N/P: 10 / 90 White: 900\n",
      "26 Black N/P: 10 / 90 White: 900\n",
      "24 Black N/P: 10 / 90 White: 900\n",
      "22 Black N/P: 10 / 90 White: 900\n",
      "21 Black N/P: 10 / 90 White: 900\n",
      "20 Black N/P: 10 / 90 White: 900\n",
      "21 Black N/P: 10 / 90 White: 900\n",
      "22 Black N/P: 10 / 90 White: 900\n",
      "22 Black N/P: 10 / 90 White: 900\n",
      "23 Black N/P: 10 / 90 White: 900\n",
      "24 Black N/P: 10 / 90 White: 900\n",
      "21 Black N/P: 10 / 90 White: 900\n",
      "22 Black N/P: 10 / 90 White: 900\n",
      "25 Black N/P: 10 / 90 White: 900\n",
      "23 Black N/P: 10 / 90 White: 900\n",
      "20 Black N/P: 10 / 90 White: 900\n",
      "22 Black N/P: 10 / 90 White: 900\n",
      "26 Black N/P: 10 / 90 White: 900\n",
      "22 Black N/P: 10 / 90 White: 900\n",
      "24 Black N/P: 10 / 90 White: 900\n",
      "23 Black N/P: 10 / 90 White: 900\n",
      "21 Black N/P: 10 / 90 White: 900\n",
      "159 ms ± 17.3 ms per loop (mean ± std. dev. of 7 runs, 10 loops each)\n",
      "0.1591766242856985\n",
      "0.2\n",
      "43 Black N/P: 40 / 160 White: 800\n",
      "42 Black N/P: 40 / 160 White: 800\n",
      "41 Black N/P: 40 / 160 White: 800\n",
      "38 Black N/P: 40 / 160 White: 800\n",
      "40 Black N/P: 40 / 160 White: 800\n",
      "39 Black N/P: 40 / 160 White: 800\n",
      "41 Black N/P: 40 / 160 White: 800\n",
      "47 Black N/P: 40 / 160 White: 800\n",
      "222 ms ± 24 ms per loop (mean ± std. dev. of 7 runs, 1 loop each)\n",
      "0.22191464285788243\n",
      "0.30000000000000004\n",
      "47 Black N/P: 90 / 210 White: 700\n",
      "54 Black N/P: 90 / 210 White: 700\n",
      "50 Black N/P: 90 / 210 White: 700\n",
      "52 Black N/P: 90 / 210 White: 700\n",
      "56 Black N/P: 90 / 210 White: 700\n",
      "46 Black N/P: 90 / 210 White: 700\n",
      "52 Black N/P: 90 / 210 White: 700\n",
      "48 Black N/P: 90 / 210 White: 700\n",
      "253 ms ± 22.6 ms per loop (mean ± std. dev. of 7 runs, 1 loop each)\n",
      "0.2525636285712868\n",
      "0.4\n",
      "58 Black N/P: 160 / 240 White: 600\n",
      "57 Black N/P: 160 / 240 White: 600\n",
      "62 Black N/P: 160 / 240 White: 600\n",
      "55 Black N/P: 160 / 240 White: 600\n",
      "65 Black N/P: 160 / 240 White: 600\n",
      "64 Black N/P: 160 / 240 White: 600\n",
      "58 Black N/P: 160 / 240 White: 600\n",
      "54 Black N/P: 160 / 240 White: 600\n",
      "317 ms ± 52.7 ms per loop (mean ± std. dev. of 7 runs, 1 loop each)\n",
      "0.316568528571744\n",
      "0.5\n",
      "63 Black N/P: 250 / 250 White: 500\n",
      "64 Black N/P: 250 / 250 White: 500\n",
      "61 Black N/P: 250 / 250 White: 500\n",
      "63 Black N/P: 250 / 250 White: 500\n",
      "56 Black N/P: 250 / 250 White: 500\n",
      "62 Black N/P: 250 / 250 White: 500\n",
      "62 Black N/P: 250 / 250 White: 500\n",
      "64 Black N/P: 250 / 250 White: 500\n",
      "362 ms ± 87.7 ms per loop (mean ± std. dev. of 7 runs, 1 loop each)\n",
      "0.36209985714257137\n",
      "0.6000000000000001\n",
      "58 Black N/P: 360 / 240 White: 400\n",
      "53 Black N/P: 360 / 240 White: 400\n",
      "57 Black N/P: 360 / 240 White: 400\n",
      "56 Black N/P: 360 / 240 White: 400\n",
      "59 Black N/P: 360 / 240 White: 400\n",
      "60 Black N/P: 360 / 240 White: 400\n",
      "63 Black N/P: 360 / 240 White: 400\n",
      "60 Black N/P: 360 / 240 White: 400\n",
      "284 ms ± 33.9 ms per loop (mean ± std. dev. of 7 runs, 1 loop each)\n",
      "0.283975742857105\n",
      "0.7000000000000001\n",
      "60 Black N/P: 490 / 210 White: 300\n",
      "63 Black N/P: 490 / 210 White: 300\n",
      "61 Black N/P: 490 / 210 White: 300\n",
      "63 Black N/P: 490 / 210 White: 300\n",
      "61 Black N/P: 490 / 210 White: 300\n",
      "62 Black N/P: 490 / 210 White: 300\n",
      "61 Black N/P: 490 / 210 White: 300\n",
      "65 Black N/P: 490 / 210 White: 300\n",
      "327 ms ± 84.6 ms per loop (mean ± std. dev. of 7 runs, 1 loop each)\n",
      "0.32699655714324244\n",
      "0.8\n",
      "81 Black N/P: 640 / 160 White: 200\n",
      "81 Black N/P: 640 / 160 White: 200\n",
      "80 Black N/P: 640 / 160 White: 200\n",
      "81 Black N/P: 640 / 160 White: 200\n",
      "76 Black N/P: 640 / 160 White: 200\n",
      "80 Black N/P: 640 / 160 White: 200\n",
      "80 Black N/P: 640 / 160 White: 200\n",
      "84 Black N/P: 640 / 160 White: 200\n",
      "460 ms ± 91.8 ms per loop (mean ± std. dev. of 7 runs, 1 loop each)\n",
      "0.4599702857142672\n",
      "0.9\n",
      "104 Black N/P: 810 / 90 White: 100\n",
      "100 Black N/P: 810 / 90 White: 100\n",
      "98 Black N/P: 810 / 90 White: 100\n",
      "101 Black N/P: 810 / 90 White: 100\n"
     ]
    },
    {
     "name": "stdout",
     "output_type": "stream",
     "text": [
      "105 Black N/P: 810 / 90 White: 100\n",
      "103 Black N/P: 810 / 90 White: 100\n",
      "106 Black N/P: 810 / 90 White: 100\n",
      "101 Black N/P: 810 / 90 White: 100\n",
      "410 ms ± 104 ms per loop (mean ± std. dev. of 7 runs, 1 loop each)\n",
      "0.410372742857362\n"
     ]
    }
   ],
   "source": [
    "# label distributions fixed\n",
    "# fixed |D|, flexible |S| -> if |D| > |S| linear O(n)\n",
    "# fixed |S|, flexible |D| ->  linear O(n), exponential decay O(1/2^-n) when |S| >= |D|\n",
    "# flexible |D| = |S| -> linear O(n)\n",
    "# label distribution flexibel \n",
    "#|D| = |S| linear (with dip)\n",
    "#|D| > |S| linear (with 2 dips)\n",
    "#|D| < |S| linear (with dip)\n",
    "group_size_ratio = [0.99,0.01]\n",
    "black_label_ratio = [0.01,0.99]\n",
    "x_points = []\n",
    "timings = []\n",
    "\n",
    "for j in np.arange(0.0,1.0, 0.1):\n",
    "    print(j)\n",
    "    x_points.append(j)\n",
    "    runtime = %timeit -o load_sample_and_save(data_dir, results_dir+file_name, 100, [j,1.0-j], [j,1.0-j], 1000, round_num_scores, shuffle_seed)\n",
    "\n",
    "    timings.append(runtime.average)\n",
    "    print(runtime.average)\n"
   ]
  },
  {
   "cell_type": "code",
   "execution_count": 27,
   "metadata": {},
   "outputs": [
    {
     "data": {
      "text/plain": [
       "[<matplotlib.lines.Line2D at 0x21203f4f700>]"
      ]
     },
     "execution_count": 27,
     "metadata": {},
     "output_type": "execute_result"
    },
    {
     "data": {
      "image/png": "[encoded data removed]",
      "text/plain": [
       "<Figure size 432x288 with 1 Axes>"
      ]
     },
     "metadata": {
      "needs_background": "light"
     },
     "output_type": "display_data"
    }
   ],
   "source": [
    "plt.plot(x_points, timings) "
   ]
  },
  {
   "cell_type": "markdown",
   "metadata": {},
   "source": [
    "## 2.4 Save the pandas dataframes to CSVs"
   ]
  },
  {
   "cell_type": "code",
   "execution_count": null,
   "metadata": {},
   "outputs": [],
   "source": [
    "data.to_csv(index=False, path_or_buf=results_dir+file_name)\n",
    "\n",
    "# To save the data separately by race\n",
    "#data_A_df.to_csv(index=False, path_or_buf='simData_2decProbs_0decScores_groupA_black.csv')\n",
    "#data_B_df.to_csv(index=False, path_or_buf='simData_2decProbs_0decScores_groupB_white.csv')"
   ]
  },
  {
   "cell_type": "markdown",
   "metadata": {},
   "source": [
    "## 2.5 Inspect the min/max values of the data"
   ]
  },
  {
   "cell_type": "code",
   "execution_count": null,
   "metadata": {},
   "outputs": [],
   "source": [
    "# TODO: make a function for printing the min/max values of the respective groups for score and probability"
   ]
  },
  {
   "cell_type": "code",
   "execution_count": null,
   "metadata": {},
   "outputs": [],
   "source": [
    "inspect_MinMax(samples_A_probs,samples_B_probs)"
   ]
  },
  {
   "cell_type": "code",
   "execution_count": null,
   "metadata": {},
   "outputs": [],
   "source": [
    "import numpy as np\n",
    "import scipy\n",
    "import matplotlib.pyplot as plt\n",
    "import seaborn as sns\n",
    "from collections import Counter\n",
    "\n",
    "total_samples_A = len(samples_A)\n",
    "total_samples_B = len(samples_B)\n",
    "values_A = set(samples_A)\n",
    "values_B = set(samples_B)\n",
    "res_A = Counter(samples_A)\n",
    "res_B = Counter(samples_B)\n",
    "\n",
    "pmf_A = []\n",
    "pmf_B = []\n",
    "for v_A,v_B in zip(values_A,values_B):\n",
    "    pmf_A.append(res_A[v_A]/total_samples_A)\n",
    "    pmf_B.append(res_B[v_B]/total_samples_B)\n",
    "    \n",
    "\n",
    "count1 = 0\n",
    "count2 = 0\n",
    "for e1,e2 in zip(pmf_A,pmf_B):\n",
    "    if e1 < 1/550:\n",
    "        count1 += 1\n",
    "    if e2 < 1/550:\n",
    "        count2 += 1\n",
    "    \n",
    "print('Ratio:',count1/len(pmf_A), count2/len(pmf_B))"
   ]
  },
  {
   "cell_type": "code",
   "execution_count": null,
   "metadata": {},
   "outputs": [],
   "source": [
    "### Masuring the amount of points <1%\n",
    "count1 = 0\n",
    "count2 = 0\n",
    "for e1,e2 in zip(samples_A_probs,samples_B_probs):\n",
    "    if e1 < 1:\n",
    "        count1 += 1\n",
    "    if e2 < 1:\n",
    "        count2 += 1\n",
    "    \n",
    "print('Ratio:',count1/len(samples_A_probs), count2/len(samples_B_probs))"
   ]
  },
  {
   "cell_type": "markdown",
   "metadata": {},
   "source": [
    "## 2.6 Visualize the data"
   ]
  },
  {
   "cell_type": "code",
   "execution_count": null,
   "metadata": {
    "scrolled": true
   },
   "outputs": [],
   "source": [
    "visualize_data_distribution(results_dir,samples_A,samples_A_probs,samples_B,samples_B_probs)"
   ]
  },
  {
   "cell_type": "code",
   "execution_count": null,
   "metadata": {},
   "outputs": [],
   "source": [
    "#visual_scores_by_race(data)"
   ]
  },
  {
   "cell_type": "code",
   "execution_count": null,
   "metadata": {},
   "outputs": [],
   "source": [
    "#visual_repay_dist(data)"
   ]
  },
  {
   "cell_type": "code",
   "execution_count": null,
   "metadata": {},
   "outputs": [],
   "source": []
  }
 ],
 "metadata": {
  "kernelspec": {
   "display_name": "Python 3 (ipykernel)",
   "language": "python",
   "name": "python3"
  },
  "language_info": {
   "codemirror_mode": {
    "name": "ipython",
    "version": 3
   },
   "file_extension": ".py",
   "mimetype": "text/x-python",
   "name": "python",
   "nbconvert_exporter": "python",
   "pygments_lexer": "ipython3",
   "version": "3.8.13"
  }
 },
 "nbformat": 4,
 "nbformat_minor": 4
}
