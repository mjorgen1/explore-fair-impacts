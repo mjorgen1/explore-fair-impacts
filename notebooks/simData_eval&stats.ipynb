{
 "cells": [
  {
   "cell_type": "markdown",
   "metadata": {},
   "source": [
    "## 1. Imports\n"
   ]
  },
  {
   "cell_type": "code",
   "execution_count": 2,
   "metadata": {},
   "outputs": [],
   "source": [
    "import sys\n",
    "sys.path.append('../')\n",
    "from visualizations import impact_bar_plots\n",
    "from evaluation import *\n",
    "from testing import *\n",
    "import numpy as np\n",
    "import pandas as pd\n",
    "import matplotlib.pyplot as plt\n",
    "from scipy import stats"
   ]
  },
  {
   "cell_type": "code",
   "execution_count": 3,
   "metadata": {},
   "outputs": [],
   "source": [
    "data_path = '../data/results/test_1/'\n",
    "folders= ['dt','gnb','lgr','gbt']\n",
    "folders = ['dt']"
   ]
  },
  {
   "cell_type": "markdown",
   "metadata": {},
   "source": [
    "## 2. DI_plots and CSV"
   ]
  },
  {
   "cell_type": "code",
   "execution_count": null,
   "metadata": {},
   "outputs": [],
   "source": [
    "impact_bar_plots(data_path = '../data/results/test_3/',b_or_w = 'black',folders= ['dt','gnb','lgr','gbt'])\n",
    "impact_bar_plots(data_path = '../data/results/test_3/',b_or_w = 'white',folders= ['dt','gnb','lgr','gbt'])"
   ]
  },
  {
   "cell_type": "code",
   "execution_count": 4,
   "metadata": {},
   "outputs": [
    {
     "name": "stdout",
     "output_type": "stream",
     "text": [
      "Group:  black \n",
      " DataFrame: \n",
      "              EG+DT  EG+GNB  EG+LGR  EG+GBT  GS+DT  GS+GNB  GS+LGR  GS+GBT\n",
      "Constraint                                                               \n",
      "Unmitigated   8.03    0.00    8.33    8.05   8.03    0.00    8.33    8.05\n",
      "DP          -34.85  -23.87  -36.30  -36.40 -52.12    0.00  -52.12  -52.12\n",
      "EO           -0.32   -9.72   -4.31   -0.51   8.03  -10.79    8.33    8.05\n",
      "EOO         -11.25  -15.22  -12.70   -8.63 -22.91  -18.70  -26.82  -22.08\n",
      "FPER         -0.82  -14.36   -3.55   -0.28   8.03    0.00    8.33    8.05\n",
      "ERP           8.03    8.33    8.14    8.35   8.03    8.98    8.33    8.05\n",
      "A\n",
      "B\n",
      "Group:  white \n",
      " DataFrame: \n",
      "              EG+DT  EG+GNB  EG+LGR  EG+GBT  GS+DT  GS+GNB  GS+LGR  GS+GBT\n",
      "Constraint                                                               \n",
      "Unmitigated  38.49   36.19   37.93   38.49  38.49   36.19   37.93   38.49\n",
      "DP           38.78   19.93   38.75   38.95  39.11   36.19   39.07   39.07\n",
      "EO           37.62   35.38   36.73   37.54  38.49   23.86   37.93   38.49\n",
      "EOO          38.95   38.58   38.89   39.05  39.11   38.76   39.07   39.11\n",
      "FPER         38.95   26.24   38.56   38.95  38.49   36.19   37.93   38.49\n",
      "ERP          36.55   37.64   35.89   36.28  38.49   29.92   37.93   38.49\n",
      "A\n",
      "B\n"
     ]
    },
    {
     "name": "stderr",
     "output_type": "stream",
     "text": [
      "C:\\Users\\HaRi\\Documents\\GitHub\\delayedimpact-daadww\\notebooks\\..\\testing.py:38: SettingWithCopyWarning: \n",
      "A value is trying to be set on a copy of a slice from a DataFrame.\n",
      "Try using .loc[row_indexer,col_indexer] = value instead\n",
      "\n",
      "See the caveats in the documentation: https://pandas.pydata.org/pandas-docs/stable/user_guide/indexing.html#returning-a-view-versus-a-copy\n",
      "  df_eg['Constraint'] = ['Unmitigated', 'DP', 'EO', 'EOO','FPER','ERP']\n",
      "C:\\Users\\HaRi\\Documents\\GitHub\\delayedimpact-daadww\\notebooks\\..\\testing.py:38: SettingWithCopyWarning: \n",
      "A value is trying to be set on a copy of a slice from a DataFrame.\n",
      "Try using .loc[row_indexer,col_indexer] = value instead\n",
      "\n",
      "See the caveats in the documentation: https://pandas.pydata.org/pandas-docs/stable/user_guide/indexing.html#returning-a-view-versus-a-copy\n",
      "  df_eg['Constraint'] = ['Unmitigated', 'DP', 'EO', 'EOO','FPER','ERP']\n"
     ]
    }
   ],
   "source": [
    "impact_csvs(data_path= '../data/results/test_3/',b_or_w = 'black', folders= ['dt','gnb','lgr','gbt'])\n",
    "impact_csvs(data_path= '../data/results/test_3/',b_or_w = 'white', folders= ['dt','gnb','lgr','gbt'])"
   ]
  },
  {
   "cell_type": "markdown",
   "metadata": {},
   "source": [
    "## 3. FP/TP/TN/FN Ratios"
   ]
  },
  {
   "cell_type": "code",
   "execution_count": 5,
   "metadata": {},
   "outputs": [
    {
     "name": "stdout",
     "output_type": "stream",
     "text": [
      "Classifier:  dt \n",
      " DataFrame: \n",
      " ID        egdpB     egdpW     egeoB     egeoW    egerpB    egerpW   egfprpB  \\\n",
      "Value                                                                         \n",
      "FN     0.012031  0.054378  0.039452  0.089874  0.096530  0.072126  0.039452   \n",
      "FP     0.419138  0.064633  0.145775  0.054605  0.061556  0.073072  0.149133   \n",
      "TN     0.245383  0.175358  0.518747  0.185386  0.602966  0.166919  0.515389   \n",
      "TP     0.323447  0.705631  0.296027  0.670135  0.238948  0.687883  0.296027   \n",
      "\n",
      "ID      egfprpW   egtprpB   egtprpW     gsdpB     gsdpW     gseoB     gseoW  \\\n",
      "Value                                                                         \n",
      "FN     0.057708  0.027420  0.058087       NaN  0.084273  0.096530  0.046999   \n",
      "FP     0.061833  0.224678  0.061606  0.664522  0.047491  0.061556  0.070234   \n",
      "TN     0.178158  0.439843  0.178385       NaN  0.192500  0.602966  0.169757   \n",
      "TP     0.702301  0.308058  0.701922  0.335478  0.675736  0.238948  0.713010   \n",
      "\n",
      "ID       gserpB    gserpW   gsfprpB   gsfprpW   gstprpB   gstprpW     testB  \\\n",
      "Value                                                                         \n",
      "FN     0.096530  0.046999  0.096530  0.046999  0.020425  0.084273       NaN   \n",
      "FP     0.061556  0.070234  0.061556  0.070234  0.310017  0.047491       NaN   \n",
      "TN     0.602966  0.169757  0.602966  0.169757  0.354505  0.192500  0.664522   \n",
      "TP     0.238948  0.713010  0.238948  0.713010  0.315053  0.675736  0.335478   \n",
      "\n",
      "ID        testW    unmitB    unmitW  \n",
      "Value                                \n",
      "FN          NaN  0.096530  0.046999  \n",
      "FP          NaN  0.061556  0.070234  \n",
      "TN     0.239991  0.602966  0.169757  \n",
      "TP     0.760009  0.238948  0.713010  \n",
      "Classifier:  lgr \n",
      " DataFrame: \n",
      " ID        egdpB     egdpW     egeoB     egeoW    egerpB    egerpW   egfprpB  \\\n",
      "Value                                                                         \n",
      "FN     0.009793  0.051616  0.035534  0.079164  0.091214  0.079656  0.035534   \n",
      "FP     0.424175  0.066185  0.175154  0.065882  0.063514  0.071218  0.169278   \n",
      "TN     0.240347  0.173806  0.489368  0.174109  0.601007  0.168773  0.495243   \n",
      "TP     0.325686  0.708393  0.299944  0.680845  0.244264  0.680353  0.299944   \n",
      "\n",
      "ID      egfprpW   egtprpB   egtprpW     gsdpB     gsdpW     gseoB     gseoW  \\\n",
      "Value                                                                         \n",
      "FN     0.048361  0.024342  0.055400       NaN  0.087641  0.095411  0.041777   \n",
      "FP     0.069099  0.235870  0.063347  0.664522  0.046053  0.060157  0.076591   \n",
      "TN     0.170892  0.428651  0.176644       NaN  0.193938  0.604365  0.163400   \n",
      "TP     0.711648  0.311136  0.704609  0.335478  0.672368  0.240067  0.718232   \n",
      "\n",
      "ID       gserpB    gserpW   gsfprpB   gsfprpW   gstprpB   gstprpW     testB  \\\n",
      "Value                                                                         \n",
      "FN     0.095411  0.041777  0.095411  0.041777  0.015109  0.084008       NaN   \n",
      "FP     0.060157  0.076591  0.060157  0.076591  0.334639  0.047832       NaN   \n",
      "TN     0.604365  0.163400  0.604365  0.163400  0.329882  0.192159  0.664522   \n",
      "TP     0.240067  0.718232  0.240067  0.718232  0.320369  0.676001  0.335478   \n",
      "\n",
      "ID        testW    unmitB    unmitW  \n",
      "Value                                \n",
      "FN          NaN  0.095411  0.041777  \n",
      "FP          NaN  0.060157  0.076591  \n",
      "TN     0.239991  0.604365  0.163400  \n",
      "TP     0.760009  0.240067  0.718232  \n",
      "Classifier:  gbt \n",
      " DataFrame: \n",
      " ID        egdpB     egdpW     egeoB     egeoW    egerpB    egerpW   egfprpB  \\\n",
      "Value                                                                         \n",
      "FN     0.010632  0.058087  0.038053  0.089344  0.090095  0.072656  0.038332   \n",
      "FP     0.412423  0.061606  0.147734  0.055400  0.062675  0.074586  0.146055   \n",
      "TN     0.252098  0.178385  0.516788  0.184591  0.601847  0.165405  0.518467   \n",
      "TP     0.324846  0.701922  0.297426  0.670665  0.245383  0.687353  0.297146   \n",
      "\n",
      "ID      egfprpW   egtprpB   egtprpW     gsdpB     gsdpW     gseoB     gseoW  \\\n",
      "Value                                                                         \n",
      "FN     0.058087  0.028819  0.063914       NaN  0.077916  0.086738  0.046999   \n",
      "FP     0.061606  0.206491  0.058049  0.664522  0.050935  0.066312  0.070234   \n",
      "TN     0.178385  0.458030  0.181942       NaN  0.189056  0.598209  0.169757   \n",
      "TP     0.701922  0.306659  0.696095  0.335478  0.682093  0.248741  0.713010   \n",
      "\n",
      "ID       gserpB    gserpW   gsfprpB   gsfprpW   gstprpB   gstprpW     testB  \\\n",
      "Value                                                                         \n",
      "FN     0.086738  0.046999  0.086738  0.046999  0.018467  0.080640       NaN   \n",
      "FP     0.066312  0.070234  0.066312  0.070234  0.301343  0.049270       NaN   \n",
      "TN     0.598209  0.169757  0.598209  0.169757  0.363179  0.190721  0.664522   \n",
      "TP     0.248741  0.713010  0.248741  0.713010  0.317012  0.679369  0.335478   \n",
      "\n",
      "ID        testW    unmitB    unmitW  \n",
      "Value                                \n",
      "FN          NaN  0.086738  0.046999  \n",
      "FP          NaN  0.066312  0.070234  \n",
      "TN     0.239991  0.598209  0.169757  \n",
      "TP     0.760009  0.248741  0.713010  \n",
      "Classifier:  gnb \n",
      " DataFrame: \n",
      " ID        egdpB     egdpW     egeoB     egeoW    egerpB    egerpW   egfprpB  \\\n",
      "Value                                                                         \n",
      "FN     0.184667  0.354083  0.031058  0.068455  0.095411  0.104707  0.245943   \n",
      "FP     0.300504  0.052789  0.218802  0.081359  0.060157  0.047983  0.175154   \n",
      "TN     0.364018  0.187202  0.445719  0.158632  0.604365  0.192008  0.489368   \n",
      "TP     0.150811  0.405926  0.304421  0.691554  0.240067  0.655302  0.089536   \n",
      "\n",
      "ID      egfprpW   egtprpB   egtprpW     gsdpB     gsdpW     gseoB     gseoW  \\\n",
      "Value                                                                         \n",
      "FN     0.228638  0.023223  0.050064  0.335478  0.030538  0.026861  0.002762   \n",
      "FP     0.069250  0.253218  0.068077       NaN  0.093771  0.221880  0.197041   \n",
      "TN     0.170741  0.411304  0.171914  0.664522  0.146220  0.442641  0.042950   \n",
      "TP     0.531371  0.312255  0.709945       NaN  0.729471  0.308618  0.757247   \n",
      "\n",
      "ID       gserpB    gserpW   gsfprpB   gsfprpW   gstprpB   gstprpW     testB  \\\n",
      "Value                                                                         \n",
      "FN     0.103525  0.012563  0.335478  0.030538  0.020425  0.052978       NaN   \n",
      "FP     0.051763  0.144592       NaN  0.093771  0.277840  0.065428       NaN   \n",
      "TN     0.612759  0.095398  0.664522  0.146220  0.386682  0.174563  0.664522   \n",
      "TP     0.231953  0.747446       NaN  0.729471  0.315053  0.707031  0.335478   \n",
      "\n",
      "ID        testW    unmitB    unmitW  \n",
      "Value                                \n",
      "FN          NaN  0.335478  0.030538  \n",
      "FP          NaN       NaN  0.093771  \n",
      "TN     0.239991  0.664522  0.146220  \n",
      "TP     0.760009       NaN  0.729471  \n"
     ]
    }
   ],
   "source": [
    "types_ratios_csv(data_path = '../data/results/test_3/',folders= ['dt','lgr','gbt','gnb'])"
   ]
  },
  {
   "cell_type": "markdown",
   "metadata": {},
   "source": [
    "## 4. Score Distributions"
   ]
  },
  {
   "cell_type": "markdown",
   "metadata": {},
   "source": [
    "Loading All Scores and splitting it into multiple dataframes"
   ]
  },
  {
   "cell_type": "code",
   "execution_count": null,
   "metadata": {},
   "outputs": [],
   "source": [
    "classifier_dfs = {}\n",
    "dfs_b = {}\n",
    "dfs_w = {}\n",
    "dfs_eg = {}\n",
    "dfs_gs = {}\n",
    "for f in folders:\n",
    "    path = f'{data_path}{f}/{f}_all_scores.csv'\n",
    "    df = pd.read_csv(path)\n",
    "    df = df.reset_index(drop=True)\n",
    "    \n",
    "\n",
    "    df_black = df.filter(like='B')\n",
    "    df_white = df.filter(like='W')\n",
    "    df_eg = pd.concat([df.iloc[:,:4],df.filter(like='eg')],axis=1)\n",
    "    df_gs = pd.concat([df.iloc[:,:4],df.filter(like='gs')],axis=1)\n",
    "    \n",
    "    classifier_dfs[f] = df\n",
    "    dfs_b[f] = df_black\n",
    "    dfs_w[f] = df_white\n",
    "    dfs_eg[f] = df_eg\n",
    "    dfs_gs[f] = df_gs"
   ]
  },
  {
   "cell_type": "markdown",
   "metadata": {},
   "source": [
    "Checking if normal distributions:"
   ]
  },
  {
   "cell_type": "code",
   "execution_count": null,
   "metadata": {},
   "outputs": [],
   "source": [
    "for c,df in classifier_dfs.items():\n",
    "    for col in df:\n",
    "        print(col)\n",
    "        data=df[col].dropna(axis=0)\n",
    "        print(stats.kstest(data, \"norm\"))"
   ]
  },
  {
   "cell_type": "code",
   "execution_count": null,
   "metadata": {},
   "outputs": [],
   "source": [
    "\n",
    "\n",
    "for c,df in classifier_dfs.items():\n",
    "    fig,axes = plt.subplots(nrows= 5)\n",
    "    \n",
    "    for i in range(5):\n",
    "        axes[i] = plt.plot(df.iloc[:,i].value_counts().sort_index())\n",
    "        plt.tight_layout()\n",
    "        plt.show()\n",
    "        "
   ]
  },
  {
   "cell_type": "code",
   "execution_count": null,
   "metadata": {},
   "outputs": [],
   "source": []
  },
  {
   "cell_type": "code",
   "execution_count": null,
   "metadata": {},
   "outputs": [],
   "source": []
  },
  {
   "cell_type": "code",
   "execution_count": null,
   "metadata": {},
   "outputs": [],
   "source": []
  }
 ],
 "metadata": {
  "kernelspec": {
   "display_name": "Python 3 (ipykernel)",
   "language": "python",
   "name": "python3"
  },
  "language_info": {
   "codemirror_mode": {
    "name": "ipython",
    "version": 3
   },
   "file_extension": ".py",
   "mimetype": "text/x-python",
   "name": "python",
   "nbconvert_exporter": "python",
   "pygments_lexer": "ipython3",
   "version": "3.8.13"
  }
 },
 "nbformat": 4,
 "nbformat_minor": 4
}
